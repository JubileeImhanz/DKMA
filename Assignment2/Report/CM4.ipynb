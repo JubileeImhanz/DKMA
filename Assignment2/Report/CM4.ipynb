{
 "cells": [
  {
   "cell_type": "markdown",
   "metadata": {},
   "source": [
    "### Naive Bayes Classifier"
   ]
  },
  {
   "cell_type": "code",
   "execution_count": 1,
   "metadata": {
    "scrolled": true
   },
   "outputs": [],
   "source": [
    "# importing the libraries\n",
    "import pandas as pd\n",
    "import numpy as np\n",
    "import seaborn as sns\n",
    "import matplotlib.pyplot as plt\n",
    "from sklearn.metrics import confusion_matrix, f1_score, accuracy_score, roc_auc_score\n",
    "from sklearn.preprocessing import StandardScaler, MinMaxScaler, RobustScaler"
   ]
  },
  {
   "cell_type": "code",
   "execution_count": 2,
   "metadata": {
    "scrolled": true
   },
   "outputs": [
    {
     "name": "stderr",
     "output_type": "stream",
     "text": [
      "b'Skipping line 8: expected 8 fields, saw 10\\nSkipping line 36: expected 8 fields, saw 10\\nSkipping line 61: expected 8 fields, saw 9\\nSkipping line 69: expected 8 fields, saw 9\\nSkipping line 107: expected 8 fields, saw 9\\nSkipping line 136: expected 8 fields, saw 9\\nSkipping line 170: expected 8 fields, saw 9\\nSkipping line 171: expected 8 fields, saw 9\\nSkipping line 173: expected 8 fields, saw 9\\nSkipping line 202: expected 8 fields, saw 9\\nSkipping line 204: expected 8 fields, saw 9\\n'\n"
     ]
    }
   ],
   "source": [
    "# importing the dataset\n",
    "dataset = pd.read_csv('seeds_dataset.txt', sep=\"\\t\", error_bad_lines=False, warn_bad_lines=True, header = None)\n",
    "dataset.columns=['area','perimeter','compactness','length_kernel','width_kernel','asymmetry_coeff','length_of_kernel_groove','target']"
   ]
  },
  {
   "cell_type": "code",
   "execution_count": 3,
   "metadata": {
    "scrolled": true
   },
   "outputs": [
    {
     "data": {
      "text/html": [
       "<div>\n",
       "<style scoped>\n",
       "    .dataframe tbody tr th:only-of-type {\n",
       "        vertical-align: middle;\n",
       "    }\n",
       "\n",
       "    .dataframe tbody tr th {\n",
       "        vertical-align: top;\n",
       "    }\n",
       "\n",
       "    .dataframe thead th {\n",
       "        text-align: right;\n",
       "    }\n",
       "</style>\n",
       "<table border=\"1\" class=\"dataframe\">\n",
       "  <thead>\n",
       "    <tr style=\"text-align: right;\">\n",
       "      <th></th>\n",
       "      <th>area</th>\n",
       "      <th>perimeter</th>\n",
       "      <th>compactness</th>\n",
       "      <th>length_kernel</th>\n",
       "      <th>width_kernel</th>\n",
       "      <th>asymmetry_coeff</th>\n",
       "      <th>length_of_kernel_groove</th>\n",
       "      <th>target</th>\n",
       "    </tr>\n",
       "  </thead>\n",
       "  <tbody>\n",
       "    <tr>\n",
       "      <th>0</th>\n",
       "      <td>15.26</td>\n",
       "      <td>14.84</td>\n",
       "      <td>0.8710</td>\n",
       "      <td>5.763</td>\n",
       "      <td>3.312</td>\n",
       "      <td>2.221</td>\n",
       "      <td>5.220</td>\n",
       "      <td>1</td>\n",
       "    </tr>\n",
       "    <tr>\n",
       "      <th>1</th>\n",
       "      <td>14.88</td>\n",
       "      <td>14.57</td>\n",
       "      <td>0.8811</td>\n",
       "      <td>5.554</td>\n",
       "      <td>3.333</td>\n",
       "      <td>1.018</td>\n",
       "      <td>4.956</td>\n",
       "      <td>1</td>\n",
       "    </tr>\n",
       "    <tr>\n",
       "      <th>2</th>\n",
       "      <td>14.29</td>\n",
       "      <td>14.09</td>\n",
       "      <td>0.9050</td>\n",
       "      <td>5.291</td>\n",
       "      <td>3.337</td>\n",
       "      <td>2.699</td>\n",
       "      <td>4.825</td>\n",
       "      <td>1</td>\n",
       "    </tr>\n",
       "    <tr>\n",
       "      <th>3</th>\n",
       "      <td>13.84</td>\n",
       "      <td>13.94</td>\n",
       "      <td>0.8955</td>\n",
       "      <td>5.324</td>\n",
       "      <td>3.379</td>\n",
       "      <td>2.259</td>\n",
       "      <td>4.805</td>\n",
       "      <td>1</td>\n",
       "    </tr>\n",
       "    <tr>\n",
       "      <th>4</th>\n",
       "      <td>16.14</td>\n",
       "      <td>14.99</td>\n",
       "      <td>0.9034</td>\n",
       "      <td>5.658</td>\n",
       "      <td>3.562</td>\n",
       "      <td>1.355</td>\n",
       "      <td>5.175</td>\n",
       "      <td>1</td>\n",
       "    </tr>\n",
       "  </tbody>\n",
       "</table>\n",
       "</div>"
      ],
      "text/plain": [
       "    area  perimeter  compactness  length_kernel  width_kernel  \\\n",
       "0  15.26      14.84       0.8710          5.763         3.312   \n",
       "1  14.88      14.57       0.8811          5.554         3.333   \n",
       "2  14.29      14.09       0.9050          5.291         3.337   \n",
       "3  13.84      13.94       0.8955          5.324         3.379   \n",
       "4  16.14      14.99       0.9034          5.658         3.562   \n",
       "\n",
       "   asymmetry_coeff  length_of_kernel_groove  target  \n",
       "0            2.221                    5.220       1  \n",
       "1            1.018                    4.956       1  \n",
       "2            2.699                    4.825       1  \n",
       "3            2.259                    4.805       1  \n",
       "4            1.355                    5.175       1  "
      ]
     },
     "execution_count": 3,
     "metadata": {},
     "output_type": "execute_result"
    }
   ],
   "source": [
    "dataset.head(5)"
   ]
  },
  {
   "cell_type": "code",
   "execution_count": 4,
   "metadata": {
    "scrolled": true
   },
   "outputs": [],
   "source": [
    "# Handling Outliers by replacing them with group mean\n",
    "for column in dataset.columns[:-1]:\n",
    "    for target in dataset[\"target\"].unique():\n",
    "        Q1 = dataset[column][dataset[\"target\"] == target].quantile(0.25)\n",
    "        Q3 = dataset[column][dataset[\"target\"] == target].quantile(0.75)\n",
    "        IQR = Q3 - Q1 #Interquartile range\n",
    "        fence_low = Q1 - (1.5 * IQR)\n",
    "        fence_high = Q3 + (1.5 * IQR)\n",
    "\n",
    "        df2 = pd.DataFrame(dataset[dataset['target'] == target][column])\n",
    "\n",
    "        for index in df2[df2[column] < fence_low].index:\n",
    "            dataset.loc[index, column] = np.nan\n",
    "        for index in df2[df2[column] > fence_high].index:\n",
    "            dataset.loc[index, column] = np.nan \n",
    "\n",
    "group_mean = dataset.groupby(\"target\").mean()\n",
    "for column in dataset.columns[:-1]:\n",
    "    for index in dataset[dataset[column].isna()].index:\n",
    "        target = dataset.iloc[index,-1]\n",
    "        dataset.loc[index, column] = group_mean[column][target]"
   ]
  },
  {
   "cell_type": "code",
   "execution_count": 5,
   "metadata": {},
   "outputs": [],
   "source": [
    "data = dataset.copy()\n",
    "\n",
    "# Separating the dataset into matrix of features and target'\n",
    "X = dataset.iloc[:,:-1].values\n",
    "y = dataset.iloc[:,-1].values"
   ]
  },
  {
   "cell_type": "code",
   "execution_count": 6,
   "metadata": {},
   "outputs": [],
   "source": [
    "from sklearn.model_selection import train_test_split\n",
    "X_train_1, X_test_1, y_train_1, y_test_1 = train_test_split(X, y, test_size=0.2, random_state=0)"
   ]
  },
  {
   "cell_type": "markdown",
   "metadata": {},
   "source": [
    "### Base Model\n"
   ]
  },
  {
   "cell_type": "code",
   "execution_count": 7,
   "metadata": {},
   "outputs": [
    {
     "name": "stdout",
     "output_type": "stream",
     "text": [
      "Wall time: 56 ms\n"
     ]
    },
    {
     "data": {
      "text/plain": [
       "GaussianNB(var_smoothing=0.001)"
      ]
     },
     "execution_count": 7,
     "metadata": {},
     "output_type": "execute_result"
    }
   ],
   "source": [
    "%%time\n",
    "from sklearn.model_selection import GridSearchCV\n",
    "\n",
    "# Fitting the Classification Model\n",
    "from sklearn.naive_bayes import GaussianNB\n",
    "nb = GaussianNB()\n",
    "\n",
    "nb_params = [{'var_smoothing':[1e-10, 1e-9, 1e-5, 1e-3, 1e-1]}]\n",
    "nb_grid = GridSearchCV(nb, nb_params, cv=10)\n",
    "nb_grid.fit(X_train_1, y_train_1)\n",
    "nb_average_score = nb_grid.cv_results_['mean_test_score'].astype(float)\n",
    "result = nb_grid.cv_results_\n",
    "nb_grid.best_estimator_"
   ]
  },
  {
   "cell_type": "code",
   "execution_count": 8,
   "metadata": {},
   "outputs": [
    {
     "data": {
      "text/plain": [
       "array([0.95   , 0.95   , 0.95   , 0.95625, 0.9375 ])"
      ]
     },
     "execution_count": 8,
     "metadata": {},
     "output_type": "execute_result"
    }
   ],
   "source": [
    "nb_average_score"
   ]
  },
  {
   "cell_type": "code",
   "execution_count": 9,
   "metadata": {},
   "outputs": [
    {
     "data": {
      "image/png": "[encoded data removed]",
      "text/plain": [
       "<Figure size 432x288 with 1 Axes>"
      ]
     },
     "metadata": {
      "needs_background": "light"
     },
     "output_type": "display_data"
    }
   ],
   "source": [
    "plt.figure()\n",
    "sns.lineplot(x=[\"1e-10\", \"1e-9\", \"1e-5\", \"1e-3\", \"1e-1\"], y=nb_average_score)\n",
    "plt.show()"
   ]
  },
  {
   "cell_type": "code",
   "execution_count": 10,
   "metadata": {
    "scrolled": true
   },
   "outputs": [
    {
     "name": "stdout",
     "output_type": "stream",
     "text": [
      "Training Set Evaluation\n",
      "Accuracy:  96.23\n",
      "F1_score:  0.96\n",
      "AUC:  1.0\n",
      "Wall time: 8.96 ms\n"
     ]
    }
   ],
   "source": [
    "%%time\n",
    "# Building model with optimal parameters\n",
    "nb_1 = GaussianNB(var_smoothing=0.001)\n",
    "nb_1.fit(X_train_1, y_train_1)\n",
    "\n",
    "print(\"Training Set Evaluation\")\n",
    "print(\"Accuracy: \", round(100 * accuracy_score(y_train_1, nb_1.predict(X_train_1)), 2))\n",
    "print(\"F1_score: \", round(f1_score(y_train_1, nb_1.predict(X_train_1), average = 'weighted'), 2))\n",
    "print(\"AUC: \", round(roc_auc_score(y_train_1, nb_1.predict_proba(X_train_1), average = \"macro\", multi_class = \"ovo\"), 2))"
   ]
  },
  {
   "cell_type": "code",
   "execution_count": 11,
   "metadata": {},
   "outputs": [
    {
     "name": "stdout",
     "output_type": "stream",
     "text": [
      "Test Set Evaluation\n",
      "Accuracy:  95.0\n",
      "F1_score:  0.95\n",
      "AUC:  0.99\n"
     ]
    }
   ],
   "source": [
    "# Evaluating the model on the test set\n",
    "nb_pred = nb_1.predict(X_test_1)\n",
    "\n",
    "print(\"Test Set Evaluation\")\n",
    "print(\"Accuracy: \", round(100 * accuracy_score(y_test_1, nb_pred), 2))\n",
    "print(\"F1_score: \", round(f1_score(y_test_1, nb_pred, average = 'weighted'), 2))\n",
    "print(\"AUC: \", round(roc_auc_score(y_test_1, nb_1.predict_proba(X_test_1), average = \"macro\", multi_class = \"ovo\"), 2))"
   ]
  },
  {
   "cell_type": "markdown",
   "metadata": {},
   "source": [
    "## <span style=\"color:blue\"> Notes About Smoothing Parameter </span>\n",
    "1e-3 is the best smoothing parameter with a training accuracy of 96.23% and test accuracy of 95%\n",
    "\n",
    "A Gaussian curve can serve as a \"low pass\" filter, allowing only the samples close to its mean to \"pass.\" In the context of Naive Bayes, assuming a Gaussian distribution is essentially giving more weights to the samples closer to the distribution mean. This might filter out some values that we want to \"pass\".\n",
    "\n",
    "The variable, var_smoothing, artificially adds a user-defined value to the distribution's variance (whose default value is derived from the training data set). This essentially widens (or \"smooths\") the curve and accounts for more samples that are further away from the distribution mean.\n",
    "\n",
    "Tuning this parameter, will also modify the variance in a way that will give the best accuracy"
   ]
  },
  {
   "cell_type": "markdown",
   "metadata": {},
   "source": [
    "### Improving the model computation by removing multicollinear features "
   ]
  },
  {
   "cell_type": "code",
   "execution_count": 12,
   "metadata": {},
   "outputs": [],
   "source": [
    "dataset2 = data[['area', 'compactness' , 'width_kernel', 'asymmetry_coeff', 'length_of_kernel_groove', 'target']]\n",
    "\n",
    "# Separating the dataset into matrix of features and target'\n",
    "X = dataset2.iloc[:,:-1].values\n",
    "y = dataset2.iloc[:,-1].values"
   ]
  },
  {
   "cell_type": "code",
   "execution_count": 13,
   "metadata": {},
   "outputs": [],
   "source": [
    "X_train, X_test, y_train, y_test = train_test_split(X, y, test_size=0.2, random_state=0)"
   ]
  },
  {
   "cell_type": "code",
   "execution_count": 14,
   "metadata": {},
   "outputs": [
    {
     "name": "stdout",
     "output_type": "stream",
     "text": [
      "Wall time: 55 ms\n"
     ]
    },
    {
     "data": {
      "text/plain": [
       "GaussianNB(var_smoothing=0.001)"
      ]
     },
     "execution_count": 14,
     "metadata": {},
     "output_type": "execute_result"
    }
   ],
   "source": [
    "%%time\n",
    "\n",
    "# Fitting the Classification Model\n",
    "nb_grid.fit(X_train, y_train)\n",
    "nb_average_score = nb_grid.cv_results_['mean_test_score'].astype(float)\n",
    "result = nb_grid.cv_results_\n",
    "nb_grid.best_estimator_"
   ]
  },
  {
   "cell_type": "code",
   "execution_count": 15,
   "metadata": {},
   "outputs": [
    {
     "data": {
      "text/plain": [
       "array([0.94375, 0.94375, 0.94375, 0.9625 , 0.94375])"
      ]
     },
     "execution_count": 15,
     "metadata": {},
     "output_type": "execute_result"
    }
   ],
   "source": [
    "nb_average_score"
   ]
  },
  {
   "cell_type": "code",
   "execution_count": 16,
   "metadata": {},
   "outputs": [
    {
     "data": {
      "image/png": "[encoded data removed]",
      "text/plain": [
       "<Figure size 432x288 with 1 Axes>"
      ]
     },
     "metadata": {
      "needs_background": "light"
     },
     "output_type": "display_data"
    }
   ],
   "source": [
    "plt.figure()\n",
    "sns.lineplot(x=[\"1e-10\", \"1e-9\", \"1e-5\", \"1e-3\", \"1e-1\"], y=nb_average_score)\n",
    "plt.show()"
   ]
  },
  {
   "cell_type": "code",
   "execution_count": 17,
   "metadata": {},
   "outputs": [
    {
     "name": "stdout",
     "output_type": "stream",
     "text": [
      "Training Set Evaluation\n",
      "Accuracy:  96.86\n",
      "F1_score:  0.97\n",
      "AUC:  1.0\n",
      "Wall time: 10 ms\n"
     ]
    }
   ],
   "source": [
    "%%time\n",
    "# Building model with optimal parameters\n",
    "nb = GaussianNB(var_smoothing=0.001)\n",
    "nb.fit(X_train, y_train)\n",
    "\n",
    "print(\"Training Set Evaluation\")\n",
    "print(\"Accuracy: \", round(100 * accuracy_score(y_train, nb.predict(X_train)), 2))\n",
    "print(\"F1_score: \", round(f1_score(y_train, nb.predict(X_train), average = 'weighted'), 2))\n",
    "print(\"AUC: \", round(roc_auc_score(y_train, nb.predict_proba(X_train), average = \"macro\", multi_class = \"ovo\"), 2))"
   ]
  },
  {
   "cell_type": "code",
   "execution_count": 18,
   "metadata": {},
   "outputs": [
    {
     "name": "stdout",
     "output_type": "stream",
     "text": [
      "Test Set Evaluation\n",
      "Accuracy:  92.5\n",
      "F1_score:  0.92\n",
      "AUC:  0.99\n"
     ]
    }
   ],
   "source": [
    "# Evaluating the model on the test set\n",
    "nb_pred = nb.predict(X_test)\n",
    "\n",
    "print(\"Test Set Evaluation\")\n",
    "print(\"Accuracy: \", round(100 * accuracy_score(y_test, nb_pred), 2))\n",
    "print(\"F1_score: \", round(f1_score(y_test, nb_pred, average = 'weighted'), 2))\n",
    "print(\"AUC: \", round(roc_auc_score(y_test, nb.predict_proba(X_test), average = \"macro\", multi_class = \"ovo\"), 2))"
   ]
  },
  {
   "cell_type": "markdown",
   "metadata": {},
   "source": [
    "### <span style=\"color:blue\">Effect of removing multicolinear features</span>\n",
    "\n",
    "- The training set accuracy increased from 96.23% to 96.86%.\n",
    "- The test set accuracy reduced from 95% to 92.5%."
   ]
  },
  {
   "cell_type": "markdown",
   "metadata": {},
   "source": [
    "### Improving the model by feature scaling"
   ]
  },
  {
   "cell_type": "markdown",
   "metadata": {},
   "source": [
    "##### Standard Scaler"
   ]
  },
  {
   "cell_type": "code",
   "execution_count": 19,
   "metadata": {},
   "outputs": [
    {
     "data": {
      "text/plain": [
       "GaussianNB(var_smoothing=0.1)"
      ]
     },
     "execution_count": 19,
     "metadata": {},
     "output_type": "execute_result"
    }
   ],
   "source": [
    "X_scaler = StandardScaler()\n",
    "X_SS = X_scaler.fit_transform(X_train)\n",
    "X_SS_test = X_scaler.transform(X_test)\n",
    "nb_grid.fit(X_SS, y_train)\n",
    "nb_average_score = nb_grid.cv_results_['mean_test_score'].astype(float)\n",
    "result = nb_grid.cv_results_\n",
    "nb_grid.best_estimator_"
   ]
  },
  {
   "cell_type": "code",
   "execution_count": 20,
   "metadata": {},
   "outputs": [
    {
     "data": {
      "text/plain": [
       "array([0.94375, 0.94375, 0.94375, 0.94375, 0.95   ])"
      ]
     },
     "execution_count": 20,
     "metadata": {},
     "output_type": "execute_result"
    }
   ],
   "source": [
    "nb_average_score"
   ]
  },
  {
   "cell_type": "code",
   "execution_count": 21,
   "metadata": {},
   "outputs": [
    {
     "data": {
      "image/png": "[encoded data removed]",
      "text/plain": [
       "<Figure size 432x288 with 1 Axes>"
      ]
     },
     "metadata": {
      "needs_background": "light"
     },
     "output_type": "display_data"
    }
   ],
   "source": [
    "plt.figure()\n",
    "sns.lineplot(x=[\"1e-10\", \"1e-9\", \"1e-5\", \"1e-3\", \"1e-1\"], y=nb_average_score)\n",
    "plt.show()"
   ]
  },
  {
   "cell_type": "code",
   "execution_count": 22,
   "metadata": {},
   "outputs": [
    {
     "name": "stdout",
     "output_type": "stream",
     "text": [
      "Training Set Evaluation\n",
      "Accuracy:  95.6\n",
      "F1_score:  0.96\n",
      "AUC:  1.0\n",
      "Wall time: 7.99 ms\n"
     ]
    }
   ],
   "source": [
    "%%time\n",
    "# Building model with optimal parameters\n",
    "nb = GaussianNB(var_smoothing=0.1)\n",
    "nb.fit(X_SS, y_train)\n",
    "\n",
    "print(\"Training Set Evaluation\")\n",
    "print(\"Accuracy: \", round(100 * accuracy_score(y_train, nb.predict(X_SS)), 2))\n",
    "print(\"F1_score: \", round(f1_score(y_train, nb.predict(X_SS), average = 'weighted'), 2))\n",
    "print(\"AUC: \", round(roc_auc_score(y_train, nb.predict_proba(X_SS), average = \"macro\", multi_class = \"ovo\"), 2))"
   ]
  },
  {
   "cell_type": "code",
   "execution_count": 23,
   "metadata": {},
   "outputs": [
    {
     "name": "stdout",
     "output_type": "stream",
     "text": [
      "Test Set Evaluation\n",
      "Accuracy:  90.0\n",
      "F1_score:  0.9\n",
      "AUC:  0.99\n"
     ]
    }
   ],
   "source": [
    "# Evaluating the model on the test set\n",
    "nb_pred = nb.predict(X_SS_test)\n",
    "\n",
    "print(\"Test Set Evaluation\")\n",
    "print(\"Accuracy: \", round(100 * accuracy_score(y_test, nb_pred), 2))\n",
    "print(\"F1_score: \", round(f1_score(y_test, nb_pred, average = 'weighted'), 2))\n",
    "print(\"AUC: \", round(roc_auc_score(y_test, nb.predict_proba(X_SS_test), average = \"macro\", multi_class = \"ovo\"), 2))"
   ]
  },
  {
   "cell_type": "markdown",
   "metadata": {},
   "source": [
    "##### MinMax Scaler"
   ]
  },
  {
   "cell_type": "code",
   "execution_count": 24,
   "metadata": {},
   "outputs": [
    {
     "data": {
      "text/plain": [
       "GaussianNB(var_smoothing=0.1)"
      ]
     },
     "execution_count": 24,
     "metadata": {},
     "output_type": "execute_result"
    }
   ],
   "source": [
    "X_scaler = MinMaxScaler()\n",
    "X_MMS = X_scaler.fit_transform(X_train)\n",
    "X_MMS_test = X_scaler.transform(X_test)\n",
    "nb_grid.fit(X_MMS, y_train)\n",
    "nb_average_score = nb_grid.cv_results_['mean_test_score'].astype(float)\n",
    "result = nb_grid.cv_results_\n",
    "nb_grid.best_estimator_"
   ]
  },
  {
   "cell_type": "code",
   "execution_count": 25,
   "metadata": {},
   "outputs": [
    {
     "data": {
      "text/plain": [
       "array([0.94375, 0.94375, 0.94375, 0.94375, 0.95   ])"
      ]
     },
     "execution_count": 25,
     "metadata": {},
     "output_type": "execute_result"
    }
   ],
   "source": [
    "nb_average_score"
   ]
  },
  {
   "cell_type": "code",
   "execution_count": 26,
   "metadata": {},
   "outputs": [
    {
     "data": {
      "image/png": "[encoded data removed]",
      "text/plain": [
       "<Figure size 432x288 with 1 Axes>"
      ]
     },
     "metadata": {
      "needs_background": "light"
     },
     "output_type": "display_data"
    }
   ],
   "source": [
    "plt.figure()\n",
    "sns.lineplot(x=[\"1e-10\", \"1e-9\", \"1e-5\", \"1e-3\", \"1e-1\"], y=nb_average_score)\n",
    "plt.show()"
   ]
  },
  {
   "cell_type": "code",
   "execution_count": 27,
   "metadata": {},
   "outputs": [
    {
     "name": "stdout",
     "output_type": "stream",
     "text": [
      "Training Set Evaluation\n",
      "Accuracy:  94.97\n",
      "F1_score:  0.95\n",
      "AUC:  0.99\n",
      "Wall time: 7.95 ms\n"
     ]
    }
   ],
   "source": [
    "%%time\n",
    "# Building model with optimal parameters\n",
    "nb = GaussianNB(var_smoothing=0.1)\n",
    "nb.fit(X_MMS, y_train)\n",
    "\n",
    "print(\"Training Set Evaluation\")\n",
    "print(\"Accuracy: \", round(100 * accuracy_score(y_train, nb.predict(X_MMS)), 2))\n",
    "print(\"F1_score: \", round(f1_score(y_train, nb.predict(X_MMS), average = 'weighted'), 2))\n",
    "print(\"AUC: \", round(roc_auc_score(y_train, nb.predict_proba(X_MMS), average = \"macro\", multi_class = \"ovo\"), 2))"
   ]
  },
  {
   "cell_type": "code",
   "execution_count": 28,
   "metadata": {},
   "outputs": [
    {
     "name": "stdout",
     "output_type": "stream",
     "text": [
      "Test Set Evaluation\n",
      "Accuracy:  92.5\n",
      "F1_score:  0.93\n",
      "AUC:  0.99\n"
     ]
    }
   ],
   "source": [
    "# Evaluating the model on the test set\n",
    "nb_pred = nb.predict(X_MMS_test)\n",
    "\n",
    "print(\"Test Set Evaluation\")\n",
    "print(\"Accuracy: \", round(100 * accuracy_score(y_test, nb_pred), 2))\n",
    "print(\"F1_score: \", round(f1_score(y_test, nb_pred, average = 'weighted'), 2))\n",
    "print(\"AUC: \", round(roc_auc_score(y_test, nb.predict_proba(X_MMS_test), average = \"macro\", multi_class = \"ovo\"), 2))"
   ]
  },
  {
   "cell_type": "markdown",
   "metadata": {},
   "source": [
    "##### Robust Scaler"
   ]
  },
  {
   "cell_type": "code",
   "execution_count": 29,
   "metadata": {},
   "outputs": [
    {
     "data": {
      "text/plain": [
       "GaussianNB(var_smoothing=0.1)"
      ]
     },
     "execution_count": 29,
     "metadata": {},
     "output_type": "execute_result"
    }
   ],
   "source": [
    "X_scaler = RobustScaler()\n",
    "X_RS = X_scaler.fit_transform(X_train)\n",
    "X_RS_test = X_scaler.transform(X_test)\n",
    "nb_grid.fit(X_RS, y_train)\n",
    "nb_average_score = nb_grid.cv_results_['mean_test_score'].astype(float)\n",
    "result = nb_grid.cv_results_\n",
    "nb_grid.best_estimator_"
   ]
  },
  {
   "cell_type": "code",
   "execution_count": 30,
   "metadata": {},
   "outputs": [
    {
     "data": {
      "text/plain": [
       "array([0.94375, 0.94375, 0.94375, 0.94375, 0.95   ])"
      ]
     },
     "execution_count": 30,
     "metadata": {},
     "output_type": "execute_result"
    }
   ],
   "source": [
    "nb_average_score"
   ]
  },
  {
   "cell_type": "code",
   "execution_count": 31,
   "metadata": {},
   "outputs": [
    {
     "data": {
      "image/png": "[encoded data removed]",
      "text/plain": [
       "<Figure size 432x288 with 1 Axes>"
      ]
     },
     "metadata": {
      "needs_background": "light"
     },
     "output_type": "display_data"
    }
   ],
   "source": [
    "plt.figure()\n",
    "sns.lineplot(x=[\"1e-10\", \"1e-9\", \"1e-5\", \"1e-3\", \"1e-1\"], y=nb_average_score)\n",
    "plt.show()"
   ]
  },
  {
   "cell_type": "code",
   "execution_count": 32,
   "metadata": {},
   "outputs": [
    {
     "name": "stdout",
     "output_type": "stream",
     "text": [
      "Training Set Evaluation\n",
      "Accuracy:  96.23\n",
      "F1_score:  0.96\n",
      "AUC:  0.99\n",
      "Wall time: 9.94 ms\n"
     ]
    }
   ],
   "source": [
    "%%time\n",
    "# Building model with optimal parameters\n",
    "nb = GaussianNB(var_smoothing=0.1)\n",
    "nb.fit(X_RS, y_train)\n",
    "\n",
    "print(\"Training Set Evaluation\")\n",
    "print(\"Accuracy: \", round(100 * accuracy_score(y_train, nb.predict(X_RS)), 2))\n",
    "print(\"F1_score: \", round(f1_score(y_train, nb.predict(X_RS), average = 'weighted'), 2))\n",
    "print(\"AUC: \", round(roc_auc_score(y_train, nb.predict_proba(X_RS), average = \"macro\", multi_class = \"ovo\"), 2))"
   ]
  },
  {
   "cell_type": "code",
   "execution_count": 33,
   "metadata": {},
   "outputs": [
    {
     "name": "stdout",
     "output_type": "stream",
     "text": [
      "Test Set Evaluation\n",
      "Accuracy:  90.0\n",
      "F1_score:  0.9\n",
      "AUC:  0.99\n"
     ]
    }
   ],
   "source": [
    "# Evaluating the model on the test set\n",
    "nb_pred = nb.predict(X_RS_test)\n",
    "\n",
    "print(\"Test Set Evaluation\")\n",
    "print(\"Accuracy: \", round(100 * accuracy_score(y_test, nb_pred), 2))\n",
    "print(\"F1_score: \", round(f1_score(y_test, nb_pred, average = 'weighted'), 2))\n",
    "print(\"AUC: \", round(roc_auc_score(y_test, nb.predict_proba(X_RS_test), average = \"macro\", multi_class = \"ovo\"), 2))"
   ]
  },
  {
   "cell_type": "markdown",
   "metadata": {},
   "source": [
    "### <span style=\"color:blue\"> Notes About Feature Scaling on Naive Bayes </span>\n",
    "\n",
    "Effects of Scaling on Training Set\n",
    "\n",
    "| Scaling Method |  Accuracy | F1 Score | AUC |\n",
    "| --- | --- | --- | --- |\n",
    "| Standard Scaler | 95.6 | 0.96 | 1 |\n",
    "| MinMax Scaler | 94.97 | 0.95 | 0.99 |\n",
    "| Robust Scaler | 96.23 | 0.96 | 0.99 |\n",
    "| No Scaler | 96.86 | 0.97 | 1 |\n",
    "\n",
    "Effects of Scaling on Test Set\n",
    "\n",
    "| Scaling Method |  Accuracy | F1 Score | AUC |\n",
    "| --- | --- | --- | --- |\n",
    "| Standard Scaler | 90 | 0.9 | 0.99 |\n",
    "| MinMax Scaler | 92.5 | 0.93 | 0.99 |\n",
    "| Robust Scaler | 90 | 0.9 | 0.99 |\n",
    "| No Scaler | 92.5 | 0.92 | 0.99 |\n",
    "\n",
    "The Naive Bayes classifier performs better without feature scaling. Naive Bayes is not very sensitive to distance between values like KNN, so we did not expect much improvement from Feature Scaling."
   ]
  },
  {
   "cell_type": "markdown",
   "metadata": {},
   "source": [
    "## <span style=\"color:blue\">CM6 (Wheat Seeds Dataset) </span>"
   ]
  },
  {
   "cell_type": "code",
   "execution_count": 41,
   "metadata": {},
   "outputs": [
    {
     "name": "stdout",
     "output_type": "stream",
     "text": [
      "Feature Means per class: \n",
      " [[14.34 14.34  0.88  5.53  3.24  2.73  5.08]\n",
      " [18.36 16.15  0.88  6.17  3.68  3.67  6.03]\n",
      " [11.88 13.26  0.85  5.24  2.85  4.66  5.12]]\n"
     ]
    }
   ],
   "source": [
    "print(\"Feature Means per class: \\n\", np.round(nb_1.theta_, 2))"
   ]
  },
  {
   "cell_type": "code",
   "execution_count": 42,
   "metadata": {},
   "outputs": [
    {
     "name": "stdout",
     "output_type": "stream",
     "text": [
      "Feature Variance per class: \n",
      " [[0.945 0.249 0.009 0.051 0.036 1.185 0.075]\n",
      " [2.089 0.366 0.009 0.062 0.046 1.424 0.054]\n",
      " [0.512 0.131 0.009 0.027 0.029 0.994 0.036]]\n"
     ]
    }
   ],
   "source": [
    "print(\"Feature Variance per class: \\n\", np.round(nb_1.sigma_, 3))"
   ]
  },
  {
   "cell_type": "code",
   "execution_count": 43,
   "metadata": {},
   "outputs": [
    {
     "name": "stdout",
     "output_type": "stream",
     "text": [
      "Class Priors: \n",
      " [0.327 0.365 0.308]\n"
     ]
    }
   ],
   "source": [
    "print(\"Class Priors: \\n\",  np.round(nb_1.class_prior_, 3))"
   ]
  },
  {
   "cell_type": "markdown",
   "metadata": {},
   "source": [
    "##### Learned Parameters and Naive Bayes\n",
    "The Feature Means and Variances best describe the classifier"
   ]
  },
  {
   "cell_type": "markdown",
   "metadata": {},
   "source": [
    "##### <span style=\"color:blue\">Perfomance of Decision Tree vs Naive Bayes</span>\n",
    "\n",
    "|Accuracy|Decision Tree | Naive Bayes | \n",
    "| --- | --- | --- |\n",
    "| Training  Accuracy | 100 | 96.23 |\n",
    "| Test Accuracy | 92.5 | 95 | \n",
    "| **Wall Time | 364ms | 4.59ms |\n",
    "\n",
    "Naive Bayes has a slightly higher Test Accuracy and is much faster than Decision Tree. Looking at the difference between the training accuracy and test accuracy of the Decision Tree we can also infer that the Decision Tree is more likely to overfit."
   ]
  },
  {
   "cell_type": "code",
   "execution_count": 37,
   "metadata": {},
   "outputs": [
    {
     "name": "stdout",
     "output_type": "stream",
     "text": [
      "area       Mean: + 0.185   STD: +/- 0.025\n",
      "perimeter   Mean: + 0.156   STD: +/- 0.023\n",
      "length_of_kernel_groove   Mean: + 0.078   STD: +/- 0.019\n",
      "length_kernel   Mean: + 0.077   STD: +/- 0.019\n",
      "width_kernel   Mean: + 0.075   STD: +/- 0.016\n",
      "asymmetry_coeff   Mean: + 0.040   STD: +/- 0.011\n"
     ]
    }
   ],
   "source": [
    "from sklearn.inspection import permutation_importance\n",
    "r = permutation_importance(nb_1, X_train_1, y_train_1, n_repeats=30, random_state=0)\n",
    "\n",
    "for i in r.importances_mean.argsort()[::-1]:\n",
    "    if r.importances_mean[i] - 2 * r.importances_std[i] > 0:\n",
    "        print(f\"{dataset.columns[i]:<8}  \"\n",
    "              f\" Mean: + {r.importances_mean[i]:.3f}  \"\n",
    "               f\" STD: +/- {r.importances_std[i]:.3f}\")"
   ]
  },
  {
   "cell_type": "markdown",
   "metadata": {},
   "source": [
    "#### <span style=\"color:blue\"> Relation to Decision Tree Splitting Rules </span>\n",
    "The most important features learned by the Naive Bayes Classifier; Area, length of Kernel groove, width Kernel and Asymmetry Coefficient were the features used in all the splitting rules of the Decision Tree. \n"
   ]
  },
  {
   "cell_type": "code",
   "execution_count": null,
   "metadata": {},
   "outputs": [],
   "source": []
  }
 ],
 "metadata": {
  "kernelspec": {
   "display_name": "Python 3",
   "language": "python",
   "name": "python3"
  },
  "language_info": {
   "codemirror_mode": {
    "name": "ipython",
    "version": 3
   },
   "file_extension": ".py",
   "mimetype": "text/x-python",
   "name": "python",
   "nbconvert_exporter": "python",
   "pygments_lexer": "ipython3",
   "version": "3.7.9"
  }
 },
 "nbformat": 4,
 "nbformat_minor": 4
}
