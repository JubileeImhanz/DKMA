{
 "cells": [
  {
   "cell_type": "code",
   "execution_count": 1,
   "metadata": {
    "scrolled": true
   },
   "outputs": [],
   "source": [
    "# importing the libraries\n",
    "import pandas as pd\n",
    "import numpy as np\n",
    "import seaborn as sns\n",
    "import matplotlib.pyplot as plt\n",
    "from sklearn.metrics import confusion_matrix, f1_score, accuracy_score, roc_auc_score\n",
    "from sklearn.preprocessing import StandardScaler, MinMaxScaler, RobustScaler"
   ]
  },
  {
   "cell_type": "code",
   "execution_count": 2,
   "metadata": {
    "scrolled": true
   },
   "outputs": [],
   "source": [
    "# defining function for plotting correlation heatmap\n",
    "def plot_heatmap(correlation, title):\n",
    "    plt.figure(figsize=(15, 8))\n",
    "    ax = sns.heatmap(correlation,annot=True,fmt='.3f',linewidths=0.3,annot_kws={\"size\": 18})\n",
    "    plt.xticks(fontsize=12) \n",
    "    plt.yticks(fontsize=12) \n",
    "    plt.title(title, fontsize=20)\n",
    "    ax.figure.axes[-1].tick_params(labelsize=18) # To increase fontsize of colorbar ticks\n",
    "    #lim = len(correlation.columns)\n",
    "    #ax.set_ylim([0,lim]) # to make the map display correctly without trimming the edges\n",
    "    plt.show()\n",
    "    return"
   ]
  },
  {
   "cell_type": "code",
   "execution_count": 3,
   "metadata": {
    "scrolled": true
   },
   "outputs": [],
   "source": [
    "# importing the dataset\n",
    "dataset = pd.read_csv('covid_train.csv')"
   ]
  },
  {
   "cell_type": "code",
   "execution_count": 4,
   "metadata": {
    "scrolled": true
   },
   "outputs": [
    {
     "data": {
      "text/html": [
       "<div>\n",
       "<style scoped>\n",
       "    .dataframe tbody tr th:only-of-type {\n",
       "        vertical-align: middle;\n",
       "    }\n",
       "\n",
       "    .dataframe tbody tr th {\n",
       "        vertical-align: top;\n",
       "    }\n",
       "\n",
       "    .dataframe thead th {\n",
       "        text-align: right;\n",
       "    }\n",
       "</style>\n",
       "<table border=\"1\" class=\"dataframe\">\n",
       "  <thead>\n",
       "    <tr style=\"text-align: right;\">\n",
       "      <th></th>\n",
       "      <th>Age_Group</th>\n",
       "      <th>Client_Gender</th>\n",
       "      <th>Case_AcquisitionInfo</th>\n",
       "      <th>Reporting_PHU_City</th>\n",
       "      <th>Outbreak_Related</th>\n",
       "      <th>Reporting_PHU_Latitude</th>\n",
       "      <th>Reporting_PHU_Longitude</th>\n",
       "      <th>Outcome1</th>\n",
       "    </tr>\n",
       "  </thead>\n",
       "  <tbody>\n",
       "    <tr>\n",
       "      <th>0</th>\n",
       "      <td>50s</td>\n",
       "      <td>MALE</td>\n",
       "      <td>NO KNOWN EPI LINK</td>\n",
       "      <td>Oakville</td>\n",
       "      <td>NaN</td>\n",
       "      <td>43.413997</td>\n",
       "      <td>-79.744796</td>\n",
       "      <td>Resolved</td>\n",
       "    </tr>\n",
       "    <tr>\n",
       "      <th>1</th>\n",
       "      <td>20s</td>\n",
       "      <td>FEMALE</td>\n",
       "      <td>CC</td>\n",
       "      <td>Guelph</td>\n",
       "      <td>NaN</td>\n",
       "      <td>43.524881</td>\n",
       "      <td>-80.233743</td>\n",
       "      <td>Not Resolved</td>\n",
       "    </tr>\n",
       "    <tr>\n",
       "      <th>2</th>\n",
       "      <td>90s</td>\n",
       "      <td>FEMALE</td>\n",
       "      <td>OB</td>\n",
       "      <td>Barrie</td>\n",
       "      <td>Yes</td>\n",
       "      <td>44.410713</td>\n",
       "      <td>-79.686306</td>\n",
       "      <td>Resolved</td>\n",
       "    </tr>\n",
       "    <tr>\n",
       "      <th>3</th>\n",
       "      <td>20s</td>\n",
       "      <td>FEMALE</td>\n",
       "      <td>MISSING INFORMATION</td>\n",
       "      <td>Toronto</td>\n",
       "      <td>NaN</td>\n",
       "      <td>43.656591</td>\n",
       "      <td>-79.379358</td>\n",
       "      <td>Resolved</td>\n",
       "    </tr>\n",
       "    <tr>\n",
       "      <th>4</th>\n",
       "      <td>90s</td>\n",
       "      <td>FEMALE</td>\n",
       "      <td>OB</td>\n",
       "      <td>Ottawa</td>\n",
       "      <td>Yes</td>\n",
       "      <td>45.345665</td>\n",
       "      <td>-75.763912</td>\n",
       "      <td>Fatal</td>\n",
       "    </tr>\n",
       "  </tbody>\n",
       "</table>\n",
       "</div>"
      ],
      "text/plain": [
       "  Age_Group Client_Gender Case_AcquisitionInfo Reporting_PHU_City  \\\n",
       "0       50s          MALE    NO KNOWN EPI LINK           Oakville   \n",
       "1       20s        FEMALE                   CC             Guelph   \n",
       "2       90s        FEMALE                   OB             Barrie   \n",
       "3       20s        FEMALE  MISSING INFORMATION            Toronto   \n",
       "4       90s        FEMALE                   OB             Ottawa   \n",
       "\n",
       "  Outbreak_Related  Reporting_PHU_Latitude  Reporting_PHU_Longitude  \\\n",
       "0              NaN               43.413997               -79.744796   \n",
       "1              NaN               43.524881               -80.233743   \n",
       "2              Yes               44.410713               -79.686306   \n",
       "3              NaN               43.656591               -79.379358   \n",
       "4              Yes               45.345665               -75.763912   \n",
       "\n",
       "       Outcome1  \n",
       "0      Resolved  \n",
       "1  Not Resolved  \n",
       "2      Resolved  \n",
       "3      Resolved  \n",
       "4         Fatal  "
      ]
     },
     "execution_count": 4,
     "metadata": {},
     "output_type": "execute_result"
    }
   ],
   "source": [
    "dataset.head(5)"
   ]
  },
  {
   "cell_type": "markdown",
   "metadata": {},
   "source": [
    "## Data Cleaning"
   ]
  },
  {
   "cell_type": "code",
   "execution_count": 5,
   "metadata": {},
   "outputs": [
    {
     "name": "stdout",
     "output_type": "stream",
     "text": [
      "Age_Group - 6\n",
      "Client_Gender - 0\n",
      "Case_AcquisitionInfo - 0\n",
      "Reporting_PHU_City - 0\n",
      "Outbreak_Related - 9020\n",
      "Reporting_PHU_Latitude - 0\n",
      "Reporting_PHU_Longitude - 0\n",
      "Outcome1 - 0\n"
     ]
    }
   ],
   "source": [
    "# checking for missing values in columns\n",
    "for column in dataset.columns:\n",
    "    print(column, \"-\", dataset[column].isna().sum())"
   ]
  },
  {
   "cell_type": "code",
   "execution_count": 6,
   "metadata": {},
   "outputs": [],
   "source": [
    "# filling missing values in outbreak related with NO\n",
    "dataset[\"Outbreak_Related\"].fillna(\"No\", inplace=True)\n",
    "\n",
    "# drop missing columns in Age_Group\n",
    "dataset.dropna(axis=0, inplace=True)\n",
    "dataset.reset_index(drop=True, inplace=True)"
   ]
  },
  {
   "cell_type": "code",
   "execution_count": 7,
   "metadata": {},
   "outputs": [],
   "source": [
    "# grouping features accourding to their data types\n",
    "cats = ['Client_Gender','Case_AcquisitionInfo','Reporting_PHU_City','Outbreak_Related']\n",
    "nums = ['Reporting_PHU_Latitude', 'Reporting_PHU_Longitude']\n",
    "ords = ['Age_Group']\n",
    "target = ['Outcome1']"
   ]
  },
  {
   "cell_type": "code",
   "execution_count": 8,
   "metadata": {
    "scrolled": false
   },
   "outputs": [
    {
     "data": {
      "text/html": [
       "<div>\n",
       "<style scoped>\n",
       "    .dataframe tbody tr th:only-of-type {\n",
       "        vertical-align: middle;\n",
       "    }\n",
       "\n",
       "    .dataframe tbody tr th {\n",
       "        vertical-align: top;\n",
       "    }\n",
       "\n",
       "    .dataframe thead th {\n",
       "        text-align: right;\n",
       "    }\n",
       "</style>\n",
       "<table border=\"1\" class=\"dataframe\">\n",
       "  <thead>\n",
       "    <tr style=\"text-align: right;\">\n",
       "      <th></th>\n",
       "      <th>Age_Group</th>\n",
       "      <th>Client_Gender</th>\n",
       "      <th>Case_AcquisitionInfo</th>\n",
       "      <th>Reporting_PHU_City</th>\n",
       "      <th>Outbreak_Related</th>\n",
       "      <th>Reporting_PHU_Latitude</th>\n",
       "      <th>Reporting_PHU_Longitude</th>\n",
       "      <th>Outcome1</th>\n",
       "    </tr>\n",
       "  </thead>\n",
       "  <tbody>\n",
       "    <tr>\n",
       "      <th>0</th>\n",
       "      <td>4</td>\n",
       "      <td>MALE</td>\n",
       "      <td>NO KNOWN EPI LINK</td>\n",
       "      <td>Oakville</td>\n",
       "      <td>No</td>\n",
       "      <td>43.413997</td>\n",
       "      <td>-79.744796</td>\n",
       "      <td>0</td>\n",
       "    </tr>\n",
       "    <tr>\n",
       "      <th>1</th>\n",
       "      <td>1</td>\n",
       "      <td>FEMALE</td>\n",
       "      <td>CC</td>\n",
       "      <td>Guelph</td>\n",
       "      <td>No</td>\n",
       "      <td>43.524881</td>\n",
       "      <td>-80.233743</td>\n",
       "      <td>1</td>\n",
       "    </tr>\n",
       "    <tr>\n",
       "      <th>2</th>\n",
       "      <td>8</td>\n",
       "      <td>FEMALE</td>\n",
       "      <td>OB</td>\n",
       "      <td>Barrie</td>\n",
       "      <td>Yes</td>\n",
       "      <td>44.410713</td>\n",
       "      <td>-79.686306</td>\n",
       "      <td>0</td>\n",
       "    </tr>\n",
       "    <tr>\n",
       "      <th>3</th>\n",
       "      <td>1</td>\n",
       "      <td>FEMALE</td>\n",
       "      <td>MISSING INFORMATION</td>\n",
       "      <td>Toronto</td>\n",
       "      <td>No</td>\n",
       "      <td>43.656591</td>\n",
       "      <td>-79.379358</td>\n",
       "      <td>0</td>\n",
       "    </tr>\n",
       "    <tr>\n",
       "      <th>4</th>\n",
       "      <td>8</td>\n",
       "      <td>FEMALE</td>\n",
       "      <td>OB</td>\n",
       "      <td>Ottawa</td>\n",
       "      <td>Yes</td>\n",
       "      <td>45.345665</td>\n",
       "      <td>-75.763912</td>\n",
       "      <td>2</td>\n",
       "    </tr>\n",
       "  </tbody>\n",
       "</table>\n",
       "</div>"
      ],
      "text/plain": [
       "   Age_Group Client_Gender Case_AcquisitionInfo Reporting_PHU_City  \\\n",
       "0          4          MALE    NO KNOWN EPI LINK           Oakville   \n",
       "1          1        FEMALE                   CC             Guelph   \n",
       "2          8        FEMALE                   OB             Barrie   \n",
       "3          1        FEMALE  MISSING INFORMATION            Toronto   \n",
       "4          8        FEMALE                   OB             Ottawa   \n",
       "\n",
       "  Outbreak_Related  Reporting_PHU_Latitude  Reporting_PHU_Longitude  Outcome1  \n",
       "0               No               43.413997               -79.744796         0  \n",
       "1               No               43.524881               -80.233743         1  \n",
       "2              Yes               44.410713               -79.686306         0  \n",
       "3               No               43.656591               -79.379358         0  \n",
       "4              Yes               45.345665               -75.763912         2  "
      ]
     },
     "execution_count": 8,
     "metadata": {},
     "output_type": "execute_result"
    }
   ],
   "source": [
    "dataset['Age_Group'].replace([\"<20\", \"20s\", \"30s\", \"40s\", \"50s\", \"60s\", \"70s\", \"80s\", \"90s\"],[0,1,2,3,4,5,6,7,8], inplace = True)\n",
    "\n",
    "# Label encoding the outcomes\n",
    "dataset['Outcome1'].replace([\"Resolved\", \"Not Resolved\", \"Fatal\"],[0,1,2], inplace = True)\n",
    "\n",
    "dataset.head()"
   ]
  },
  {
   "cell_type": "code",
   "execution_count": 9,
   "metadata": {},
   "outputs": [],
   "source": [
    "# create a copy of dataset\n",
    "data = dataset.copy()"
   ]
  },
  {
   "cell_type": "markdown",
   "metadata": {},
   "source": [
    "## Data Preparation"
   ]
  },
  {
   "cell_type": "markdown",
   "metadata": {},
   "source": [
    "##### One Hot Encoding the categorical features"
   ]
  },
  {
   "cell_type": "code",
   "execution_count": 10,
   "metadata": {},
   "outputs": [
    {
     "data": {
      "text/html": [
       "<div>\n",
       "<style scoped>\n",
       "    .dataframe tbody tr th:only-of-type {\n",
       "        vertical-align: middle;\n",
       "    }\n",
       "\n",
       "    .dataframe tbody tr th {\n",
       "        vertical-align: top;\n",
       "    }\n",
       "\n",
       "    .dataframe thead th {\n",
       "        text-align: right;\n",
       "    }\n",
       "</style>\n",
       "<table border=\"1\" class=\"dataframe\">\n",
       "  <thead>\n",
       "    <tr style=\"text-align: right;\">\n",
       "      <th></th>\n",
       "      <th>Age_Group</th>\n",
       "      <th>Reporting_PHU_Latitude</th>\n",
       "      <th>Reporting_PHU_Longitude</th>\n",
       "      <th>Client_Gender_FEMALE</th>\n",
       "      <th>Client_Gender_GENDER DIVERSE</th>\n",
       "      <th>Client_Gender_MALE</th>\n",
       "      <th>Client_Gender_UNSPECIFIED</th>\n",
       "      <th>Case_AcquisitionInfo_CC</th>\n",
       "      <th>Case_AcquisitionInfo_MISSING INFORMATION</th>\n",
       "      <th>Case_AcquisitionInfo_NO KNOWN EPI LINK</th>\n",
       "      <th>...</th>\n",
       "      <th>Reporting_PHU_City_Thorold</th>\n",
       "      <th>Reporting_PHU_City_Thunder Bay</th>\n",
       "      <th>Reporting_PHU_City_Timmins</th>\n",
       "      <th>Reporting_PHU_City_Toronto</th>\n",
       "      <th>Reporting_PHU_City_Waterloo</th>\n",
       "      <th>Reporting_PHU_City_Whitby</th>\n",
       "      <th>Reporting_PHU_City_Windsor</th>\n",
       "      <th>Outbreak_Related_No</th>\n",
       "      <th>Outbreak_Related_Yes</th>\n",
       "      <th>Outcome1</th>\n",
       "    </tr>\n",
       "  </thead>\n",
       "  <tbody>\n",
       "    <tr>\n",
       "      <th>0</th>\n",
       "      <td>4</td>\n",
       "      <td>43.413997</td>\n",
       "      <td>-79.744796</td>\n",
       "      <td>0</td>\n",
       "      <td>0</td>\n",
       "      <td>1</td>\n",
       "      <td>0</td>\n",
       "      <td>0</td>\n",
       "      <td>0</td>\n",
       "      <td>1</td>\n",
       "      <td>...</td>\n",
       "      <td>0</td>\n",
       "      <td>0</td>\n",
       "      <td>0</td>\n",
       "      <td>0</td>\n",
       "      <td>0</td>\n",
       "      <td>0</td>\n",
       "      <td>0</td>\n",
       "      <td>1</td>\n",
       "      <td>0</td>\n",
       "      <td>0</td>\n",
       "    </tr>\n",
       "    <tr>\n",
       "      <th>1</th>\n",
       "      <td>1</td>\n",
       "      <td>43.524881</td>\n",
       "      <td>-80.233743</td>\n",
       "      <td>1</td>\n",
       "      <td>0</td>\n",
       "      <td>0</td>\n",
       "      <td>0</td>\n",
       "      <td>1</td>\n",
       "      <td>0</td>\n",
       "      <td>0</td>\n",
       "      <td>...</td>\n",
       "      <td>0</td>\n",
       "      <td>0</td>\n",
       "      <td>0</td>\n",
       "      <td>0</td>\n",
       "      <td>0</td>\n",
       "      <td>0</td>\n",
       "      <td>0</td>\n",
       "      <td>1</td>\n",
       "      <td>0</td>\n",
       "      <td>1</td>\n",
       "    </tr>\n",
       "    <tr>\n",
       "      <th>2</th>\n",
       "      <td>8</td>\n",
       "      <td>44.410713</td>\n",
       "      <td>-79.686306</td>\n",
       "      <td>1</td>\n",
       "      <td>0</td>\n",
       "      <td>0</td>\n",
       "      <td>0</td>\n",
       "      <td>0</td>\n",
       "      <td>0</td>\n",
       "      <td>0</td>\n",
       "      <td>...</td>\n",
       "      <td>0</td>\n",
       "      <td>0</td>\n",
       "      <td>0</td>\n",
       "      <td>0</td>\n",
       "      <td>0</td>\n",
       "      <td>0</td>\n",
       "      <td>0</td>\n",
       "      <td>0</td>\n",
       "      <td>1</td>\n",
       "      <td>0</td>\n",
       "    </tr>\n",
       "    <tr>\n",
       "      <th>3</th>\n",
       "      <td>1</td>\n",
       "      <td>43.656591</td>\n",
       "      <td>-79.379358</td>\n",
       "      <td>1</td>\n",
       "      <td>0</td>\n",
       "      <td>0</td>\n",
       "      <td>0</td>\n",
       "      <td>0</td>\n",
       "      <td>1</td>\n",
       "      <td>0</td>\n",
       "      <td>...</td>\n",
       "      <td>0</td>\n",
       "      <td>0</td>\n",
       "      <td>0</td>\n",
       "      <td>1</td>\n",
       "      <td>0</td>\n",
       "      <td>0</td>\n",
       "      <td>0</td>\n",
       "      <td>1</td>\n",
       "      <td>0</td>\n",
       "      <td>0</td>\n",
       "    </tr>\n",
       "    <tr>\n",
       "      <th>4</th>\n",
       "      <td>8</td>\n",
       "      <td>45.345665</td>\n",
       "      <td>-75.763912</td>\n",
       "      <td>1</td>\n",
       "      <td>0</td>\n",
       "      <td>0</td>\n",
       "      <td>0</td>\n",
       "      <td>0</td>\n",
       "      <td>0</td>\n",
       "      <td>0</td>\n",
       "      <td>...</td>\n",
       "      <td>0</td>\n",
       "      <td>0</td>\n",
       "      <td>0</td>\n",
       "      <td>0</td>\n",
       "      <td>0</td>\n",
       "      <td>0</td>\n",
       "      <td>0</td>\n",
       "      <td>0</td>\n",
       "      <td>1</td>\n",
       "      <td>2</td>\n",
       "    </tr>\n",
       "  </tbody>\n",
       "</table>\n",
       "<p>5 rows × 50 columns</p>\n",
       "</div>"
      ],
      "text/plain": [
       "   Age_Group  Reporting_PHU_Latitude  Reporting_PHU_Longitude  \\\n",
       "0          4               43.413997               -79.744796   \n",
       "1          1               43.524881               -80.233743   \n",
       "2          8               44.410713               -79.686306   \n",
       "3          1               43.656591               -79.379358   \n",
       "4          8               45.345665               -75.763912   \n",
       "\n",
       "   Client_Gender_FEMALE  Client_Gender_GENDER DIVERSE  Client_Gender_MALE  \\\n",
       "0                     0                             0                   1   \n",
       "1                     1                             0                   0   \n",
       "2                     1                             0                   0   \n",
       "3                     1                             0                   0   \n",
       "4                     1                             0                   0   \n",
       "\n",
       "   Client_Gender_UNSPECIFIED  Case_AcquisitionInfo_CC  \\\n",
       "0                          0                        0   \n",
       "1                          0                        1   \n",
       "2                          0                        0   \n",
       "3                          0                        0   \n",
       "4                          0                        0   \n",
       "\n",
       "   Case_AcquisitionInfo_MISSING INFORMATION  \\\n",
       "0                                         0   \n",
       "1                                         0   \n",
       "2                                         0   \n",
       "3                                         1   \n",
       "4                                         0   \n",
       "\n",
       "   Case_AcquisitionInfo_NO KNOWN EPI LINK  ...  Reporting_PHU_City_Thorold  \\\n",
       "0                                       1  ...                           0   \n",
       "1                                       0  ...                           0   \n",
       "2                                       0  ...                           0   \n",
       "3                                       0  ...                           0   \n",
       "4                                       0  ...                           0   \n",
       "\n",
       "   Reporting_PHU_City_Thunder Bay  Reporting_PHU_City_Timmins  \\\n",
       "0                               0                           0   \n",
       "1                               0                           0   \n",
       "2                               0                           0   \n",
       "3                               0                           0   \n",
       "4                               0                           0   \n",
       "\n",
       "   Reporting_PHU_City_Toronto  Reporting_PHU_City_Waterloo  \\\n",
       "0                           0                            0   \n",
       "1                           0                            0   \n",
       "2                           0                            0   \n",
       "3                           1                            0   \n",
       "4                           0                            0   \n",
       "\n",
       "   Reporting_PHU_City_Whitby  Reporting_PHU_City_Windsor  Outbreak_Related_No  \\\n",
       "0                          0                           0                    1   \n",
       "1                          0                           0                    1   \n",
       "2                          0                           0                    0   \n",
       "3                          0                           0                    1   \n",
       "4                          0                           0                    0   \n",
       "\n",
       "   Outbreak_Related_Yes  Outcome1  \n",
       "0                     0         0  \n",
       "1                     0         1  \n",
       "2                     1         0  \n",
       "3                     0         0  \n",
       "4                     1         2  \n",
       "\n",
       "[5 rows x 50 columns]"
      ]
     },
     "execution_count": 10,
     "metadata": {},
     "output_type": "execute_result"
    }
   ],
   "source": [
    "df = pd.get_dummies(dataset.iloc[:,:-1], columns = cats)\n",
    "df[\"Outcome1\"] = dataset[\"Outcome1\"]\n",
    "dataset = df\n",
    "\n",
    "dataset.head()"
   ]
  },
  {
   "cell_type": "code",
   "execution_count": 11,
   "metadata": {},
   "outputs": [],
   "source": [
    "# Separating the dataset into matrix of features and target'\n",
    "X = dataset.iloc[:,:-1].values\n",
    "y = dataset.iloc[:,-1].values"
   ]
  },
  {
   "cell_type": "code",
   "execution_count": 12,
   "metadata": {},
   "outputs": [],
   "source": [
    "from sklearn.model_selection import train_test_split\n",
    "X_train_1, X_test_1, y_train_1, y_test_1 = train_test_split(X, y, test_size=0.2, random_state=0)"
   ]
  },
  {
   "cell_type": "markdown",
   "metadata": {},
   "source": [
    "## Building the Base Model"
   ]
  },
  {
   "cell_type": "code",
   "execution_count": 13,
   "metadata": {},
   "outputs": [
    {
     "name": "stdout",
     "output_type": "stream",
     "text": [
      "Wall time: 678 ms\n"
     ]
    },
    {
     "data": {
      "text/plain": [
       "GaussianNB(var_smoothing=0.1)"
      ]
     },
     "execution_count": 13,
     "metadata": {},
     "output_type": "execute_result"
    }
   ],
   "source": [
    "%%time\n",
    "from sklearn.model_selection import GridSearchCV\n",
    "\n",
    "# Fitting the Classification Model\n",
    "from sklearn.naive_bayes import GaussianNB\n",
    "nb = GaussianNB()\n",
    "\n",
    "nb_params = [{'var_smoothing':[1e-10, 1e-9, 1e-5, 1e-3, 1e-1]}]\n",
    "nb_grid = GridSearchCV(nb, nb_params, cv=10)\n",
    "nb_grid.fit(X_train_1, y_train_1)\n",
    "nb_average_score = nb_grid.cv_results_['mean_test_score'].astype(float)\n",
    "result = nb_grid.cv_results_\n",
    "nb_grid.best_estimator_"
   ]
  },
  {
   "cell_type": "code",
   "execution_count": 14,
   "metadata": {},
   "outputs": [
    {
     "data": {
      "text/plain": [
       "array([0.37875625, 0.4047738 , 0.55860423, 0.6085387 , 0.6577997 ])"
      ]
     },
     "execution_count": 14,
     "metadata": {},
     "output_type": "execute_result"
    }
   ],
   "source": [
    "nb_average_score"
   ]
  },
  {
   "cell_type": "code",
   "execution_count": 15,
   "metadata": {},
   "outputs": [
    {
     "data": {
      "image/png": "[encoded data removed]",
      "text/plain": [
       "<Figure size 432x288 with 1 Axes>"
      ]
     },
     "metadata": {
      "needs_background": "light"
     },
     "output_type": "display_data"
    }
   ],
   "source": [
    "plt.figure()\n",
    "sns.lineplot(x=[\"1e-10\", \"1e-9\", \"1e-5\", \"1e-3\", \"1e-1\"], y=nb_average_score)\n",
    "plt.show()"
   ]
  },
  {
   "cell_type": "code",
   "execution_count": 16,
   "metadata": {},
   "outputs": [
    {
     "name": "stdout",
     "output_type": "stream",
     "text": [
      "Training Set Evaluation\n",
      "Accuracy:  65.82\n",
      "F1_score:  0.64\n",
      "AUC:  0.82\n",
      "Wall time: 85 ms\n"
     ]
    }
   ],
   "source": [
    "%%time\n",
    "# Building model with optimal parameters\n",
    "nb_1 = GaussianNB(var_smoothing=0.1)\n",
    "nb_1.fit(X_train_1, y_train_1)\n",
    "\n",
    "print(\"Training Set Evaluation\")\n",
    "print(\"Accuracy: \", round(100 * accuracy_score(y_train_1, nb_1.predict(X_train_1)), 2))\n",
    "print(\"F1_score: \", round(f1_score(y_train_1, nb_1.predict(X_train_1), average = 'weighted'), 2))\n",
    "print(\"AUC: \", round(roc_auc_score(y_train_1, nb_1.predict_proba(X_train_1), average = \"macro\", multi_class = \"ovo\"), 2))"
   ]
  },
  {
   "cell_type": "code",
   "execution_count": 17,
   "metadata": {},
   "outputs": [
    {
     "name": "stdout",
     "output_type": "stream",
     "text": [
      "Test Set Evaluation\n",
      "Accuracy:  65.44\n",
      "F1_score:  0.64\n",
      "AUC:  0.82\n"
     ]
    }
   ],
   "source": [
    "# Evaluating the model on the test set\n",
    "nb_pred = nb_1.predict(X_test_1)\n",
    "\n",
    "print(\"Test Set Evaluation\")\n",
    "print(\"Accuracy: \", round(100 * accuracy_score(y_test_1, nb_pred), 2))\n",
    "print(\"F1_score: \", round(f1_score(y_test_1, nb_pred, average = 'weighted'), 2))\n",
    "print(\"AUC: \", round(roc_auc_score(y_test_1, nb_1.predict_proba(X_test_1), average = \"macro\", multi_class = \"ovo\"), 2))"
   ]
  },
  {
   "cell_type": "markdown",
   "metadata": {},
   "source": [
    "## <span style=\"color:blue\"> Notes About Smoothing Parameter </span>\n",
    "\n",
    "1e-1 is the best smoothing parameter with an accuracy of 65.76%. \n",
    "Accuracy increases almost linearly with smoothing variable.\n",
    "\n",
    "The smoothing variable represents the portion of the largest variance of all features that is added to variances for calculation stability.\n",
    "\n",
    "A Gaussian curve can serve as a \"low pass\" filter, allowing only the samples close to its mean to \"pass.\" In the context of Naive Bayes, assuming a Gaussian distribution is essentially giving more weights to the samples closer to the distribution mean. This might filter out some values that we want to \"pass\".\n",
    "\n",
    "The variable, var_smoothing, artificially adds a user-defined value to the distribution's variance (whose default value is derived from the training data set). This essentially widens (or \"smooths\") the curve and accounts for more samples that are further away from the distribution mean.\n",
    "\n",
    "Tuning this parameter, will also modify the variance in a way that will give the best accuracy.\n"
   ]
  },
  {
   "cell_type": "markdown",
   "metadata": {},
   "source": [
    "### Improving Model Computation Time"
   ]
  },
  {
   "cell_type": "markdown",
   "metadata": {},
   "source": [
    "### <span style=\"color:blue\"> Method 1: Dropping the Reporting_PHU_City column </span>\n",
    "\n",
    "The Reporting_PHU_City column is a categorical column with 34 distinct values this means that after one-hot encoding, it adds 34 columns to the data thus, making it computationally expensive.\n",
    "\n",
    "Considering its low correlation with the outcome, we will deal with this by removing the feature from the matrix of features. This reduces the columns in the matrix of features from 49 to 15 \n"
   ]
  },
  {
   "cell_type": "code",
   "execution_count": 18,
   "metadata": {},
   "outputs": [
    {
     "data": {
      "text/html": [
       "<div>\n",
       "<style scoped>\n",
       "    .dataframe tbody tr th:only-of-type {\n",
       "        vertical-align: middle;\n",
       "    }\n",
       "\n",
       "    .dataframe tbody tr th {\n",
       "        vertical-align: top;\n",
       "    }\n",
       "\n",
       "    .dataframe thead th {\n",
       "        text-align: right;\n",
       "    }\n",
       "</style>\n",
       "<table border=\"1\" class=\"dataframe\">\n",
       "  <thead>\n",
       "    <tr style=\"text-align: right;\">\n",
       "      <th></th>\n",
       "      <th>Age_Group</th>\n",
       "      <th>Reporting_PHU_Latitude</th>\n",
       "      <th>Reporting_PHU_Longitude</th>\n",
       "      <th>Client_Gender_FEMALE</th>\n",
       "      <th>Client_Gender_GENDER DIVERSE</th>\n",
       "      <th>Client_Gender_MALE</th>\n",
       "      <th>Client_Gender_UNSPECIFIED</th>\n",
       "      <th>Case_AcquisitionInfo_CC</th>\n",
       "      <th>Case_AcquisitionInfo_MISSING INFORMATION</th>\n",
       "      <th>Case_AcquisitionInfo_NO KNOWN EPI LINK</th>\n",
       "      <th>Case_AcquisitionInfo_OB</th>\n",
       "      <th>Case_AcquisitionInfo_TRAVEL</th>\n",
       "      <th>Case_AcquisitionInfo_UNSPECIFIED EPI LINK</th>\n",
       "      <th>Outbreak_Related_No</th>\n",
       "      <th>Outbreak_Related_Yes</th>\n",
       "      <th>Outcome1</th>\n",
       "    </tr>\n",
       "  </thead>\n",
       "  <tbody>\n",
       "    <tr>\n",
       "      <th>0</th>\n",
       "      <td>4</td>\n",
       "      <td>43.413997</td>\n",
       "      <td>-79.744796</td>\n",
       "      <td>0</td>\n",
       "      <td>0</td>\n",
       "      <td>1</td>\n",
       "      <td>0</td>\n",
       "      <td>0</td>\n",
       "      <td>0</td>\n",
       "      <td>1</td>\n",
       "      <td>0</td>\n",
       "      <td>0</td>\n",
       "      <td>0</td>\n",
       "      <td>1</td>\n",
       "      <td>0</td>\n",
       "      <td>0</td>\n",
       "    </tr>\n",
       "    <tr>\n",
       "      <th>1</th>\n",
       "      <td>1</td>\n",
       "      <td>43.524881</td>\n",
       "      <td>-80.233743</td>\n",
       "      <td>1</td>\n",
       "      <td>0</td>\n",
       "      <td>0</td>\n",
       "      <td>0</td>\n",
       "      <td>1</td>\n",
       "      <td>0</td>\n",
       "      <td>0</td>\n",
       "      <td>0</td>\n",
       "      <td>0</td>\n",
       "      <td>0</td>\n",
       "      <td>1</td>\n",
       "      <td>0</td>\n",
       "      <td>1</td>\n",
       "    </tr>\n",
       "    <tr>\n",
       "      <th>2</th>\n",
       "      <td>8</td>\n",
       "      <td>44.410713</td>\n",
       "      <td>-79.686306</td>\n",
       "      <td>1</td>\n",
       "      <td>0</td>\n",
       "      <td>0</td>\n",
       "      <td>0</td>\n",
       "      <td>0</td>\n",
       "      <td>0</td>\n",
       "      <td>0</td>\n",
       "      <td>1</td>\n",
       "      <td>0</td>\n",
       "      <td>0</td>\n",
       "      <td>0</td>\n",
       "      <td>1</td>\n",
       "      <td>0</td>\n",
       "    </tr>\n",
       "    <tr>\n",
       "      <th>3</th>\n",
       "      <td>1</td>\n",
       "      <td>43.656591</td>\n",
       "      <td>-79.379358</td>\n",
       "      <td>1</td>\n",
       "      <td>0</td>\n",
       "      <td>0</td>\n",
       "      <td>0</td>\n",
       "      <td>0</td>\n",
       "      <td>1</td>\n",
       "      <td>0</td>\n",
       "      <td>0</td>\n",
       "      <td>0</td>\n",
       "      <td>0</td>\n",
       "      <td>1</td>\n",
       "      <td>0</td>\n",
       "      <td>0</td>\n",
       "    </tr>\n",
       "    <tr>\n",
       "      <th>4</th>\n",
       "      <td>8</td>\n",
       "      <td>45.345665</td>\n",
       "      <td>-75.763912</td>\n",
       "      <td>1</td>\n",
       "      <td>0</td>\n",
       "      <td>0</td>\n",
       "      <td>0</td>\n",
       "      <td>0</td>\n",
       "      <td>0</td>\n",
       "      <td>0</td>\n",
       "      <td>1</td>\n",
       "      <td>0</td>\n",
       "      <td>0</td>\n",
       "      <td>0</td>\n",
       "      <td>1</td>\n",
       "      <td>2</td>\n",
       "    </tr>\n",
       "  </tbody>\n",
       "</table>\n",
       "</div>"
      ],
      "text/plain": [
       "   Age_Group  Reporting_PHU_Latitude  Reporting_PHU_Longitude  \\\n",
       "0          4               43.413997               -79.744796   \n",
       "1          1               43.524881               -80.233743   \n",
       "2          8               44.410713               -79.686306   \n",
       "3          1               43.656591               -79.379358   \n",
       "4          8               45.345665               -75.763912   \n",
       "\n",
       "   Client_Gender_FEMALE  Client_Gender_GENDER DIVERSE  Client_Gender_MALE  \\\n",
       "0                     0                             0                   1   \n",
       "1                     1                             0                   0   \n",
       "2                     1                             0                   0   \n",
       "3                     1                             0                   0   \n",
       "4                     1                             0                   0   \n",
       "\n",
       "   Client_Gender_UNSPECIFIED  Case_AcquisitionInfo_CC  \\\n",
       "0                          0                        0   \n",
       "1                          0                        1   \n",
       "2                          0                        0   \n",
       "3                          0                        0   \n",
       "4                          0                        0   \n",
       "\n",
       "   Case_AcquisitionInfo_MISSING INFORMATION  \\\n",
       "0                                         0   \n",
       "1                                         0   \n",
       "2                                         0   \n",
       "3                                         1   \n",
       "4                                         0   \n",
       "\n",
       "   Case_AcquisitionInfo_NO KNOWN EPI LINK  Case_AcquisitionInfo_OB  \\\n",
       "0                                       1                        0   \n",
       "1                                       0                        0   \n",
       "2                                       0                        1   \n",
       "3                                       0                        0   \n",
       "4                                       0                        1   \n",
       "\n",
       "   Case_AcquisitionInfo_TRAVEL  Case_AcquisitionInfo_UNSPECIFIED EPI LINK  \\\n",
       "0                            0                                          0   \n",
       "1                            0                                          0   \n",
       "2                            0                                          0   \n",
       "3                            0                                          0   \n",
       "4                            0                                          0   \n",
       "\n",
       "   Outbreak_Related_No  Outbreak_Related_Yes  Outcome1  \n",
       "0                    1                     0         0  \n",
       "1                    1                     0         1  \n",
       "2                    0                     1         0  \n",
       "3                    1                     0         0  \n",
       "4                    0                     1         2  "
      ]
     },
     "execution_count": 18,
     "metadata": {},
     "output_type": "execute_result"
    }
   ],
   "source": [
    "# removing the Reporting_PHU_City column\n",
    "dataset2 =  data[['Age_Group', 'Client_Gender', 'Case_AcquisitionInfo',\n",
    "                    'Outbreak_Related', 'Reporting_PHU_Latitude',\n",
    "                   'Reporting_PHU_Longitude', 'Outcome1']]\n",
    "\n",
    "df = pd.get_dummies(dataset2.iloc[:,:-1], columns = ['Client_Gender','Case_AcquisitionInfo','Outbreak_Related'])\n",
    "df[\"Outcome1\"] = dataset2[\"Outcome1\"]\n",
    "dataset2 = df\n",
    "\n",
    "dataset2.head()"
   ]
  },
  {
   "cell_type": "code",
   "execution_count": 19,
   "metadata": {},
   "outputs": [],
   "source": [
    "# Separating the dataset into matrix of features and target'\n",
    "X = dataset2.iloc[:,:-1].values\n",
    "y = dataset2.iloc[:,-1].values"
   ]
  },
  {
   "cell_type": "code",
   "execution_count": 20,
   "metadata": {},
   "outputs": [],
   "source": [
    "X_train_2, X_test_2, y_train_2, y_test_2 = train_test_split(X, y, test_size=0.2, random_state=0)"
   ]
  },
  {
   "cell_type": "code",
   "execution_count": 21,
   "metadata": {},
   "outputs": [
    {
     "name": "stdout",
     "output_type": "stream",
     "text": [
      "Wall time: 237 ms\n"
     ]
    },
    {
     "data": {
      "text/plain": [
       "GaussianNB(var_smoothing=0.1)"
      ]
     },
     "execution_count": 21,
     "metadata": {},
     "output_type": "execute_result"
    }
   ],
   "source": [
    "%%time\n",
    "\n",
    "# Fitting the Classification Model\n",
    "nb_grid.fit(X_train_2, y_train_2)\n",
    "nb_average_score = nb_grid.cv_results_['mean_test_score'].astype(float)\n",
    "result = nb_grid.cv_results_\n",
    "nb_grid.best_estimator_"
   ]
  },
  {
   "cell_type": "code",
   "execution_count": 22,
   "metadata": {},
   "outputs": [
    {
     "data": {
      "text/plain": [
       "array([0.55717183, 0.55397254, 0.55767915, 0.60769759, 0.6569571 ])"
      ]
     },
     "execution_count": 22,
     "metadata": {},
     "output_type": "execute_result"
    }
   ],
   "source": [
    "nb_average_score"
   ]
  },
  {
   "cell_type": "code",
   "execution_count": 23,
   "metadata": {},
   "outputs": [
    {
     "data": {
      "image/png": "[encoded data removed]",
      "text/plain": [
       "<Figure size 432x288 with 1 Axes>"
      ]
     },
     "metadata": {
      "needs_background": "light"
     },
     "output_type": "display_data"
    }
   ],
   "source": [
    "plt.figure()\n",
    "sns.lineplot(x=[\"1e-10\", \"1e-9\", \"1e-5\", \"1e-3\", \"1e-1\"], y=nb_average_score)\n",
    "plt.show()"
   ]
  },
  {
   "cell_type": "code",
   "execution_count": 24,
   "metadata": {},
   "outputs": [
    {
     "name": "stdout",
     "output_type": "stream",
     "text": [
      "Training Set Evaluation\n",
      "Accuracy:  65.68\n",
      "F1_score:  0.64\n",
      "AUC:  0.82\n",
      "Wall time: 43 ms\n"
     ]
    }
   ],
   "source": [
    "%%time\n",
    "# Building model with optimal parameters\n",
    "nb_2 = GaussianNB(var_smoothing=0.1)\n",
    "nb_2.fit(X_train_2, y_train_2)\n",
    "\n",
    "print(\"Training Set Evaluation\")\n",
    "print(\"Accuracy: \", round(100 * accuracy_score(y_train_2, nb_2.predict(X_train_2)), 2))\n",
    "print(\"F1_score: \", round(f1_score(y_train_2, nb_2.predict(X_train_2), average = 'weighted'), 2))\n",
    "print(\"AUC: \", round(roc_auc_score(y_train_2, nb_2.predict_proba(X_train_2), average = \"macro\", multi_class = \"ovo\"), 2))"
   ]
  },
  {
   "cell_type": "code",
   "execution_count": 25,
   "metadata": {},
   "outputs": [
    {
     "name": "stdout",
     "output_type": "stream",
     "text": [
      "Test Set Evaluation\n",
      "Accuracy:  65.34\n",
      "F1_score:  0.63\n",
      "AUC:  0.82\n"
     ]
    }
   ],
   "source": [
    "# Evaluating the model on the test set\n",
    "nb_pred = nb_2.predict(X_test_2)\n",
    "\n",
    "print(\"Test Set Evaluation\")\n",
    "print(\"Accuracy: \", round(100 * accuracy_score(y_test_2, nb_pred), 2))\n",
    "print(\"F1_score: \", round(f1_score(y_test_2, nb_pred, average = 'weighted'), 2))\n",
    "print(\"AUC: \", round(roc_auc_score(y_test_2, nb_2.predict_proba(X_test_2), average = \"macro\", multi_class = \"ovo\"), 2))"
   ]
  },
  {
   "cell_type": "markdown",
   "metadata": {},
   "source": [
    "### <span style=\"color:blue\"> Method 2: Aggregating categories in the columns </span>\n",
    "\n",
    "In the Client_Gender feature, UNSPECIFIED and GENDER DIVERSE have very low counts compared to the rest and they can both be grouped into one category OTHERS.\n",
    "\n",
    "In the Case_AcquisitionInfo feature, TRAVEL and UNSPECIFIED EPI LINK have very low counts compared to the rest and they can both be grouped into one category OTHERS.\n",
    "\n",
    "In the Reporting_PHU_City feature, there are 34 distince categories. Rather than dropping the entire feature, the categories can be grouped by their counts.\n",
    "City_Class1 = > 500\n",
    "City_Class2 = 75 to 500\n",
    "City_Class3 = < 75"
   ]
  },
  {
   "cell_type": "code",
   "execution_count": 26,
   "metadata": {},
   "outputs": [],
   "source": [
    "# inspecting the unique values in categorical columns and their frequencies\n",
    "dataset3 = data.copy()"
   ]
  },
  {
   "cell_type": "code",
   "execution_count": 27,
   "metadata": {},
   "outputs": [],
   "source": [
    "dataset3[\"Client_Gender\"].replace(['UNSPECIFIED', 'GENDER DIVERSE'], 'OTHER', inplace = True)\n",
    "dataset3[\"Case_AcquisitionInfo\"].replace(['TRAVEL', 'UNSPECIFIED EPI LINK'], 'OTHER', inplace = True)"
   ]
  },
  {
   "cell_type": "code",
   "execution_count": 28,
   "metadata": {},
   "outputs": [],
   "source": [
    "City_Class1 = list((dataset3['Reporting_PHU_City'].value_counts()[dataset3['Reporting_PHU_City'].value_counts() > 500]).index)"
   ]
  },
  {
   "cell_type": "code",
   "execution_count": 29,
   "metadata": {},
   "outputs": [],
   "source": [
    "City_Class2 = list((dataset3['Reporting_PHU_City'].value_counts()[(dataset3['Reporting_PHU_City'].value_counts() <= 500) & (dataset3['Reporting_PHU_City'].value_counts() > 75)]).index)"
   ]
  },
  {
   "cell_type": "code",
   "execution_count": 30,
   "metadata": {},
   "outputs": [],
   "source": [
    "City_Class3 = list((dataset3['Reporting_PHU_City'].value_counts()[dataset3['Reporting_PHU_City'].value_counts() <= 75]).index)"
   ]
  },
  {
   "cell_type": "code",
   "execution_count": 31,
   "metadata": {},
   "outputs": [],
   "source": [
    "dataset3[\"Reporting_PHU_City\"].replace(City_Class1, 1, inplace = True)\n",
    "dataset3[\"Reporting_PHU_City\"].replace(City_Class2, 2, inplace = True)\n",
    "dataset3[\"Reporting_PHU_City\"].replace(City_Class3, 3, inplace = True)"
   ]
  },
  {
   "cell_type": "code",
   "execution_count": 32,
   "metadata": {},
   "outputs": [
    {
     "data": {
      "text/html": [
       "<div>\n",
       "<style scoped>\n",
       "    .dataframe tbody tr th:only-of-type {\n",
       "        vertical-align: middle;\n",
       "    }\n",
       "\n",
       "    .dataframe tbody tr th {\n",
       "        vertical-align: top;\n",
       "    }\n",
       "\n",
       "    .dataframe thead th {\n",
       "        text-align: right;\n",
       "    }\n",
       "</style>\n",
       "<table border=\"1\" class=\"dataframe\">\n",
       "  <thead>\n",
       "    <tr style=\"text-align: right;\">\n",
       "      <th></th>\n",
       "      <th>Age_Group</th>\n",
       "      <th>Reporting_PHU_Latitude</th>\n",
       "      <th>Reporting_PHU_Longitude</th>\n",
       "      <th>Client_Gender_MALE</th>\n",
       "      <th>Client_Gender_OTHER</th>\n",
       "      <th>Case_AcquisitionInfo_MISSING INFORMATION</th>\n",
       "      <th>Case_AcquisitionInfo_NO KNOWN EPI LINK</th>\n",
       "      <th>Case_AcquisitionInfo_OB</th>\n",
       "      <th>Case_AcquisitionInfo_OTHER</th>\n",
       "      <th>Reporting_PHU_City_2</th>\n",
       "      <th>Reporting_PHU_City_3</th>\n",
       "      <th>Outbreak_Related_Yes</th>\n",
       "      <th>Outcome1</th>\n",
       "    </tr>\n",
       "  </thead>\n",
       "  <tbody>\n",
       "    <tr>\n",
       "      <th>0</th>\n",
       "      <td>4</td>\n",
       "      <td>43.413997</td>\n",
       "      <td>-79.744796</td>\n",
       "      <td>1</td>\n",
       "      <td>0</td>\n",
       "      <td>0</td>\n",
       "      <td>1</td>\n",
       "      <td>0</td>\n",
       "      <td>0</td>\n",
       "      <td>1</td>\n",
       "      <td>0</td>\n",
       "      <td>0</td>\n",
       "      <td>0</td>\n",
       "    </tr>\n",
       "    <tr>\n",
       "      <th>1</th>\n",
       "      <td>1</td>\n",
       "      <td>43.524881</td>\n",
       "      <td>-80.233743</td>\n",
       "      <td>0</td>\n",
       "      <td>0</td>\n",
       "      <td>0</td>\n",
       "      <td>0</td>\n",
       "      <td>0</td>\n",
       "      <td>0</td>\n",
       "      <td>1</td>\n",
       "      <td>0</td>\n",
       "      <td>0</td>\n",
       "      <td>1</td>\n",
       "    </tr>\n",
       "    <tr>\n",
       "      <th>2</th>\n",
       "      <td>8</td>\n",
       "      <td>44.410713</td>\n",
       "      <td>-79.686306</td>\n",
       "      <td>0</td>\n",
       "      <td>0</td>\n",
       "      <td>0</td>\n",
       "      <td>0</td>\n",
       "      <td>1</td>\n",
       "      <td>0</td>\n",
       "      <td>1</td>\n",
       "      <td>0</td>\n",
       "      <td>1</td>\n",
       "      <td>0</td>\n",
       "    </tr>\n",
       "    <tr>\n",
       "      <th>3</th>\n",
       "      <td>1</td>\n",
       "      <td>43.656591</td>\n",
       "      <td>-79.379358</td>\n",
       "      <td>0</td>\n",
       "      <td>0</td>\n",
       "      <td>1</td>\n",
       "      <td>0</td>\n",
       "      <td>0</td>\n",
       "      <td>0</td>\n",
       "      <td>0</td>\n",
       "      <td>0</td>\n",
       "      <td>0</td>\n",
       "      <td>0</td>\n",
       "    </tr>\n",
       "    <tr>\n",
       "      <th>4</th>\n",
       "      <td>8</td>\n",
       "      <td>45.345665</td>\n",
       "      <td>-75.763912</td>\n",
       "      <td>0</td>\n",
       "      <td>0</td>\n",
       "      <td>0</td>\n",
       "      <td>0</td>\n",
       "      <td>1</td>\n",
       "      <td>0</td>\n",
       "      <td>0</td>\n",
       "      <td>0</td>\n",
       "      <td>1</td>\n",
       "      <td>2</td>\n",
       "    </tr>\n",
       "  </tbody>\n",
       "</table>\n",
       "</div>"
      ],
      "text/plain": [
       "   Age_Group  Reporting_PHU_Latitude  Reporting_PHU_Longitude  \\\n",
       "0          4               43.413997               -79.744796   \n",
       "1          1               43.524881               -80.233743   \n",
       "2          8               44.410713               -79.686306   \n",
       "3          1               43.656591               -79.379358   \n",
       "4          8               45.345665               -75.763912   \n",
       "\n",
       "   Client_Gender_MALE  Client_Gender_OTHER  \\\n",
       "0                   1                    0   \n",
       "1                   0                    0   \n",
       "2                   0                    0   \n",
       "3                   0                    0   \n",
       "4                   0                    0   \n",
       "\n",
       "   Case_AcquisitionInfo_MISSING INFORMATION  \\\n",
       "0                                         0   \n",
       "1                                         0   \n",
       "2                                         0   \n",
       "3                                         1   \n",
       "4                                         0   \n",
       "\n",
       "   Case_AcquisitionInfo_NO KNOWN EPI LINK  Case_AcquisitionInfo_OB  \\\n",
       "0                                       1                        0   \n",
       "1                                       0                        0   \n",
       "2                                       0                        1   \n",
       "3                                       0                        0   \n",
       "4                                       0                        1   \n",
       "\n",
       "   Case_AcquisitionInfo_OTHER  Reporting_PHU_City_2  Reporting_PHU_City_3  \\\n",
       "0                           0                     1                     0   \n",
       "1                           0                     1                     0   \n",
       "2                           0                     1                     0   \n",
       "3                           0                     0                     0   \n",
       "4                           0                     0                     0   \n",
       "\n",
       "   Outbreak_Related_Yes  Outcome1  \n",
       "0                     0         0  \n",
       "1                     0         1  \n",
       "2                     1         0  \n",
       "3                     0         0  \n",
       "4                     1         2  "
      ]
     },
     "execution_count": 32,
     "metadata": {},
     "output_type": "execute_result"
    }
   ],
   "source": [
    "df = pd.get_dummies(dataset3.iloc[:,:-1], drop_first=True, columns = cats)\n",
    "df[\"Outcome1\"] = dataset3[\"Outcome1\"]\n",
    "dataset3 = df\n",
    "\n",
    "dataset3.head()"
   ]
  },
  {
   "cell_type": "code",
   "execution_count": 33,
   "metadata": {},
   "outputs": [],
   "source": [
    "# Separating the dataset into matrix of features and target'\n",
    "X = dataset3.iloc[:,:-1].values\n",
    "y = dataset3.iloc[:,-1].values"
   ]
  },
  {
   "cell_type": "code",
   "execution_count": 34,
   "metadata": {},
   "outputs": [],
   "source": [
    "from sklearn.model_selection import train_test_split\n",
    "X_train, X_test, y_train, y_test = train_test_split(X, y, test_size=0.2, random_state=0)"
   ]
  },
  {
   "cell_type": "code",
   "execution_count": 35,
   "metadata": {},
   "outputs": [
    {
     "name": "stdout",
     "output_type": "stream",
     "text": [
      "Wall time: 311 ms\n"
     ]
    },
    {
     "data": {
      "text/plain": [
       "GaussianNB(var_smoothing=0.1)"
      ]
     },
     "execution_count": 35,
     "metadata": {},
     "output_type": "execute_result"
    }
   ],
   "source": [
    "%%time\n",
    "\n",
    "# Fitting the Classification Model\n",
    "nb_grid.fit(X_train, y_train)\n",
    "nb_average_score = nb_grid.cv_results_['mean_test_score'].astype(float)\n",
    "result = nb_grid.cv_results_\n",
    "nb_grid.best_estimator_"
   ]
  },
  {
   "cell_type": "code",
   "execution_count": 36,
   "metadata": {},
   "outputs": [
    {
     "data": {
      "text/plain": [
       "array([0.60643595, 0.60643595, 0.60643588, 0.61148809, 0.65013757])"
      ]
     },
     "execution_count": 36,
     "metadata": {},
     "output_type": "execute_result"
    }
   ],
   "source": [
    "nb_average_score"
   ]
  },
  {
   "cell_type": "code",
   "execution_count": 37,
   "metadata": {},
   "outputs": [
    {
     "data": {
      "image/png": "[encoded data removed]",
      "text/plain": [
       "<Figure size 432x288 with 1 Axes>"
      ]
     },
     "metadata": {
      "needs_background": "light"
     },
     "output_type": "display_data"
    }
   ],
   "source": [
    "plt.figure()\n",
    "sns.lineplot(x=[\"1e-10\", \"1e-9\", \"1e-5\", \"1e-3\", \"1e-1\"], y=nb_average_score)\n",
    "plt.show()"
   ]
  },
  {
   "cell_type": "code",
   "execution_count": 38,
   "metadata": {},
   "outputs": [
    {
     "name": "stdout",
     "output_type": "stream",
     "text": [
      "Training Set Evaluation\n",
      "Accuracy:  64.9\n",
      "F1_score:  0.62\n",
      "AUC:  0.82\n",
      "Wall time: 43 ms\n"
     ]
    }
   ],
   "source": [
    "%%time\n",
    "# Building model with optimal parameters\n",
    "nb = GaussianNB(var_smoothing=0.1)\n",
    "nb.fit(X_train, y_train)\n",
    "\n",
    "print(\"Training Set Evaluation\")\n",
    "print(\"Accuracy: \", round(100 * accuracy_score(y_train, nb.predict(X_train)), 2))\n",
    "print(\"F1_score: \", round(f1_score(y_train, nb.predict(X_train), average = 'weighted'), 2))\n",
    "print(\"AUC: \", round(roc_auc_score(y_train, nb.predict_proba(X_train), average = \"macro\", multi_class = \"ovo\"), 2))"
   ]
  },
  {
   "cell_type": "code",
   "execution_count": 39,
   "metadata": {},
   "outputs": [
    {
     "name": "stdout",
     "output_type": "stream",
     "text": [
      "Test Set Evaluation\n",
      "Accuracy:  64.8\n",
      "F1_score:  0.62\n",
      "AUC:  0.82\n"
     ]
    }
   ],
   "source": [
    "# Evaluating the model on the test set\n",
    "nb_pred = nb.predict(X_test)\n",
    "\n",
    "print(\"Test Set Evaluation\")\n",
    "print(\"Accuracy: \", round(100 * accuracy_score(y_test, nb_pred), 2))\n",
    "print(\"F1_score: \", round(f1_score(y_test, nb_pred, average = 'weighted'), 2))\n",
    "print(\"AUC: \", round(roc_auc_score(y_test, nb.predict_proba(X_test), average = \"macro\", multi_class = \"ovo\"), 2))"
   ]
  },
  {
   "cell_type": "markdown",
   "metadata": {},
   "source": [
    "## Impact of Feature Selection and Engineering\n",
    "\n",
    "##### Using all features\n",
    "| | Accuracy | F1 Score | AUC|\n",
    "| --- | --- | --- |--- |\n",
    "| Training Set | 65.82 | 0.64 | 0.82 |\n",
    "| Test Set | 65.44 | 0.64 | 0.82 |\n",
    "\n",
    "##### Dropping the City column\n",
    "| | Accuracy | F1 Score | AUC|\n",
    "| --- | --- | --- |--- |\n",
    "| Training Set | 65.68 | 0.64 | 0.82 |\n",
    "| Test Set | 65.34 | 0.63 | 0.82 |\n",
    "\n",
    "##### Aggregating the categories of the features\n",
    "| | Accuracy | F1 Score | AUC|\n",
    "| --- | --- | --- |--- |\n",
    "| Training Set | 64.9 | 0.62 | 0.82 |\n",
    "| Test Set | 64.8 | 0.62 | 0.82 |\n",
    "\n",
    "#### Observations\n",
    "There in no much difference in performance between adding the city feature and dropping the city feature. So we can drop the city feature to improve computation performance.\n"
   ]
  },
  {
   "cell_type": "markdown",
   "metadata": {},
   "source": [
    "### Improving the model by feature scaling"
   ]
  },
  {
   "cell_type": "markdown",
   "metadata": {},
   "source": [
    "##### Standard Scaler"
   ]
  },
  {
   "cell_type": "code",
   "execution_count": 40,
   "metadata": {},
   "outputs": [
    {
     "data": {
      "text/plain": [
       "GaussianNB(var_smoothing=1e-10)"
      ]
     },
     "execution_count": 40,
     "metadata": {},
     "output_type": "execute_result"
    }
   ],
   "source": [
    "X_scaler = StandardScaler()\n",
    "X_SS = X_scaler.fit_transform(X_train)\n",
    "X_SS_test = X_scaler.transform(X_test)\n",
    "nb_grid.fit(X_SS, y_train)\n",
    "nb_average_score = nb_grid.cv_results_['mean_test_score'].astype(float)\n",
    "result = nb_grid.cv_results_\n",
    "nb_grid.best_estimator_"
   ]
  },
  {
   "cell_type": "code",
   "execution_count": 41,
   "metadata": {},
   "outputs": [
    {
     "data": {
      "text/plain": [
       "array([0.60643595, 0.60643595, 0.60643595, 0.60635178, 0.60180512])"
      ]
     },
     "execution_count": 41,
     "metadata": {},
     "output_type": "execute_result"
    }
   ],
   "source": [
    "nb_average_score"
   ]
  },
  {
   "cell_type": "code",
   "execution_count": 42,
   "metadata": {},
   "outputs": [
    {
     "data": {
      "image/png": "[encoded data removed]",
      "text/plain": [
       "<Figure size 432x288 with 1 Axes>"
      ]
     },
     "metadata": {
      "needs_background": "light"
     },
     "output_type": "display_data"
    }
   ],
   "source": [
    "plt.figure()\n",
    "sns.lineplot(x=[\"1e-10\", \"1e-9\", \"1e-5\", \"1e-3\", \"1e-1\"], y=nb_average_score)\n",
    "plt.show()"
   ]
  },
  {
   "cell_type": "code",
   "execution_count": 43,
   "metadata": {},
   "outputs": [
    {
     "name": "stdout",
     "output_type": "stream",
     "text": [
      "Training Set Evaluation\n",
      "Accuracy:  60.99\n",
      "Wall time: 12 ms\n"
     ]
    }
   ],
   "source": [
    "%%time\n",
    "# Building model with optimal parameters\n",
    "nb = GaussianNB(var_smoothing=1e-10)\n",
    "nb.fit(X_SS, y_train)\n",
    "\n",
    "print(\"Training Set Evaluation\")\n",
    "print(\"Accuracy: \", round(100 * accuracy_score(y_train, nb.predict(X_SS)), 2))"
   ]
  },
  {
   "cell_type": "code",
   "execution_count": 44,
   "metadata": {},
   "outputs": [
    {
     "name": "stdout",
     "output_type": "stream",
     "text": [
      "Test Set Evaluation\n",
      "Accuracy:  59.99\n"
     ]
    }
   ],
   "source": [
    "# Evaluating the model on the test set\n",
    "nb_pred = nb.predict(X_SS_test)\n",
    "accuracy_1 = round(100 * accuracy_score(y_test, nb_pred), 2)\n",
    "print(\"Test Set Evaluation\")\n",
    "print(\"Accuracy: \", accuracy_1)"
   ]
  },
  {
   "cell_type": "markdown",
   "metadata": {},
   "source": [
    "##### MinMax Scaler"
   ]
  },
  {
   "cell_type": "code",
   "execution_count": 45,
   "metadata": {},
   "outputs": [
    {
     "data": {
      "text/plain": [
       "GaussianNB(var_smoothing=0.1)"
      ]
     },
     "execution_count": 45,
     "metadata": {},
     "output_type": "execute_result"
    }
   ],
   "source": [
    "X_scaler = MinMaxScaler()\n",
    "X_MMS = X_scaler.fit_transform(X_train)\n",
    "X_MMS_test = X_scaler.transform(X_test)\n",
    "nb_grid.fit(X_MMS, y_train)\n",
    "nb_average_score = nb_grid.cv_results_['mean_test_score'].astype(float)\n",
    "result = nb_grid.cv_results_\n",
    "nb_grid.best_estimator_"
   ]
  },
  {
   "cell_type": "code",
   "execution_count": 46,
   "metadata": {},
   "outputs": [
    {
     "data": {
      "text/plain": [
       "array([0.60643595, 0.60643595, 0.60643595, 0.60601494, 0.60685704])"
      ]
     },
     "execution_count": 46,
     "metadata": {},
     "output_type": "execute_result"
    }
   ],
   "source": [
    "nb_average_score"
   ]
  },
  {
   "cell_type": "code",
   "execution_count": 47,
   "metadata": {},
   "outputs": [
    {
     "data": {
      "image/png": "[encoded data removed]",
      "text/plain": [
       "<Figure size 432x288 with 1 Axes>"
      ]
     },
     "metadata": {
      "needs_background": "light"
     },
     "output_type": "display_data"
    }
   ],
   "source": [
    "plt.figure()\n",
    "sns.lineplot(x=[\"1e-10\", \"1e-9\", \"1e-5\", \"1e-3\", \"1e-1\"], y=nb_average_score)\n",
    "plt.show()"
   ]
  },
  {
   "cell_type": "code",
   "execution_count": 48,
   "metadata": {},
   "outputs": [
    {
     "name": "stdout",
     "output_type": "stream",
     "text": [
      "Training Set Evaluation\n",
      "Accuracy:  61.04\n",
      "Wall time: 12 ms\n"
     ]
    }
   ],
   "source": [
    "%%time\n",
    "# Building model with optimal parameters\n",
    "nb = GaussianNB(var_smoothing=0.1)\n",
    "nb.fit(X_MMS, y_train)\n",
    "\n",
    "print(\"Training Set Evaluation\")\n",
    "print(\"Accuracy: \", round(100 * accuracy_score(y_train, nb.predict(X_MMS)), 2))"
   ]
  },
  {
   "cell_type": "code",
   "execution_count": 49,
   "metadata": {},
   "outputs": [
    {
     "name": "stdout",
     "output_type": "stream",
     "text": [
      "Test Set Evaluation\n",
      "Accuracy:  60.19\n"
     ]
    }
   ],
   "source": [
    "# Evaluating the model on the test set\n",
    "nb_pred = nb.predict(X_MMS_test)\n",
    "accuracy_1 = round(100 * accuracy_score(y_test, nb_pred), 2)\n",
    "print(\"Test Set Evaluation\")\n",
    "print(\"Accuracy: \", accuracy_1)"
   ]
  },
  {
   "cell_type": "markdown",
   "metadata": {},
   "source": [
    "##### Robust Scaler"
   ]
  },
  {
   "cell_type": "code",
   "execution_count": 50,
   "metadata": {},
   "outputs": [
    {
     "data": {
      "text/plain": [
       "GaussianNB(var_smoothing=1e-05)"
      ]
     },
     "execution_count": 50,
     "metadata": {},
     "output_type": "execute_result"
    }
   ],
   "source": [
    "X_scaler = RobustScaler()\n",
    "X_RS = X_scaler.fit_transform(X_train)\n",
    "X_RS_test = X_scaler.transform(X_test)\n",
    "nb_grid.fit(X_RS, y_train)\n",
    "nb_average_score = nb_grid.cv_results_['mean_test_score'].astype(float)\n",
    "result = nb_grid.cv_results_\n",
    "nb_grid.best_estimator_"
   ]
  },
  {
   "cell_type": "code",
   "execution_count": 51,
   "metadata": {},
   "outputs": [
    {
     "data": {
      "text/plain": [
       "array([0.60643595, 0.60643595, 0.61165644, 0.52905352, 0.33310882])"
      ]
     },
     "execution_count": 51,
     "metadata": {},
     "output_type": "execute_result"
    }
   ],
   "source": [
    "nb_average_score"
   ]
  },
  {
   "cell_type": "code",
   "execution_count": 52,
   "metadata": {},
   "outputs": [
    {
     "data": {
      "image/png": "[encoded data removed]",
      "text/plain": [
       "<Figure size 432x288 with 1 Axes>"
      ]
     },
     "metadata": {
      "needs_background": "light"
     },
     "output_type": "display_data"
    }
   ],
   "source": [
    "plt.figure()\n",
    "sns.lineplot(x=[\"1e-10\", \"1e-9\", \"1e-5\", \"1e-3\", \"1e-1\"], y=nb_average_score)\n",
    "plt.show()"
   ]
  },
  {
   "cell_type": "code",
   "execution_count": 53,
   "metadata": {},
   "outputs": [
    {
     "name": "stdout",
     "output_type": "stream",
     "text": [
      "Training Set Evaluation\n",
      "Accuracy:  61.27\n",
      "Wall time: 18 ms\n"
     ]
    }
   ],
   "source": [
    "%%time\n",
    "# Building model with optimal parameters\n",
    "nb = GaussianNB(var_smoothing=1e-05)\n",
    "nb.fit(X_RS, y_train)\n",
    "\n",
    "print(\"Training Set Evaluation\")\n",
    "print(\"Accuracy: \", round(100 * accuracy_score(y_train, nb.predict(X_RS)), 2))"
   ]
  },
  {
   "cell_type": "code",
   "execution_count": 54,
   "metadata": {},
   "outputs": [
    {
     "name": "stdout",
     "output_type": "stream",
     "text": [
      "Test Set Evaluation\n",
      "Accuracy:  60.59\n"
     ]
    }
   ],
   "source": [
    "# Evaluating the model on the test set\n",
    "nb_pred = nb.predict(X_RS_test)\n",
    "accuracy_1 = round(100 * accuracy_score(y_test, nb_pred), 2)\n",
    "print(\"Test Set Evaluation\")\n",
    "print(\"Accuracy: \", accuracy_1)"
   ]
  },
  {
   "cell_type": "markdown",
   "metadata": {},
   "source": [
    "The Naive Bayes classifier performs better without feature scalling"
   ]
  },
  {
   "cell_type": "markdown",
   "metadata": {},
   "source": [
    "### <span style=\"color:blue\"> Notes About Feature Scaling on Naive Bayes </span>\n",
    "\n",
    "Effects of Scaling on Training Set and Test set accuracy\n",
    "\n",
    "| Scaling Method | Train Accuracy | Test Accuracy | \n",
    "| --- | --- | --- |\n",
    "| Standard Scaler | 60.99 | 59.99 |\n",
    "| MinMax Scaler | 61.04 | 60.19 | \n",
    "| Robust Scaler | 61.27 | 60.59 | \n",
    "| No Scaler | 64.9 | 64.8 | \n",
    "\n",
    "\n",
    "The Naive Bayes classifier performs better without feature scaling. Naive Bayes is not very sensitive to distance between values like KNN, so we did not expect much improvement from Feature Scaling."
   ]
  },
  {
   "cell_type": "markdown",
   "metadata": {},
   "source": [
    "## <span style=\"color:blue\">CM6 (Covid Dataset) </span>"
   ]
  },
  {
   "cell_type": "code",
   "execution_count": 55,
   "metadata": {},
   "outputs": [
    {
     "name": "stdout",
     "output_type": "stream",
     "text": [
      "Feature Means per class: \n",
      " [[ 2.72566151e+00  4.37274733e+01 -7.95909554e+01  4.96505242e-01\n",
      "   2.49625562e-04  4.97254119e-01  5.99101348e-03  4.40339491e-01\n",
      "   1.59760359e-01  2.05941088e-01  1.75736395e-01  1.72241638e-02\n",
      "   9.98502247e-04  7.90314528e-01  2.09685472e-01]\n",
      " [ 2.92826253e+00  4.37725211e+01 -7.96265344e+01  4.99872806e-01\n",
      "   2.54388196e-04  4.90714831e-01  9.15797507e-03  3.14932587e-01\n",
      "   3.56652251e-01  1.32790639e-01  1.85703383e-01  9.92113966e-03\n",
      "   0.00000000e+00  7.83770033e-01  2.16229967e-01]\n",
      " [ 6.82482864e+00  4.37284837e+01 -7.94626338e+01  5.18151815e-01\n",
      "   0.00000000e+00  4.74739782e-01  7.10840315e-03  7.64153338e-02\n",
      "   7.53998477e-02  9.92637725e-02  7.36481340e-01  1.24397055e-02\n",
      "   0.00000000e+00  2.37877634e-01  7.62122366e-01]]\n"
     ]
    }
   ],
   "source": [
    "print(\"Feature Means per class: \\n\", nb_2.theta_)"
   ]
  },
  {
   "cell_type": "code",
   "execution_count": 56,
   "metadata": {},
   "outputs": [
    {
     "name": "stdout",
     "output_type": "stream",
     "text": [
      "Feature Variance per class: \n",
      " [[4.82678204 1.19182136 3.06681906 0.93460757 0.68486935 0.93461225\n",
      "  0.69057491 0.93106041 0.81885677 0.84814914 0.8294729  0.70154728\n",
      "  0.68561729 0.85033726 0.85033726]\n",
      " [5.09463506 1.31843911 3.15977427 0.93461977 0.68487411 0.93453357\n",
      "  0.69369389 0.90036984 0.91407121 0.79977707 0.83583742 0.6944425\n",
      "  0.68461979 0.85409435 0.85409435]\n",
      " [2.00453138 1.22660619 3.25730642 0.9342903  0.68461979 0.93398171\n",
      "  0.69167766 0.75519582 0.7543345  0.77403026 0.87869636 0.69690475\n",
      "  0.68461979 0.86591165 0.86591165]]\n"
     ]
    }
   ],
   "source": [
    "print(\"Feature Variance per class: \\n\", nb_2.sigma_)"
   ]
  },
  {
   "cell_type": "code",
   "execution_count": 57,
   "metadata": {},
   "outputs": [
    {
     "name": "stdout",
     "output_type": "stream",
     "text": [
      "Class Priors: \n",
      " [0.33731896 0.3310037  0.33167733]\n"
     ]
    }
   ],
   "source": [
    "print(\"Class Priors: \\n\", nb_2.class_prior_)"
   ]
  },
  {
   "cell_type": "markdown",
   "metadata": {},
   "source": [
    "#####  <span style=\"color:blue\"> Learned Parameters and Naive Bayes </span>\n",
    "The Feature Means and Variances best describe the classifier"
   ]
  },
  {
   "cell_type": "markdown",
   "metadata": {},
   "source": [
    "##### <span style=\"color:blue\">Perfomance of Decision Tree vs Naive Bayes</span>\n",
    "\n",
    "|Accuracy|Decision Tree | Naive Bayes | \n",
    "| --- | --- | --- |\n",
    "| Training  Accuracy | 66.14 | 65.68 |\n",
    "| Test Accuracy | 65.91 | 65.34 | \n",
    "| **Wall Time | 364ms | 4.59ms |\n",
    "\n",
    "Naive Bayes seems to perform almost as well as Decision Tree and is much faster than Decision Tree in computation time."
   ]
  },
  {
   "cell_type": "code",
   "execution_count": 58,
   "metadata": {},
   "outputs": [
    {
     "name": "stdout",
     "output_type": "stream",
     "text": [
      "Age_Group   Mean: + 0.263   STD: +/- 0.004\n",
      "Case_AcquisitionInfo_MISSING INFORMATION   Mean: + 0.046   STD: +/- 0.002\n",
      "Case_AcquisitionInfo_CC   Mean: + 0.012   STD: +/- 0.001\n",
      "Case_AcquisitionInfo_NO KNOWN EPI LINK   Mean: + 0.006   STD: +/- 0.001\n"
     ]
    }
   ],
   "source": [
    "from sklearn.inspection import permutation_importance\n",
    "r = permutation_importance(nb_2, X_train_2, y_train_2, n_repeats=30, random_state=0)\n",
    "\n",
    "for i in r.importances_mean.argsort()[::-1]:\n",
    "    if r.importances_mean[i] - 2 * r.importances_std[i] > 0:\n",
    "        print(f\"{dataset2.columns[i]:<8}  \"\n",
    "              f\" Mean: + {r.importances_mean[i]:.3f}  \"\n",
    "               f\" STD: +/- {r.importances_std[i]:.3f}\")"
   ]
  },
  {
   "cell_type": "markdown",
   "metadata": {},
   "source": [
    "#### <span style=\"color:blue\"> Relation to Decision Tree Splitting Rules </span>\n",
    "The most important features learned by the Naive Bayes Classifier; Age Group and Case_AcquisitionInfo were also used in the splitting rules of the Decision Tree. \n"
   ]
  },
  {
   "cell_type": "code",
   "execution_count": null,
   "metadata": {},
   "outputs": [],
   "source": []
  }
 ],
 "metadata": {
  "kernelspec": {
   "display_name": "Python 3",
   "language": "python",
   "name": "python3"
  },
  "language_info": {
   "codemirror_mode": {
    "name": "ipython",
    "version": 3
   },
   "file_extension": ".py",
   "mimetype": "text/x-python",
   "name": "python",
   "nbconvert_exporter": "python",
   "pygments_lexer": "ipython3",
   "version": "3.7.9"
  }
 },
 "nbformat": 4,
 "nbformat_minor": 4
}
