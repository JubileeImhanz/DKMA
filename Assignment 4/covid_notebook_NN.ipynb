{
 "cells": [
  {
   "cell_type": "markdown",
   "id": "peaceful-filename",
   "metadata": {},
   "source": [
    "# ECE 657A ASSIGNMENT 4\n",
    "## Covid Dataset\n",
    "\n",
    "###### Jubilee Imhanzenobe and Olohireme Ajayi"
   ]
  },
  {
   "cell_type": "code",
   "execution_count": 1,
   "id": "suffering-cleanup",
   "metadata": {
    "scrolled": true
   },
   "outputs": [],
   "source": [
    "# importing the libraries\n",
    "import pandas as pd\n",
    "import numpy as np\n",
    "import seaborn as sns\n",
    "import matplotlib.pyplot as plt\n",
    "from sklearn.metrics import confusion_matrix, f1_score, accuracy_score, roc_auc_score\n",
    "from sklearn.preprocessing import StandardScaler, MinMaxScaler, RobustScaler\n",
    "from keras.models import Sequential\n",
    "from keras.layers import Dense\n",
    "from keras.utils import plot_model"
   ]
  },
  {
   "cell_type": "code",
   "execution_count": 2,
   "id": "upper-effort",
   "metadata": {},
   "outputs": [],
   "source": [
    "import warnings\n",
    "warnings.simplefilter(action='ignore', category=FutureWarning)"
   ]
  },
  {
   "cell_type": "code",
   "execution_count": 3,
   "id": "compatible-addiction",
   "metadata": {
    "scrolled": true
   },
   "outputs": [],
   "source": [
    "# defining function for plotting correlation heatmap\n",
    "def plot_heatmap(correlation, title):\n",
    "    plt.figure(figsize=(15, 8))\n",
    "    ax = sns.heatmap(correlation,annot=True,fmt='.3f',linewidths=0.3,annot_kws={\"size\": 18})\n",
    "    plt.xticks(fontsize=12) \n",
    "    plt.yticks(fontsize=12) \n",
    "    plt.title(title, fontsize=20)\n",
    "    ax.figure.axes[-1].tick_params(labelsize=18) # To increase fontsize of colorbar ticks\n",
    "    #lim = len(correlation.columns)\n",
    "    #ax.set_ylim([0,lim]) # to make the map display correctly without trimming the edges\n",
    "    plt.show()\n",
    "    return"
   ]
  },
  {
   "cell_type": "code",
   "execution_count": 4,
   "id": "b1cb9e11",
   "metadata": {},
   "outputs": [],
   "source": [
    "def accuracy_loss_plot(history):\n",
    "    plt.Figure()\n",
    "    plt.plot(history.history['accuracy'])\n",
    "    plt.plot(history.history['val_accuracy'])\n",
    "    plt.title('Model accuracy')\n",
    "    plt.ylabel('Accuracy')\n",
    "    plt.xlabel('Epoch')\n",
    "    plt.legend(['Train', 'Val'], loc='lower right')\n",
    "    plt.show()\n",
    "    plt.Figure()\n",
    "    plt.plot(history.history['loss'])\n",
    "    plt.plot(history.history['val_loss'])\n",
    "    plt.title('Model loss')\n",
    "    plt.ylabel('loss')\n",
    "    plt.xlabel('Epoch')\n",
    "    plt.legend(['Train', 'Val'], loc='lower right')\n",
    "    plt.show()"
   ]
  },
  {
   "cell_type": "code",
   "execution_count": 5,
   "id": "79052a49",
   "metadata": {},
   "outputs": [],
   "source": [
    "def print_accuracy(model, y_train, y_val, y_test):    \n",
    "    y_pred_train = model.predict(X_train)\n",
    "    y_pred_val = model.predict(X_val)\n",
    "    y_pred_test = model.predict(X_test)\n",
    "    \n",
    "    preds = [y_pred_train, y_pred_val, y_pred_test]\n",
    "    trues = [y_train, y_val, y_test]\n",
    "    \n",
    "    tag = ['Train', 'Val', 'Test']\n",
    "    \n",
    "    for i in range(3):\n",
    "        y_pred = preds[i]\n",
    "        pred = []\n",
    "        for j in range(len(y_pred)):\n",
    "            pred.append(np.argmax(y_pred[j]))\n",
    "\n",
    "        #Converting one hot encoded test label to label\n",
    "        y_true = trues[i]\n",
    "        true = []\n",
    "        for j in range(len(y_true)):\n",
    "            true.append(np.argmax(y_true[j]))\n",
    "\n",
    "        accuracy = accuracy_score(true, pred)\n",
    "        print(tag[i], 'Set Accuracy:\\t', accuracy * 100)"
   ]
  },
  {
   "cell_type": "code",
   "execution_count": 6,
   "id": "worldwide-proof",
   "metadata": {
    "scrolled": true
   },
   "outputs": [],
   "source": [
    "# importing the dataset\n",
    "dataset = pd.read_csv('COVID_dataset.csv')"
   ]
  },
  {
   "cell_type": "code",
   "execution_count": 7,
   "id": "confidential-upper",
   "metadata": {},
   "outputs": [
    {
     "data": {
      "text/plain": [
       "(14860, 12)"
      ]
     },
     "execution_count": 7,
     "metadata": {},
     "output_type": "execute_result"
    }
   ],
   "source": [
    "dataset.shape"
   ]
  },
  {
   "cell_type": "code",
   "execution_count": 8,
   "id": "severe-chemistry",
   "metadata": {
    "scrolled": true
   },
   "outputs": [
    {
     "data": {
      "text/html": [
       "<div>\n",
       "<style scoped>\n",
       "    .dataframe tbody tr th:only-of-type {\n",
       "        vertical-align: middle;\n",
       "    }\n",
       "\n",
       "    .dataframe tbody tr th {\n",
       "        vertical-align: top;\n",
       "    }\n",
       "\n",
       "    .dataframe thead th {\n",
       "        text-align: right;\n",
       "    }\n",
       "</style>\n",
       "<table border=\"1\" class=\"dataframe\">\n",
       "  <thead>\n",
       "    <tr style=\"text-align: right;\">\n",
       "      <th></th>\n",
       "      <th>Accurate_Episode_Date</th>\n",
       "      <th>Case_Reported_Date</th>\n",
       "      <th>Test_Reported_Date</th>\n",
       "      <th>Specimen_Date</th>\n",
       "      <th>Age_Group</th>\n",
       "      <th>Client_Gender</th>\n",
       "      <th>Case_AcquisitionInfo</th>\n",
       "      <th>Reporting_PHU_City</th>\n",
       "      <th>Outbreak_Related</th>\n",
       "      <th>Reporting_PHU_Latitude</th>\n",
       "      <th>Reporting_PHU_Longitude</th>\n",
       "      <th>Outcome1</th>\n",
       "    </tr>\n",
       "  </thead>\n",
       "  <tbody>\n",
       "    <tr>\n",
       "      <th>0</th>\n",
       "      <td>2020-03-30</td>\n",
       "      <td>2020-03-31</td>\n",
       "      <td>2020-03-31</td>\n",
       "      <td>2020-03-30</td>\n",
       "      <td>70s</td>\n",
       "      <td>MALE</td>\n",
       "      <td>OB</td>\n",
       "      <td>Stratford</td>\n",
       "      <td>Yes</td>\n",
       "      <td>43.368662</td>\n",
       "      <td>-81.001913</td>\n",
       "      <td>Fatal</td>\n",
       "    </tr>\n",
       "    <tr>\n",
       "      <th>1</th>\n",
       "      <td>2021-01-22</td>\n",
       "      <td>2021-01-24</td>\n",
       "      <td>2021-01-24</td>\n",
       "      <td>2021-01-23</td>\n",
       "      <td>50s</td>\n",
       "      <td>FEMALE</td>\n",
       "      <td>NO KNOWN EPI LINK</td>\n",
       "      <td>Newmarket</td>\n",
       "      <td>NaN</td>\n",
       "      <td>44.048023</td>\n",
       "      <td>-79.480239</td>\n",
       "      <td>Not Resolved</td>\n",
       "    </tr>\n",
       "    <tr>\n",
       "      <th>2</th>\n",
       "      <td>2020-03-24</td>\n",
       "      <td>2020-04-14</td>\n",
       "      <td>2020-04-14</td>\n",
       "      <td>2020-04-13</td>\n",
       "      <td>70s</td>\n",
       "      <td>FEMALE</td>\n",
       "      <td>OB</td>\n",
       "      <td>Toronto</td>\n",
       "      <td>Yes</td>\n",
       "      <td>43.656591</td>\n",
       "      <td>-79.379358</td>\n",
       "      <td>Resolved</td>\n",
       "    </tr>\n",
       "    <tr>\n",
       "      <th>3</th>\n",
       "      <td>2021-01-18</td>\n",
       "      <td>2021-01-21</td>\n",
       "      <td>2021-01-21</td>\n",
       "      <td>2021-01-18</td>\n",
       "      <td>&lt;20</td>\n",
       "      <td>MALE</td>\n",
       "      <td>CC</td>\n",
       "      <td>Mississauga</td>\n",
       "      <td>NaN</td>\n",
       "      <td>43.647471</td>\n",
       "      <td>-79.708893</td>\n",
       "      <td>Not Resolved</td>\n",
       "    </tr>\n",
       "    <tr>\n",
       "      <th>4</th>\n",
       "      <td>2020-12-26</td>\n",
       "      <td>2020-12-28</td>\n",
       "      <td>2020-12-28</td>\n",
       "      <td>2020-12-26</td>\n",
       "      <td>60s</td>\n",
       "      <td>MALE</td>\n",
       "      <td>OB</td>\n",
       "      <td>Windsor</td>\n",
       "      <td>Yes</td>\n",
       "      <td>42.308796</td>\n",
       "      <td>-83.033670</td>\n",
       "      <td>Resolved</td>\n",
       "    </tr>\n",
       "    <tr>\n",
       "      <th>5</th>\n",
       "      <td>2021-01-17</td>\n",
       "      <td>2021-01-19</td>\n",
       "      <td>2021-01-19</td>\n",
       "      <td>2021-01-18</td>\n",
       "      <td>50s</td>\n",
       "      <td>FEMALE</td>\n",
       "      <td>CC</td>\n",
       "      <td>Mississauga</td>\n",
       "      <td>NaN</td>\n",
       "      <td>43.647471</td>\n",
       "      <td>-79.708893</td>\n",
       "      <td>Not Resolved</td>\n",
       "    </tr>\n",
       "    <tr>\n",
       "      <th>6</th>\n",
       "      <td>2021-01-23</td>\n",
       "      <td>2021-01-24</td>\n",
       "      <td>2021-01-24</td>\n",
       "      <td>2021-01-23</td>\n",
       "      <td>20s</td>\n",
       "      <td>MALE</td>\n",
       "      <td>MISSING INFORMATION</td>\n",
       "      <td>Ottawa</td>\n",
       "      <td>NaN</td>\n",
       "      <td>45.345665</td>\n",
       "      <td>-75.763912</td>\n",
       "      <td>Not Resolved</td>\n",
       "    </tr>\n",
       "    <tr>\n",
       "      <th>7</th>\n",
       "      <td>2021-01-06</td>\n",
       "      <td>2021-01-20</td>\n",
       "      <td>2021-01-20</td>\n",
       "      <td>2021-01-19</td>\n",
       "      <td>80s</td>\n",
       "      <td>FEMALE</td>\n",
       "      <td>OB</td>\n",
       "      <td>Waterloo</td>\n",
       "      <td>Yes</td>\n",
       "      <td>43.462876</td>\n",
       "      <td>-80.520913</td>\n",
       "      <td>Resolved</td>\n",
       "    </tr>\n",
       "    <tr>\n",
       "      <th>8</th>\n",
       "      <td>2021-01-25</td>\n",
       "      <td>2021-01-29</td>\n",
       "      <td>2021-01-29</td>\n",
       "      <td>2021-01-28</td>\n",
       "      <td>40s</td>\n",
       "      <td>MALE</td>\n",
       "      <td>CC</td>\n",
       "      <td>Newmarket</td>\n",
       "      <td>NaN</td>\n",
       "      <td>44.048023</td>\n",
       "      <td>-79.480239</td>\n",
       "      <td>Not Resolved</td>\n",
       "    </tr>\n",
       "    <tr>\n",
       "      <th>9</th>\n",
       "      <td>2020-12-07</td>\n",
       "      <td>2020-12-11</td>\n",
       "      <td>2020-12-11</td>\n",
       "      <td>2020-12-07</td>\n",
       "      <td>90s</td>\n",
       "      <td>MALE</td>\n",
       "      <td>OB</td>\n",
       "      <td>Hamilton</td>\n",
       "      <td>Yes</td>\n",
       "      <td>43.257631</td>\n",
       "      <td>-79.871341</td>\n",
       "      <td>Fatal</td>\n",
       "    </tr>\n",
       "  </tbody>\n",
       "</table>\n",
       "</div>"
      ],
      "text/plain": [
       "  Accurate_Episode_Date Case_Reported_Date Test_Reported_Date Specimen_Date  \\\n",
       "0            2020-03-30         2020-03-31         2020-03-31    2020-03-30   \n",
       "1            2021-01-22         2021-01-24         2021-01-24    2021-01-23   \n",
       "2            2020-03-24         2020-04-14         2020-04-14    2020-04-13   \n",
       "3            2021-01-18         2021-01-21         2021-01-21    2021-01-18   \n",
       "4            2020-12-26         2020-12-28         2020-12-28    2020-12-26   \n",
       "5            2021-01-17         2021-01-19         2021-01-19    2021-01-18   \n",
       "6            2021-01-23         2021-01-24         2021-01-24    2021-01-23   \n",
       "7            2021-01-06         2021-01-20         2021-01-20    2021-01-19   \n",
       "8            2021-01-25         2021-01-29         2021-01-29    2021-01-28   \n",
       "9            2020-12-07         2020-12-11         2020-12-11    2020-12-07   \n",
       "\n",
       "  Age_Group Client_Gender Case_AcquisitionInfo Reporting_PHU_City  \\\n",
       "0       70s          MALE                   OB          Stratford   \n",
       "1       50s        FEMALE    NO KNOWN EPI LINK          Newmarket   \n",
       "2       70s        FEMALE                   OB            Toronto   \n",
       "3       <20          MALE                   CC        Mississauga   \n",
       "4       60s          MALE                   OB            Windsor   \n",
       "5       50s        FEMALE                   CC        Mississauga   \n",
       "6       20s          MALE  MISSING INFORMATION             Ottawa   \n",
       "7       80s        FEMALE                   OB           Waterloo   \n",
       "8       40s          MALE                   CC          Newmarket   \n",
       "9       90s          MALE                   OB           Hamilton   \n",
       "\n",
       "  Outbreak_Related  Reporting_PHU_Latitude  Reporting_PHU_Longitude  \\\n",
       "0              Yes               43.368662               -81.001913   \n",
       "1              NaN               44.048023               -79.480239   \n",
       "2              Yes               43.656591               -79.379358   \n",
       "3              NaN               43.647471               -79.708893   \n",
       "4              Yes               42.308796               -83.033670   \n",
       "5              NaN               43.647471               -79.708893   \n",
       "6              NaN               45.345665               -75.763912   \n",
       "7              Yes               43.462876               -80.520913   \n",
       "8              NaN               44.048023               -79.480239   \n",
       "9              Yes               43.257631               -79.871341   \n",
       "\n",
       "       Outcome1  \n",
       "0         Fatal  \n",
       "1  Not Resolved  \n",
       "2      Resolved  \n",
       "3  Not Resolved  \n",
       "4      Resolved  \n",
       "5  Not Resolved  \n",
       "6  Not Resolved  \n",
       "7      Resolved  \n",
       "8  Not Resolved  \n",
       "9         Fatal  "
      ]
     },
     "execution_count": 8,
     "metadata": {},
     "output_type": "execute_result"
    }
   ],
   "source": [
    "dataset.head(10)"
   ]
  },
  {
   "cell_type": "markdown",
   "id": "geographic-bulgaria",
   "metadata": {},
   "source": [
    "## Data Cleaning"
   ]
  },
  {
   "cell_type": "code",
   "execution_count": 9,
   "id": "opened-adapter",
   "metadata": {},
   "outputs": [
    {
     "name": "stdout",
     "output_type": "stream",
     "text": [
      "Accurate_Episode_Date - 0\n",
      "Case_Reported_Date - 0\n",
      "Test_Reported_Date - 203\n",
      "Specimen_Date - 122\n",
      "Age_Group - 5\n",
      "Client_Gender - 0\n",
      "Case_AcquisitionInfo - 0\n",
      "Reporting_PHU_City - 0\n",
      "Outbreak_Related - 9082\n",
      "Reporting_PHU_Latitude - 0\n",
      "Reporting_PHU_Longitude - 0\n",
      "Outcome1 - 0\n"
     ]
    }
   ],
   "source": [
    "# checking for missing values in columns\n",
    "for column in dataset.columns:\n",
    "    print(column, \"-\", dataset[column].isna().sum())"
   ]
  },
  {
   "cell_type": "code",
   "execution_count": 10,
   "id": "mineral-librarian",
   "metadata": {},
   "outputs": [],
   "source": [
    "# filling missing values in outbreak related with NO\n",
    "dataset[\"Outbreak_Related\"].fillna(\"No\", inplace=True)"
   ]
  },
  {
   "cell_type": "code",
   "execution_count": 11,
   "id": "structural-clerk",
   "metadata": {},
   "outputs": [],
   "source": [
    "# drop missing columns in Age_Group\n",
    "dataset = dataset[dataset['Age_Group'].notna()]\n",
    "dataset.reset_index(drop=True, inplace=True)"
   ]
  },
  {
   "cell_type": "code",
   "execution_count": 12,
   "id": "stunning-container",
   "metadata": {},
   "outputs": [
    {
     "data": {
      "text/plain": [
       "(13757, 12)"
      ]
     },
     "execution_count": 12,
     "metadata": {},
     "output_type": "execute_result"
    }
   ],
   "source": [
    "data = dataset[dataset['Case_Reported_Date'] == dataset['Test_Reported_Date']]\n",
    "data.shape"
   ]
  },
  {
   "cell_type": "code",
   "execution_count": 13,
   "id": "warming-james",
   "metadata": {},
   "outputs": [],
   "source": [
    "# grouping features accourding to their data types\n",
    "dates = ['Accurate_Episode_Date', 'Case_Reported_Date', 'Test_Reported_Date', 'Specimen_Date']\n",
    "cats = ['Client_Gender','Case_AcquisitionInfo','Reporting_PHU_City','Outbreak_Related']\n",
    "nums = ['Reporting_PHU_Latitude', 'Reporting_PHU_Longitude']\n",
    "ords = ['Age_Group']\n",
    "target = ['Outcome1']"
   ]
  },
  {
   "cell_type": "code",
   "execution_count": 14,
   "id": "incorporated-bargain",
   "metadata": {},
   "outputs": [
    {
     "name": "stdout",
     "output_type": "stream",
     "text": [
      "Client_Gender\n",
      "FEMALE            7559\n",
      "MALE              7192\n",
      "UNSPECIFIED        103\n",
      "GENDER DIVERSE       1\n",
      "Name: Client_Gender, dtype: int64\n",
      "\n",
      "Case_AcquisitionInfo\n",
      "OB                      5369\n",
      "CC                      4121\n",
      "MISSING INFORMATION     2928\n",
      "NO KNOWN EPI LINK       2240\n",
      "TRAVEL                   192\n",
      "UNSPECIFIED EPI LINK       5\n",
      "Name: Case_AcquisitionInfo, dtype: int64\n",
      "\n",
      "Reporting_PHU_City\n",
      "Toronto             5136\n",
      "Mississauga         2450\n",
      "Newmarket           1242\n",
      "Ottawa               773\n",
      "Windsor              593\n",
      "Thorold              571\n",
      "Whitby               565\n",
      "Hamilton             523\n",
      "Waterloo             491\n",
      "Oakville             465\n",
      "London               411\n",
      "Barrie               358\n",
      "Guelph               256\n",
      "Cornwall             166\n",
      "St. Thomas           113\n",
      "Point Edward          87\n",
      "Stratford             82\n",
      "Simcoe                75\n",
      "Thunder Bay           72\n",
      "Chatham               65\n",
      "Brockville            62\n",
      "Port Hope             58\n",
      "Brantford             43\n",
      "Sudbury               40\n",
      "Timmins               36\n",
      "Peterborough          31\n",
      "Owen Sound            22\n",
      "Kingston              20\n",
      "Pembroke              13\n",
      "Kenora                10\n",
      "North Bay              9\n",
      "Belleville             9\n",
      "Sault Ste. Marie       7\n",
      "New Liskeard           1\n",
      "Name: Reporting_PHU_City, dtype: int64\n",
      "\n",
      "Outbreak_Related\n",
      "No     9078\n",
      "Yes    5777\n",
      "Name: Outbreak_Related, dtype: int64\n",
      "\n"
     ]
    }
   ],
   "source": [
    "# inspecting the unique values in categorical columns and their frequencies\n",
    "for column in cats:\n",
    "    print(column)\n",
    "    print(dataset[column].value_counts())\n",
    "    print()"
   ]
  },
  {
   "cell_type": "code",
   "execution_count": 15,
   "id": "alternative-endorsement",
   "metadata": {},
   "outputs": [],
   "source": [
    "# Assigning numeric labels to ordinal data for data exploration\n",
    "dataset['Age_Group'].replace([\"<20\", \"20s\", \"30s\", \"40s\", \"50s\", \"60s\", \"70s\", \"80s\", \"90s\"],[0,1,2,3,4,5,6,7,8], inplace = True)"
   ]
  },
  {
   "cell_type": "code",
   "execution_count": 16,
   "id": "passive-debut",
   "metadata": {},
   "outputs": [],
   "source": [
    "# Label encoding the outcomes\n",
    "outcomes = [\"Resolved\", \"Not Resolved\", \"Fatal\"]\n",
    "dataset['Outcome1'].replace([\"Resolved\", \"Not Resolved\", \"Fatal\"],[0,1,2], inplace = True)"
   ]
  },
  {
   "cell_type": "code",
   "execution_count": 17,
   "id": "deadly-recruitment",
   "metadata": {},
   "outputs": [
    {
     "data": {
      "text/plain": [
       "dtype('O')"
      ]
     },
     "execution_count": 17,
     "metadata": {},
     "output_type": "execute_result"
    }
   ],
   "source": [
    "dataset['Case_Reported_Date'].dtype"
   ]
  },
  {
   "cell_type": "code",
   "execution_count": 18,
   "id": "44ad732b",
   "metadata": {},
   "outputs": [],
   "source": [
    "# convert the dates from float to datetime objects\n",
    "for column in dates:\n",
    "    dataset[column] = pd.to_datetime(dataset[column], format = '%Y-%m-%dT', errors = 'coerce')"
   ]
  },
  {
   "cell_type": "code",
   "execution_count": 19,
   "id": "090a79d1",
   "metadata": {},
   "outputs": [
    {
     "data": {
      "text/html": [
       "<div>\n",
       "<style scoped>\n",
       "    .dataframe tbody tr th:only-of-type {\n",
       "        vertical-align: middle;\n",
       "    }\n",
       "\n",
       "    .dataframe tbody tr th {\n",
       "        vertical-align: top;\n",
       "    }\n",
       "\n",
       "    .dataframe thead th {\n",
       "        text-align: right;\n",
       "    }\n",
       "</style>\n",
       "<table border=\"1\" class=\"dataframe\">\n",
       "  <thead>\n",
       "    <tr style=\"text-align: right;\">\n",
       "      <th></th>\n",
       "      <th>Accurate_Episode_Date</th>\n",
       "      <th>Case_Reported_Date</th>\n",
       "      <th>Test_Reported_Date</th>\n",
       "      <th>Specimen_Date</th>\n",
       "      <th>Age_Group</th>\n",
       "      <th>Client_Gender</th>\n",
       "      <th>Case_AcquisitionInfo</th>\n",
       "      <th>Reporting_PHU_City</th>\n",
       "      <th>Outbreak_Related</th>\n",
       "      <th>Reporting_PHU_Latitude</th>\n",
       "      <th>Reporting_PHU_Longitude</th>\n",
       "      <th>Outcome1</th>\n",
       "    </tr>\n",
       "  </thead>\n",
       "  <tbody>\n",
       "    <tr>\n",
       "      <th>0</th>\n",
       "      <td>2020-03-30</td>\n",
       "      <td>2020-03-31</td>\n",
       "      <td>2020-03-31</td>\n",
       "      <td>2020-03-30</td>\n",
       "      <td>6</td>\n",
       "      <td>MALE</td>\n",
       "      <td>OB</td>\n",
       "      <td>Stratford</td>\n",
       "      <td>Yes</td>\n",
       "      <td>43.368662</td>\n",
       "      <td>-81.001913</td>\n",
       "      <td>2</td>\n",
       "    </tr>\n",
       "    <tr>\n",
       "      <th>1</th>\n",
       "      <td>2021-01-22</td>\n",
       "      <td>2021-01-24</td>\n",
       "      <td>2021-01-24</td>\n",
       "      <td>2021-01-23</td>\n",
       "      <td>4</td>\n",
       "      <td>FEMALE</td>\n",
       "      <td>NO KNOWN EPI LINK</td>\n",
       "      <td>Newmarket</td>\n",
       "      <td>No</td>\n",
       "      <td>44.048023</td>\n",
       "      <td>-79.480239</td>\n",
       "      <td>1</td>\n",
       "    </tr>\n",
       "    <tr>\n",
       "      <th>2</th>\n",
       "      <td>2020-03-24</td>\n",
       "      <td>2020-04-14</td>\n",
       "      <td>2020-04-14</td>\n",
       "      <td>2020-04-13</td>\n",
       "      <td>6</td>\n",
       "      <td>FEMALE</td>\n",
       "      <td>OB</td>\n",
       "      <td>Toronto</td>\n",
       "      <td>Yes</td>\n",
       "      <td>43.656591</td>\n",
       "      <td>-79.379358</td>\n",
       "      <td>0</td>\n",
       "    </tr>\n",
       "    <tr>\n",
       "      <th>3</th>\n",
       "      <td>2021-01-18</td>\n",
       "      <td>2021-01-21</td>\n",
       "      <td>2021-01-21</td>\n",
       "      <td>2021-01-18</td>\n",
       "      <td>0</td>\n",
       "      <td>MALE</td>\n",
       "      <td>CC</td>\n",
       "      <td>Mississauga</td>\n",
       "      <td>No</td>\n",
       "      <td>43.647471</td>\n",
       "      <td>-79.708893</td>\n",
       "      <td>1</td>\n",
       "    </tr>\n",
       "    <tr>\n",
       "      <th>4</th>\n",
       "      <td>2020-12-26</td>\n",
       "      <td>2020-12-28</td>\n",
       "      <td>2020-12-28</td>\n",
       "      <td>2020-12-26</td>\n",
       "      <td>5</td>\n",
       "      <td>MALE</td>\n",
       "      <td>OB</td>\n",
       "      <td>Windsor</td>\n",
       "      <td>Yes</td>\n",
       "      <td>42.308796</td>\n",
       "      <td>-83.033670</td>\n",
       "      <td>0</td>\n",
       "    </tr>\n",
       "  </tbody>\n",
       "</table>\n",
       "</div>"
      ],
      "text/plain": [
       "  Accurate_Episode_Date Case_Reported_Date Test_Reported_Date Specimen_Date  \\\n",
       "0            2020-03-30         2020-03-31         2020-03-31    2020-03-30   \n",
       "1            2021-01-22         2021-01-24         2021-01-24    2021-01-23   \n",
       "2            2020-03-24         2020-04-14         2020-04-14    2020-04-13   \n",
       "3            2021-01-18         2021-01-21         2021-01-21    2021-01-18   \n",
       "4            2020-12-26         2020-12-28         2020-12-28    2020-12-26   \n",
       "\n",
       "   Age_Group Client_Gender Case_AcquisitionInfo Reporting_PHU_City  \\\n",
       "0          6          MALE                   OB          Stratford   \n",
       "1          4        FEMALE    NO KNOWN EPI LINK          Newmarket   \n",
       "2          6        FEMALE                   OB            Toronto   \n",
       "3          0          MALE                   CC        Mississauga   \n",
       "4          5          MALE                   OB            Windsor   \n",
       "\n",
       "  Outbreak_Related  Reporting_PHU_Latitude  Reporting_PHU_Longitude  Outcome1  \n",
       "0              Yes               43.368662               -81.001913         2  \n",
       "1               No               44.048023               -79.480239         1  \n",
       "2              Yes               43.656591               -79.379358         0  \n",
       "3               No               43.647471               -79.708893         1  \n",
       "4              Yes               42.308796               -83.033670         0  "
      ]
     },
     "execution_count": 19,
     "metadata": {},
     "output_type": "execute_result"
    }
   ],
   "source": [
    "dataset.head()"
   ]
  },
  {
   "cell_type": "markdown",
   "id": "empty-saskatchewan",
   "metadata": {},
   "source": [
    "## Exploratrory Data Analysis"
   ]
  },
  {
   "cell_type": "markdown",
   "id": "female-secretariat",
   "metadata": {},
   "source": [
    "##### Plotting the pairs plot for numeric features"
   ]
  },
  {
   "cell_type": "code",
   "execution_count": 20,
   "id": "european-mileage",
   "metadata": {
    "scrolled": false
   },
   "outputs": [
    {
     "data": {
      "text/plain": [
       "<seaborn.axisgrid.PairGrid at 0x19fc6e91a48>"
      ]
     },
     "execution_count": 20,
     "metadata": {},
     "output_type": "execute_result"
    },
    {
     "data": {
      "image/png": "[encoded data removed]",
      "text/plain": [
       "<Figure size 419.625x360 with 6 Axes>"
      ]
     },
     "metadata": {
      "needs_background": "light"
     },
     "output_type": "display_data"
    }
   ],
   "source": [
    "sns.pairplot(dataset[['Reporting_PHU_Latitude', 'Reporting_PHU_Longitude', 'Outcome1']], hue=\"Outcome1\")"
   ]
  },
  {
   "cell_type": "markdown",
   "id": "fifteen-leader",
   "metadata": {},
   "source": [
    "#### Checking the correlation for numerical features"
   ]
  },
  {
   "cell_type": "code",
   "execution_count": 21,
   "id": "quantitative-knitting",
   "metadata": {
    "scrolled": false
   },
   "outputs": [
    {
     "data": {
      "image/png": "[encoded data removed]",
      "text/plain": [
       "<Figure size 1080x576 with 2 Axes>"
      ]
     },
     "metadata": {
      "needs_background": "light"
     },
     "output_type": "display_data"
    }
   ],
   "source": [
    "plot_heatmap(dataset.corr(), 'Correlation between features')"
   ]
  },
  {
   "cell_type": "markdown",
   "id": "collectible-snapshot",
   "metadata": {},
   "source": [
    "### <span style=\"color:blue\">Observations from correlation heatmap of numeric and ordinal features </span> \n",
    "\n",
    "- Age group has the highest positive correlation with the outcome (0.632)\n",
    "- latitude and longitude have low correlation with the outcome."
   ]
  },
  {
   "cell_type": "markdown",
   "id": "loose-third",
   "metadata": {},
   "source": [
    "### Checking the correlations of categorical features using Cramer's V method"
   ]
  },
  {
   "cell_type": "markdown",
   "id": "behavioral-champagne",
   "metadata": {},
   "source": [
    "Cramér’s V is substitute for correlation which is suitable for categorical variables. It is based on a nominal variation of Pearson’s Chi-Square Test.\n",
    "\n",
    "1. Just like correlation, the output is in the range of [0,1], where 0 means no association and 1 is full association. (Unlike correlation, there are no negative values, as there’s no such thing as a negative association. Either there is, or there isn’t).\n",
    "\n",
    "2. Like correlation, Cramer’s V is symmetrical — it is insensitive to swapping x and y"
   ]
  },
  {
   "cell_type": "code",
   "execution_count": 22,
   "id": "conventional-genre",
   "metadata": {},
   "outputs": [],
   "source": [
    "import scipy.stats as ss\n",
    "def cramers_v(x, y):\n",
    "    confusion_matrix = pd.crosstab(x,y)\n",
    "    chi2 = ss.chi2_contingency(confusion_matrix)[0]\n",
    "    n = confusion_matrix.sum().sum()\n",
    "    phi2 = chi2/n\n",
    "    r,k = confusion_matrix.shape\n",
    "    phi2corr = max(0, phi2-((k-1)*(r-1))/(n-1))\n",
    "    rcorr = r-((r-1)**2)/(n-1)\n",
    "    kcorr = k-((k-1)**2)/(n-1)\n",
    "    return np.sqrt(phi2corr/min((kcorr-1),(rcorr-1)))"
   ]
  },
  {
   "cell_type": "code",
   "execution_count": 23,
   "id": "found-zambia",
   "metadata": {},
   "outputs": [
    {
     "name": "stdout",
     "output_type": "stream",
     "text": [
      "Client_Gender - Outcome =  0.021\n",
      "Client_Gender - Client_Gender = 1.0\n",
      "Client_Gender - Case_AcquisitionInfo = 0.063\n",
      "Client_Gender - Reporting_PHU_City = 0.038\n",
      "Client_Gender - Outbreak_Related = 0.107\n",
      "\n",
      "Case_AcquisitionInfo - Outcome =  0.416\n",
      "Case_AcquisitionInfo - Client_Gender = 0.063\n",
      "Case_AcquisitionInfo - Case_AcquisitionInfo = 1.0\n",
      "Case_AcquisitionInfo - Reporting_PHU_City = 0.261\n",
      "Case_AcquisitionInfo - Outbreak_Related = 0.919\n",
      "\n",
      "Reporting_PHU_City - Outcome =  0.15\n",
      "Reporting_PHU_City - Client_Gender = 0.038\n",
      "Reporting_PHU_City - Case_AcquisitionInfo = 0.261\n",
      "Reporting_PHU_City - Reporting_PHU_City = 1.0\n",
      "Reporting_PHU_City - Outbreak_Related = 0.206\n",
      "\n",
      "Outbreak_Related - Outcome =  0.535\n",
      "Outbreak_Related - Client_Gender = 0.107\n",
      "Outbreak_Related - Case_AcquisitionInfo = 0.919\n",
      "Outbreak_Related - Reporting_PHU_City = 0.206\n",
      "Outbreak_Related - Outbreak_Related = 1.0\n",
      "\n"
     ]
    }
   ],
   "source": [
    "for column1 in cats:\n",
    "    print(column1, '-', 'Outcome = ', round(cramers_v(dataset[column1], dataset['Outcome1']), 3))\n",
    "    for column2 in cats:\n",
    "        print(column1, '-', column2, '=', round(cramers_v(dataset[column1], dataset[column2]), 3))\n",
    "    print()"
   ]
  },
  {
   "cell_type": "markdown",
   "id": "wrong-brooks",
   "metadata": {},
   "source": [
    "### <span style=\"color:blue\">Observations from Cramer's V coefficients of categorical features </span> \n",
    "\n",
    "- Outbreak Related has a the most significant relationship with the outcome (0.535).\n",
    "- Case_AcquisitionInfo also has a significant relationship with the outcome (0.416).\n",
    "- Client Gender has the least correlation with the outcome.\n",
    "- Case_AcquisitionInfo and Outbreak Related have the highest inter-feature relationship (0.919) which is logical as they both describe how the virus was contacted."
   ]
  },
  {
   "cell_type": "markdown",
   "id": "electoral-proxy",
   "metadata": {},
   "source": [
    "##### Calculating the mean, variance, skew, kurtosis for the datasets"
   ]
  },
  {
   "cell_type": "code",
   "execution_count": 24,
   "id": "normal-inclusion",
   "metadata": {
    "scrolled": false
   },
   "outputs": [
    {
     "name": "stdout",
     "output_type": "stream",
     "text": [
      "*** Outcome =  Fatal ***\n",
      "Reporting_PHU_Latitude Mean - 43.72\n",
      "Reporting_PHU_Latitude Variance - 0.55\n",
      "Reporting_PHU_Latitude Skew - 2.01\n",
      "Reporting_PHU_Latitude Kurtosis - 9.81\n",
      "\n",
      "Reporting_PHU_Longitude Mean - -79.48\n",
      "Reporting_PHU_Longitude Variance - 2.63\n",
      "Reporting_PHU_Longitude Skew - -0.31\n",
      "Reporting_PHU_Longitude Kurtosis - 6.4\n",
      "\n",
      "Age_Group Mode - 7\n",
      "Age_Group Variance - 1.33\n",
      "Age_Group Skew - -1.19\n",
      "Age_Group Kurtosis - 1.97\n",
      "\n",
      "*** Outcome =  Not Resolved ***\n",
      "Reporting_PHU_Latitude Mean - 43.75\n",
      "Reporting_PHU_Latitude Variance - 0.62\n",
      "Reporting_PHU_Latitude Skew - 3.23\n",
      "Reporting_PHU_Latitude Kurtosis - 16.73\n",
      "\n",
      "Reporting_PHU_Longitude Mean - -79.63\n",
      "Reporting_PHU_Longitude Variance - 2.41\n",
      "Reporting_PHU_Longitude Skew - -1.84\n",
      "Reporting_PHU_Longitude Kurtosis - 19.26\n",
      "\n",
      "Age_Group Mode - 1\n",
      "Age_Group Variance - 4.52\n",
      "Age_Group Skew - 0.5\n",
      "Age_Group Kurtosis - -0.55\n",
      "\n",
      "*** Outcome =  Resolved ***\n",
      "Reporting_PHU_Latitude Mean - 43.72\n",
      "Reporting_PHU_Latitude Variance - 0.48\n",
      "Reporting_PHU_Latitude Skew - 2.5\n",
      "Reporting_PHU_Latitude Kurtosis - 15.59\n",
      "\n",
      "Reporting_PHU_Longitude Mean - -79.6\n",
      "Reporting_PHU_Longitude Variance - 2.41\n",
      "Reporting_PHU_Longitude Skew - -1.31\n",
      "Reporting_PHU_Longitude Kurtosis - 15.45\n",
      "\n",
      "Age_Group Mode - 1\n",
      "Age_Group Variance - 4.14\n",
      "Age_Group Skew - 0.55\n",
      "Age_Group Kurtosis - -0.44\n",
      "\n"
     ]
    }
   ],
   "source": [
    "# comparing for the different outcomeget\n",
    "for outcome in dataset[\"Outcome1\"].unique():\n",
    "    print(\"*** Outcome = \", outcomes[outcome], \"***\")\n",
    "    columns = nums + ords\n",
    "    for column in columns:\n",
    "        \n",
    "        mean = round(dataset[dataset['Outcome1'] == outcome][column].mean(), 2)\n",
    "        variance = round(dataset[dataset['Outcome1'] == outcome][column].var(), 2)\n",
    "        skew = round(dataset[dataset['Outcome1'] == outcome][column].skew(), 2)\n",
    "        kurtosis = round(dataset[dataset['Outcome1'] == outcome][column].kurt(), 2)\n",
    "        \n",
    "        # if column is not numeric find the mode\n",
    "        if column in cats or column in ords:\n",
    "            mode = round(dataset[dataset['Outcome1'] == outcome][column].mode()[0], 2)\n",
    "            print(column, \"Mode -\", mode)\n",
    "        else:\n",
    "            print(column, \"Mean -\", mean)\n",
    "            \n",
    "        print(column, \"Variance -\", variance)\n",
    "        print(column, \"Skew -\", skew)\n",
    "        print(column, \"Kurtosis -\", kurtosis)\n",
    "        print()"
   ]
  },
  {
   "cell_type": "markdown",
   "id": "public-battlefield",
   "metadata": {},
   "source": [
    "###  <span style=\"color:blue\"> Nature of the data and observations </span>\n",
    "\n",
    "- The most frequently occuring age group in the Resolved and Not Resolved Outcomes is 20s, while the mode age group for the Fatal Outcome is 80s.\n",
    "- The mean latitude and longitude for all outcomes are similar.\n",
    "- for all outcomes, Longitude is left skewed while Latitude is right skewed."
   ]
  },
  {
   "cell_type": "code",
   "execution_count": 25,
   "id": "potential-principle",
   "metadata": {},
   "outputs": [],
   "source": [
    "# Assigning numeric labels to categorical data for data exploration\n",
    "from sklearn.preprocessing import LabelEncoder\n",
    "le = LabelEncoder()\n",
    "\n",
    "data = dataset.copy()\n",
    "for column in cats:\n",
    "    data[column] = le.fit_transform(data[column])"
   ]
  },
  {
   "cell_type": "code",
   "execution_count": 26,
   "id": "isolated-belly",
   "metadata": {
    "scrolled": false
   },
   "outputs": [
    {
     "data": {
      "image/png": "[encoded data removed]",
      "text/plain": [
       "<Figure size 432x288 with 1 Axes>"
      ]
     },
     "metadata": {
      "needs_background": "light"
     },
     "output_type": "display_data"
    },
    {
     "data": {
      "image/png": "[encoded data removed]",
      "text/plain": [
       "<Figure size 432x288 with 1 Axes>"
      ]
     },
     "metadata": {
      "needs_background": "light"
     },
     "output_type": "display_data"
    },
    {
     "data": {
      "image/png": "[encoded data removed]",
      "text/plain": [
       "<Figure size 432x288 with 1 Axes>"
      ]
     },
     "metadata": {
      "needs_background": "light"
     },
     "output_type": "display_data"
    },
    {
     "data": {
      "image/png": "[encoded data removed]",
      "text/plain": [
       "<Figure size 432x288 with 1 Axes>"
      ]
     },
     "metadata": {
      "needs_background": "light"
     },
     "output_type": "display_data"
    },
    {
     "data": {
      "image/png": "[encoded data removed]",
      "text/plain": [
       "<Figure size 432x288 with 1 Axes>"
      ]
     },
     "metadata": {
      "needs_background": "light"
     },
     "output_type": "display_data"
    },
    {
     "data": {
      "image/png": "[encoded data removed]",
      "text/plain": [
       "<Figure size 432x288 with 1 Axes>"
      ]
     },
     "metadata": {
      "needs_background": "light"
     },
     "output_type": "display_data"
    },
    {
     "data": {
      "image/png": "[encoded data removed]",
      "text/plain": [
       "<Figure size 432x288 with 1 Axes>"
      ]
     },
     "metadata": {
      "needs_background": "light"
     },
     "output_type": "display_data"
    }
   ],
   "source": [
    "# Plotting histogram to view data distribution\n",
    "for column in data.iloc[:,4:-1].columns:\n",
    "    plt.figure()\n",
    "    sns.histplot(data = data, x = column, bins = 20)\n",
    "    plt.show()"
   ]
  },
  {
   "cell_type": "markdown",
   "id": "covered-treatment",
   "metadata": {},
   "source": [
    "### <span style=\"color:blue\">Notes about Histogram</span>\n",
    "\n",
    "- All categorical variables are in the right range without outliers.\n",
    "- Reporting_PHU_Latitude and Reporting_PHU_Longitude both seem to have outliers."
   ]
  },
  {
   "cell_type": "markdown",
   "id": "increasing-burst",
   "metadata": {},
   "source": [
    "#### Plotting histogram grouped by the different outcomes"
   ]
  },
  {
   "cell_type": "code",
   "execution_count": 27,
   "id": "delayed-johnson",
   "metadata": {
    "scrolled": false
   },
   "outputs": [
    {
     "data": {
      "image/png": "[encoded data removed]",
      "text/plain": [
       "<Figure size 1139.62x360 with 3 Axes>"
      ]
     },
     "metadata": {
      "needs_background": "light"
     },
     "output_type": "display_data"
    },
    {
     "data": {
      "image/png": "[encoded data removed]",
      "text/plain": [
       "<Figure size 1139.62x360 with 3 Axes>"
      ]
     },
     "metadata": {
      "needs_background": "light"
     },
     "output_type": "display_data"
    },
    {
     "data": {
      "image/png": "[encoded data removed]",
      "text/plain": [
       "<Figure size 1139.62x360 with 3 Axes>"
      ]
     },
     "metadata": {
      "needs_background": "light"
     },
     "output_type": "display_data"
    },
    {
     "data": {
      "image/png": "[encoded data removed]",
      "text/plain": [
       "<Figure size 1139.62x360 with 3 Axes>"
      ]
     },
     "metadata": {
      "needs_background": "light"
     },
     "output_type": "display_data"
    },
    {
     "data": {
      "image/png": "[encoded data removed]",
      "text/plain": [
       "<Figure size 1139.62x360 with 3 Axes>"
      ]
     },
     "metadata": {
      "needs_background": "light"
     },
     "output_type": "display_data"
    },
    {
     "data": {
      "image/png": "[encoded data removed]",
      "text/plain": [
       "<Figure size 1139.62x360 with 3 Axes>"
      ]
     },
     "metadata": {
      "needs_background": "light"
     },
     "output_type": "display_data"
    },
    {
     "data": {
      "image/png": "[encoded data removed]",
      "text/plain": [
       "<Figure size 1139.62x360 with 3 Axes>"
      ]
     },
     "metadata": {
      "needs_background": "light"
     },
     "output_type": "display_data"
    }
   ],
   "source": [
    "# plotting the histogram to view data distribution by outcome\n",
    "for feature in data.columns[4:-1]:\n",
    "    sns.displot(data, x = feature, bins = 20, col = 'Outcome1', hue = 'Outcome1')"
   ]
  },
  {
   "cell_type": "markdown",
   "id": "worldwide-printer",
   "metadata": {},
   "source": [
    "#### <span style=\"color:blue\">Nature of the data and observations</span>\n",
    "\n",
    "- For Age Group, most of people older than 70 have a fatal outcome while most people less than 40 have either Resolced or Unresolved outcomes.\n",
    "- The distributions for Client Gender, Outbreak Related and Reporting_PHU_City are very similar for all three Outcomes\n",
    "- In the Case Acquisition Info, most of the causes caused by outbreak resulted in a fatal outcome.\n",
    "- Most cases which were outbreak related had a fatal outcome."
   ]
  },
  {
   "cell_type": "code",
   "execution_count": 28,
   "id": "medium-participation",
   "metadata": {},
   "outputs": [
    {
     "data": {
      "text/html": [
       "<div>\n",
       "<style scoped>\n",
       "    .dataframe tbody tr th:only-of-type {\n",
       "        vertical-align: middle;\n",
       "    }\n",
       "\n",
       "    .dataframe tbody tr th {\n",
       "        vertical-align: top;\n",
       "    }\n",
       "\n",
       "    .dataframe thead th {\n",
       "        text-align: right;\n",
       "    }\n",
       "</style>\n",
       "<table border=\"1\" class=\"dataframe\">\n",
       "  <thead>\n",
       "    <tr style=\"text-align: right;\">\n",
       "      <th></th>\n",
       "      <th>Accurate_Episode_Date</th>\n",
       "      <th>Case_Reported_Date</th>\n",
       "      <th>Test_Reported_Date</th>\n",
       "      <th>Specimen_Date</th>\n",
       "      <th>Age_Group</th>\n",
       "      <th>Client_Gender</th>\n",
       "      <th>Case_AcquisitionInfo</th>\n",
       "      <th>Reporting_PHU_City</th>\n",
       "      <th>Outbreak_Related</th>\n",
       "      <th>Reporting_PHU_Latitude</th>\n",
       "      <th>Reporting_PHU_Longitude</th>\n",
       "      <th>Outcome1</th>\n",
       "    </tr>\n",
       "  </thead>\n",
       "  <tbody>\n",
       "    <tr>\n",
       "      <th>0</th>\n",
       "      <td>2020-03-30</td>\n",
       "      <td>2020-03-31</td>\n",
       "      <td>2020-03-31</td>\n",
       "      <td>2020-03-30</td>\n",
       "      <td>6</td>\n",
       "      <td>MALE</td>\n",
       "      <td>OB</td>\n",
       "      <td>Stratford</td>\n",
       "      <td>Yes</td>\n",
       "      <td>43.368662</td>\n",
       "      <td>-81.001913</td>\n",
       "      <td>2</td>\n",
       "    </tr>\n",
       "    <tr>\n",
       "      <th>1</th>\n",
       "      <td>2021-01-22</td>\n",
       "      <td>2021-01-24</td>\n",
       "      <td>2021-01-24</td>\n",
       "      <td>2021-01-23</td>\n",
       "      <td>4</td>\n",
       "      <td>FEMALE</td>\n",
       "      <td>NO KNOWN EPI LINK</td>\n",
       "      <td>Newmarket</td>\n",
       "      <td>No</td>\n",
       "      <td>44.048023</td>\n",
       "      <td>-79.480239</td>\n",
       "      <td>1</td>\n",
       "    </tr>\n",
       "    <tr>\n",
       "      <th>2</th>\n",
       "      <td>2020-03-24</td>\n",
       "      <td>2020-04-14</td>\n",
       "      <td>2020-04-14</td>\n",
       "      <td>2020-04-13</td>\n",
       "      <td>6</td>\n",
       "      <td>FEMALE</td>\n",
       "      <td>OB</td>\n",
       "      <td>Toronto</td>\n",
       "      <td>Yes</td>\n",
       "      <td>43.656591</td>\n",
       "      <td>-79.379358</td>\n",
       "      <td>0</td>\n",
       "    </tr>\n",
       "    <tr>\n",
       "      <th>3</th>\n",
       "      <td>2021-01-18</td>\n",
       "      <td>2021-01-21</td>\n",
       "      <td>2021-01-21</td>\n",
       "      <td>2021-01-18</td>\n",
       "      <td>0</td>\n",
       "      <td>MALE</td>\n",
       "      <td>CC</td>\n",
       "      <td>Mississauga</td>\n",
       "      <td>No</td>\n",
       "      <td>43.647471</td>\n",
       "      <td>-79.708893</td>\n",
       "      <td>1</td>\n",
       "    </tr>\n",
       "    <tr>\n",
       "      <th>4</th>\n",
       "      <td>2020-12-26</td>\n",
       "      <td>2020-12-28</td>\n",
       "      <td>2020-12-28</td>\n",
       "      <td>2020-12-26</td>\n",
       "      <td>5</td>\n",
       "      <td>MALE</td>\n",
       "      <td>OB</td>\n",
       "      <td>Windsor</td>\n",
       "      <td>Yes</td>\n",
       "      <td>42.308796</td>\n",
       "      <td>-83.033670</td>\n",
       "      <td>0</td>\n",
       "    </tr>\n",
       "  </tbody>\n",
       "</table>\n",
       "</div>"
      ],
      "text/plain": [
       "  Accurate_Episode_Date Case_Reported_Date Test_Reported_Date Specimen_Date  \\\n",
       "0            2020-03-30         2020-03-31         2020-03-31    2020-03-30   \n",
       "1            2021-01-22         2021-01-24         2021-01-24    2021-01-23   \n",
       "2            2020-03-24         2020-04-14         2020-04-14    2020-04-13   \n",
       "3            2021-01-18         2021-01-21         2021-01-21    2021-01-18   \n",
       "4            2020-12-26         2020-12-28         2020-12-28    2020-12-26   \n",
       "\n",
       "   Age_Group Client_Gender Case_AcquisitionInfo Reporting_PHU_City  \\\n",
       "0          6          MALE                   OB          Stratford   \n",
       "1          4        FEMALE    NO KNOWN EPI LINK          Newmarket   \n",
       "2          6        FEMALE                   OB            Toronto   \n",
       "3          0          MALE                   CC        Mississauga   \n",
       "4          5          MALE                   OB            Windsor   \n",
       "\n",
       "  Outbreak_Related  Reporting_PHU_Latitude  Reporting_PHU_Longitude  Outcome1  \n",
       "0              Yes               43.368662               -81.001913         2  \n",
       "1               No               44.048023               -79.480239         1  \n",
       "2              Yes               43.656591               -79.379358         0  \n",
       "3               No               43.647471               -79.708893         1  \n",
       "4              Yes               42.308796               -83.033670         0  "
      ]
     },
     "execution_count": 28,
     "metadata": {},
     "output_type": "execute_result"
    }
   ],
   "source": [
    "dataset.head()"
   ]
  },
  {
   "cell_type": "code",
   "execution_count": 29,
   "id": "aquatic-merchandise",
   "metadata": {},
   "outputs": [
    {
     "data": {
      "text/html": [
       "<div>\n",
       "<style scoped>\n",
       "    .dataframe tbody tr th:only-of-type {\n",
       "        vertical-align: middle;\n",
       "    }\n",
       "\n",
       "    .dataframe tbody tr th {\n",
       "        vertical-align: top;\n",
       "    }\n",
       "\n",
       "    .dataframe thead th {\n",
       "        text-align: right;\n",
       "    }\n",
       "</style>\n",
       "<table border=\"1\" class=\"dataframe\">\n",
       "  <thead>\n",
       "    <tr style=\"text-align: right;\">\n",
       "      <th></th>\n",
       "      <th>Accurate_Episode_Date</th>\n",
       "      <th>Case_Reported_Date</th>\n",
       "      <th>Test_Reported_Date</th>\n",
       "      <th>Specimen_Date</th>\n",
       "      <th>Age_Group</th>\n",
       "      <th>Reporting_PHU_Latitude</th>\n",
       "      <th>Reporting_PHU_Longitude</th>\n",
       "      <th>Client_Gender_GENDER DIVERSE</th>\n",
       "      <th>Client_Gender_MALE</th>\n",
       "      <th>Client_Gender_UNSPECIFIED</th>\n",
       "      <th>...</th>\n",
       "      <th>Reporting_PHU_City_Sudbury</th>\n",
       "      <th>Reporting_PHU_City_Thorold</th>\n",
       "      <th>Reporting_PHU_City_Thunder Bay</th>\n",
       "      <th>Reporting_PHU_City_Timmins</th>\n",
       "      <th>Reporting_PHU_City_Toronto</th>\n",
       "      <th>Reporting_PHU_City_Waterloo</th>\n",
       "      <th>Reporting_PHU_City_Whitby</th>\n",
       "      <th>Reporting_PHU_City_Windsor</th>\n",
       "      <th>Outbreak_Related_Yes</th>\n",
       "      <th>Outcome1</th>\n",
       "    </tr>\n",
       "  </thead>\n",
       "  <tbody>\n",
       "    <tr>\n",
       "      <th>0</th>\n",
       "      <td>2020-03-30</td>\n",
       "      <td>2020-03-31</td>\n",
       "      <td>2020-03-31</td>\n",
       "      <td>2020-03-30</td>\n",
       "      <td>6</td>\n",
       "      <td>43.368662</td>\n",
       "      <td>-81.001913</td>\n",
       "      <td>0</td>\n",
       "      <td>1</td>\n",
       "      <td>0</td>\n",
       "      <td>...</td>\n",
       "      <td>0</td>\n",
       "      <td>0</td>\n",
       "      <td>0</td>\n",
       "      <td>0</td>\n",
       "      <td>0</td>\n",
       "      <td>0</td>\n",
       "      <td>0</td>\n",
       "      <td>0</td>\n",
       "      <td>1</td>\n",
       "      <td>2</td>\n",
       "    </tr>\n",
       "    <tr>\n",
       "      <th>1</th>\n",
       "      <td>2021-01-22</td>\n",
       "      <td>2021-01-24</td>\n",
       "      <td>2021-01-24</td>\n",
       "      <td>2021-01-23</td>\n",
       "      <td>4</td>\n",
       "      <td>44.048023</td>\n",
       "      <td>-79.480239</td>\n",
       "      <td>0</td>\n",
       "      <td>0</td>\n",
       "      <td>0</td>\n",
       "      <td>...</td>\n",
       "      <td>0</td>\n",
       "      <td>0</td>\n",
       "      <td>0</td>\n",
       "      <td>0</td>\n",
       "      <td>0</td>\n",
       "      <td>0</td>\n",
       "      <td>0</td>\n",
       "      <td>0</td>\n",
       "      <td>0</td>\n",
       "      <td>1</td>\n",
       "    </tr>\n",
       "    <tr>\n",
       "      <th>2</th>\n",
       "      <td>2020-03-24</td>\n",
       "      <td>2020-04-14</td>\n",
       "      <td>2020-04-14</td>\n",
       "      <td>2020-04-13</td>\n",
       "      <td>6</td>\n",
       "      <td>43.656591</td>\n",
       "      <td>-79.379358</td>\n",
       "      <td>0</td>\n",
       "      <td>0</td>\n",
       "      <td>0</td>\n",
       "      <td>...</td>\n",
       "      <td>0</td>\n",
       "      <td>0</td>\n",
       "      <td>0</td>\n",
       "      <td>0</td>\n",
       "      <td>1</td>\n",
       "      <td>0</td>\n",
       "      <td>0</td>\n",
       "      <td>0</td>\n",
       "      <td>1</td>\n",
       "      <td>0</td>\n",
       "    </tr>\n",
       "    <tr>\n",
       "      <th>3</th>\n",
       "      <td>2021-01-18</td>\n",
       "      <td>2021-01-21</td>\n",
       "      <td>2021-01-21</td>\n",
       "      <td>2021-01-18</td>\n",
       "      <td>0</td>\n",
       "      <td>43.647471</td>\n",
       "      <td>-79.708893</td>\n",
       "      <td>0</td>\n",
       "      <td>1</td>\n",
       "      <td>0</td>\n",
       "      <td>...</td>\n",
       "      <td>0</td>\n",
       "      <td>0</td>\n",
       "      <td>0</td>\n",
       "      <td>0</td>\n",
       "      <td>0</td>\n",
       "      <td>0</td>\n",
       "      <td>0</td>\n",
       "      <td>0</td>\n",
       "      <td>0</td>\n",
       "      <td>1</td>\n",
       "    </tr>\n",
       "    <tr>\n",
       "      <th>4</th>\n",
       "      <td>2020-12-26</td>\n",
       "      <td>2020-12-28</td>\n",
       "      <td>2020-12-28</td>\n",
       "      <td>2020-12-26</td>\n",
       "      <td>5</td>\n",
       "      <td>42.308796</td>\n",
       "      <td>-83.033670</td>\n",
       "      <td>0</td>\n",
       "      <td>1</td>\n",
       "      <td>0</td>\n",
       "      <td>...</td>\n",
       "      <td>0</td>\n",
       "      <td>0</td>\n",
       "      <td>0</td>\n",
       "      <td>0</td>\n",
       "      <td>0</td>\n",
       "      <td>0</td>\n",
       "      <td>0</td>\n",
       "      <td>1</td>\n",
       "      <td>1</td>\n",
       "      <td>0</td>\n",
       "    </tr>\n",
       "  </tbody>\n",
       "</table>\n",
       "<p>5 rows × 50 columns</p>\n",
       "</div>"
      ],
      "text/plain": [
       "  Accurate_Episode_Date Case_Reported_Date Test_Reported_Date Specimen_Date  \\\n",
       "0            2020-03-30         2020-03-31         2020-03-31    2020-03-30   \n",
       "1            2021-01-22         2021-01-24         2021-01-24    2021-01-23   \n",
       "2            2020-03-24         2020-04-14         2020-04-14    2020-04-13   \n",
       "3            2021-01-18         2021-01-21         2021-01-21    2021-01-18   \n",
       "4            2020-12-26         2020-12-28         2020-12-28    2020-12-26   \n",
       "\n",
       "   Age_Group  Reporting_PHU_Latitude  Reporting_PHU_Longitude  \\\n",
       "0          6               43.368662               -81.001913   \n",
       "1          4               44.048023               -79.480239   \n",
       "2          6               43.656591               -79.379358   \n",
       "3          0               43.647471               -79.708893   \n",
       "4          5               42.308796               -83.033670   \n",
       "\n",
       "   Client_Gender_GENDER DIVERSE  Client_Gender_MALE  \\\n",
       "0                             0                   1   \n",
       "1                             0                   0   \n",
       "2                             0                   0   \n",
       "3                             0                   1   \n",
       "4                             0                   1   \n",
       "\n",
       "   Client_Gender_UNSPECIFIED  ...  Reporting_PHU_City_Sudbury  \\\n",
       "0                          0  ...                           0   \n",
       "1                          0  ...                           0   \n",
       "2                          0  ...                           0   \n",
       "3                          0  ...                           0   \n",
       "4                          0  ...                           0   \n",
       "\n",
       "   Reporting_PHU_City_Thorold  Reporting_PHU_City_Thunder Bay  \\\n",
       "0                           0                               0   \n",
       "1                           0                               0   \n",
       "2                           0                               0   \n",
       "3                           0                               0   \n",
       "4                           0                               0   \n",
       "\n",
       "   Reporting_PHU_City_Timmins  Reporting_PHU_City_Toronto  \\\n",
       "0                           0                           0   \n",
       "1                           0                           0   \n",
       "2                           0                           1   \n",
       "3                           0                           0   \n",
       "4                           0                           0   \n",
       "\n",
       "   Reporting_PHU_City_Waterloo  Reporting_PHU_City_Whitby  \\\n",
       "0                            0                          0   \n",
       "1                            0                          0   \n",
       "2                            0                          0   \n",
       "3                            0                          0   \n",
       "4                            0                          0   \n",
       "\n",
       "   Reporting_PHU_City_Windsor  Outbreak_Related_Yes  Outcome1  \n",
       "0                           0                     1         2  \n",
       "1                           0                     0         1  \n",
       "2                           0                     1         0  \n",
       "3                           0                     0         1  \n",
       "4                           1                     1         0  \n",
       "\n",
       "[5 rows x 50 columns]"
      ]
     },
     "execution_count": 29,
     "metadata": {},
     "output_type": "execute_result"
    }
   ],
   "source": [
    "df = pd.get_dummies(dataset.iloc[:,:-1], columns = cats, drop_first = True)\n",
    "df[\"Outcome1\"] = dataset[\"Outcome1\"]\n",
    "dataset = df\n",
    "\n",
    "dataset.head()"
   ]
  },
  {
   "cell_type": "code",
   "execution_count": 30,
   "id": "ongoing-catholic",
   "metadata": {},
   "outputs": [
    {
     "data": {
      "text/html": [
       "<div>\n",
       "<style scoped>\n",
       "    .dataframe tbody tr th:only-of-type {\n",
       "        vertical-align: middle;\n",
       "    }\n",
       "\n",
       "    .dataframe tbody tr th {\n",
       "        vertical-align: top;\n",
       "    }\n",
       "\n",
       "    .dataframe thead th {\n",
       "        text-align: right;\n",
       "    }\n",
       "</style>\n",
       "<table border=\"1\" class=\"dataframe\">\n",
       "  <thead>\n",
       "    <tr style=\"text-align: right;\">\n",
       "      <th></th>\n",
       "      <th>Age_Group</th>\n",
       "      <th>Reporting_PHU_Latitude</th>\n",
       "      <th>Reporting_PHU_Longitude</th>\n",
       "      <th>Client_Gender_GENDER DIVERSE</th>\n",
       "      <th>Client_Gender_MALE</th>\n",
       "      <th>Client_Gender_UNSPECIFIED</th>\n",
       "      <th>Case_AcquisitionInfo_MISSING INFORMATION</th>\n",
       "      <th>Case_AcquisitionInfo_NO KNOWN EPI LINK</th>\n",
       "      <th>Case_AcquisitionInfo_OB</th>\n",
       "      <th>Case_AcquisitionInfo_TRAVEL</th>\n",
       "      <th>...</th>\n",
       "      <th>Reporting_PHU_City_Sudbury</th>\n",
       "      <th>Reporting_PHU_City_Thorold</th>\n",
       "      <th>Reporting_PHU_City_Thunder Bay</th>\n",
       "      <th>Reporting_PHU_City_Timmins</th>\n",
       "      <th>Reporting_PHU_City_Toronto</th>\n",
       "      <th>Reporting_PHU_City_Waterloo</th>\n",
       "      <th>Reporting_PHU_City_Whitby</th>\n",
       "      <th>Reporting_PHU_City_Windsor</th>\n",
       "      <th>Outbreak_Related_Yes</th>\n",
       "      <th>Outcome1</th>\n",
       "    </tr>\n",
       "  </thead>\n",
       "  <tbody>\n",
       "    <tr>\n",
       "      <th>0</th>\n",
       "      <td>6</td>\n",
       "      <td>43.368662</td>\n",
       "      <td>-81.001913</td>\n",
       "      <td>0</td>\n",
       "      <td>1</td>\n",
       "      <td>0</td>\n",
       "      <td>0</td>\n",
       "      <td>0</td>\n",
       "      <td>1</td>\n",
       "      <td>0</td>\n",
       "      <td>...</td>\n",
       "      <td>0</td>\n",
       "      <td>0</td>\n",
       "      <td>0</td>\n",
       "      <td>0</td>\n",
       "      <td>0</td>\n",
       "      <td>0</td>\n",
       "      <td>0</td>\n",
       "      <td>0</td>\n",
       "      <td>1</td>\n",
       "      <td>2</td>\n",
       "    </tr>\n",
       "    <tr>\n",
       "      <th>1</th>\n",
       "      <td>4</td>\n",
       "      <td>44.048023</td>\n",
       "      <td>-79.480239</td>\n",
       "      <td>0</td>\n",
       "      <td>0</td>\n",
       "      <td>0</td>\n",
       "      <td>0</td>\n",
       "      <td>1</td>\n",
       "      <td>0</td>\n",
       "      <td>0</td>\n",
       "      <td>...</td>\n",
       "      <td>0</td>\n",
       "      <td>0</td>\n",
       "      <td>0</td>\n",
       "      <td>0</td>\n",
       "      <td>0</td>\n",
       "      <td>0</td>\n",
       "      <td>0</td>\n",
       "      <td>0</td>\n",
       "      <td>0</td>\n",
       "      <td>1</td>\n",
       "    </tr>\n",
       "    <tr>\n",
       "      <th>2</th>\n",
       "      <td>6</td>\n",
       "      <td>43.656591</td>\n",
       "      <td>-79.379358</td>\n",
       "      <td>0</td>\n",
       "      <td>0</td>\n",
       "      <td>0</td>\n",
       "      <td>0</td>\n",
       "      <td>0</td>\n",
       "      <td>1</td>\n",
       "      <td>0</td>\n",
       "      <td>...</td>\n",
       "      <td>0</td>\n",
       "      <td>0</td>\n",
       "      <td>0</td>\n",
       "      <td>0</td>\n",
       "      <td>1</td>\n",
       "      <td>0</td>\n",
       "      <td>0</td>\n",
       "      <td>0</td>\n",
       "      <td>1</td>\n",
       "      <td>0</td>\n",
       "    </tr>\n",
       "    <tr>\n",
       "      <th>3</th>\n",
       "      <td>0</td>\n",
       "      <td>43.647471</td>\n",
       "      <td>-79.708893</td>\n",
       "      <td>0</td>\n",
       "      <td>1</td>\n",
       "      <td>0</td>\n",
       "      <td>0</td>\n",
       "      <td>0</td>\n",
       "      <td>0</td>\n",
       "      <td>0</td>\n",
       "      <td>...</td>\n",
       "      <td>0</td>\n",
       "      <td>0</td>\n",
       "      <td>0</td>\n",
       "      <td>0</td>\n",
       "      <td>0</td>\n",
       "      <td>0</td>\n",
       "      <td>0</td>\n",
       "      <td>0</td>\n",
       "      <td>0</td>\n",
       "      <td>1</td>\n",
       "    </tr>\n",
       "    <tr>\n",
       "      <th>4</th>\n",
       "      <td>5</td>\n",
       "      <td>42.308796</td>\n",
       "      <td>-83.033670</td>\n",
       "      <td>0</td>\n",
       "      <td>1</td>\n",
       "      <td>0</td>\n",
       "      <td>0</td>\n",
       "      <td>0</td>\n",
       "      <td>1</td>\n",
       "      <td>0</td>\n",
       "      <td>...</td>\n",
       "      <td>0</td>\n",
       "      <td>0</td>\n",
       "      <td>0</td>\n",
       "      <td>0</td>\n",
       "      <td>0</td>\n",
       "      <td>0</td>\n",
       "      <td>0</td>\n",
       "      <td>1</td>\n",
       "      <td>1</td>\n",
       "      <td>0</td>\n",
       "    </tr>\n",
       "  </tbody>\n",
       "</table>\n",
       "<p>5 rows × 46 columns</p>\n",
       "</div>"
      ],
      "text/plain": [
       "   Age_Group  Reporting_PHU_Latitude  Reporting_PHU_Longitude  \\\n",
       "0          6               43.368662               -81.001913   \n",
       "1          4               44.048023               -79.480239   \n",
       "2          6               43.656591               -79.379358   \n",
       "3          0               43.647471               -79.708893   \n",
       "4          5               42.308796               -83.033670   \n",
       "\n",
       "   Client_Gender_GENDER DIVERSE  Client_Gender_MALE  \\\n",
       "0                             0                   1   \n",
       "1                             0                   0   \n",
       "2                             0                   0   \n",
       "3                             0                   1   \n",
       "4                             0                   1   \n",
       "\n",
       "   Client_Gender_UNSPECIFIED  Case_AcquisitionInfo_MISSING INFORMATION  \\\n",
       "0                          0                                         0   \n",
       "1                          0                                         0   \n",
       "2                          0                                         0   \n",
       "3                          0                                         0   \n",
       "4                          0                                         0   \n",
       "\n",
       "   Case_AcquisitionInfo_NO KNOWN EPI LINK  Case_AcquisitionInfo_OB  \\\n",
       "0                                       0                        1   \n",
       "1                                       1                        0   \n",
       "2                                       0                        1   \n",
       "3                                       0                        0   \n",
       "4                                       0                        1   \n",
       "\n",
       "   Case_AcquisitionInfo_TRAVEL  ...  Reporting_PHU_City_Sudbury  \\\n",
       "0                            0  ...                           0   \n",
       "1                            0  ...                           0   \n",
       "2                            0  ...                           0   \n",
       "3                            0  ...                           0   \n",
       "4                            0  ...                           0   \n",
       "\n",
       "   Reporting_PHU_City_Thorold  Reporting_PHU_City_Thunder Bay  \\\n",
       "0                           0                               0   \n",
       "1                           0                               0   \n",
       "2                           0                               0   \n",
       "3                           0                               0   \n",
       "4                           0                               0   \n",
       "\n",
       "   Reporting_PHU_City_Timmins  Reporting_PHU_City_Toronto  \\\n",
       "0                           0                           0   \n",
       "1                           0                           0   \n",
       "2                           0                           1   \n",
       "3                           0                           0   \n",
       "4                           0                           0   \n",
       "\n",
       "   Reporting_PHU_City_Waterloo  Reporting_PHU_City_Whitby  \\\n",
       "0                            0                          0   \n",
       "1                            0                          0   \n",
       "2                            0                          0   \n",
       "3                            0                          0   \n",
       "4                            0                          0   \n",
       "\n",
       "   Reporting_PHU_City_Windsor  Outbreak_Related_Yes  Outcome1  \n",
       "0                           0                     1         2  \n",
       "1                           0                     0         1  \n",
       "2                           0                     1         0  \n",
       "3                           0                     0         1  \n",
       "4                           1                     1         0  \n",
       "\n",
       "[5 rows x 46 columns]"
      ]
     },
     "execution_count": 30,
     "metadata": {},
     "output_type": "execute_result"
    }
   ],
   "source": [
    "df = dataset.iloc[:,4:]\n",
    "df.head()"
   ]
  },
  {
   "cell_type": "code",
   "execution_count": 31,
   "id": "floral-aging",
   "metadata": {},
   "outputs": [],
   "source": [
    "X = df.iloc[:, :-1].values\n",
    "y = df.iloc[:, -1].values.reshape(-1, 1)\n",
    "\n",
    "from sklearn.preprocessing import OneHotEncoder\n",
    "ohe = OneHotEncoder()\n",
    "y = ohe.fit_transform(y).toarray()"
   ]
  },
  {
   "cell_type": "code",
   "execution_count": 32,
   "id": "charitable-infrastructure",
   "metadata": {},
   "outputs": [],
   "source": [
    "# Splitting the dataset into the Training set and Test set\n",
    "from sklearn.model_selection import train_test_split\n",
    "X_train, X_test, y_train, y_test = train_test_split(X, y, test_size = 0.2, random_state = 0)\n",
    "X_val, X_test, y_val, y_test = train_test_split(X_test, y_test, test_size = 0.5, random_state = 0)"
   ]
  },
  {
   "cell_type": "code",
   "execution_count": 33,
   "id": "declared-rainbow",
   "metadata": {},
   "outputs": [],
   "source": [
    "# Feature Scaling\n",
    "from sklearn.preprocessing import StandardScaler\n",
    "sc = StandardScaler()\n",
    "X_train = sc.fit_transform(X_train)\n",
    "X_val = sc.transform(X_val)\n",
    "X_test = sc.transform(X_test)"
   ]
  },
  {
   "cell_type": "code",
   "execution_count": 34,
   "id": "informal-evidence",
   "metadata": {},
   "outputs": [
    {
     "data": {
      "text/plain": [
       "(11884, 45)"
      ]
     },
     "execution_count": 34,
     "metadata": {},
     "output_type": "execute_result"
    }
   ],
   "source": [
    "X_train.shape"
   ]
  },
  {
   "cell_type": "code",
   "execution_count": 35,
   "id": "dominant-mileage",
   "metadata": {},
   "outputs": [
    {
     "data": {
      "text/plain": [
       "(11884, 3)"
      ]
     },
     "execution_count": 35,
     "metadata": {},
     "output_type": "execute_result"
    }
   ],
   "source": [
    "y_train.shape"
   ]
  },
  {
   "cell_type": "markdown",
   "id": "3b5b70f2",
   "metadata": {},
   "source": [
    "#### Model 1"
   ]
  },
  {
   "cell_type": "code",
   "execution_count": 50,
   "id": "incident-moisture",
   "metadata": {
    "scrolled": true
   },
   "outputs": [],
   "source": [
    "%%capture\n",
    "model = Sequential()\n",
    "\n",
    "# Creating the input layer and first hidden layer\n",
    "model.add(Dense(16, input_dim=45, activation='relu'))\n",
    "\n",
    "#Adding second hidden layer\n",
    "model.add(Dense(12, activation='relu'))\n",
    "\n",
    "#Adding the output layer\n",
    "model.add(Dense(3, activation='softmax'))\n",
    "\n",
    "#Compiling the ANN\n",
    "model.compile(optimizer='adam', loss='categorical_crossentropy', metrics=['accuracy'])\n",
    "\n",
    "#Fitting the classifier to the training set\n",
    "history = model.fit(X_train, y_train, validation_data = (X_val, y_val), batch_size=128, epochs=100)"
   ]
  },
  {
   "cell_type": "code",
   "execution_count": 51,
   "id": "southeast-papua",
   "metadata": {},
   "outputs": [
    {
     "data": {
      "image/png": "[encoded data removed]",
      "text/plain": [
       "<Figure size 432x288 with 1 Axes>"
      ]
     },
     "metadata": {
      "needs_background": "light"
     },
     "output_type": "display_data"
    },
    {
     "data": {
      "image/png": "[encoded data removed]",
      "text/plain": [
       "<Figure size 432x288 with 1 Axes>"
      ]
     },
     "metadata": {
      "needs_background": "light"
     },
     "output_type": "display_data"
    }
   ],
   "source": [
    "accuracy_loss_plot(history)"
   ]
  },
  {
   "cell_type": "code",
   "execution_count": 52,
   "id": "comic-helen",
   "metadata": {
    "scrolled": true
   },
   "outputs": [
    {
     "data": {
      "image/png": "[encoded data removed]",
      "text/plain": [
       "<IPython.core.display.Image object>"
      ]
     },
     "execution_count": 52,
     "metadata": {},
     "output_type": "execute_result"
    }
   ],
   "source": [
    "plot_model(model, show_shapes=True, rankdir=\"LR\")"
   ]
  },
  {
   "cell_type": "code",
   "execution_count": 89,
   "id": "bf2ea9ac",
   "metadata": {},
   "outputs": [
    {
     "name": "stdout",
     "output_type": "stream",
     "text": [
      "Model: \"sequential_25\"\n",
      "_________________________________________________________________\n",
      "Layer (type)                 Output Shape              Param #   \n",
      "=================================================================\n",
      "lstm_5 (LSTM)                (None, 128)               89088     \n",
      "_________________________________________________________________\n",
      "dense_54 (Dense)             (None, 12)                1548      \n",
      "_________________________________________________________________\n",
      "dense_55 (Dense)             (None, 3)                 39        \n",
      "=================================================================\n",
      "Total params: 90,675\n",
      "Trainable params: 90,675\n",
      "Non-trainable params: 0\n",
      "_________________________________________________________________\n",
      "None\n"
     ]
    }
   ],
   "source": [
    "print(model.summary())"
   ]
  },
  {
   "cell_type": "code",
   "execution_count": 53,
   "id": "7c31c651",
   "metadata": {
    "scrolled": true
   },
   "outputs": [
    {
     "name": "stdout",
     "output_type": "stream",
     "text": [
      "Train Set Accuracy:\t 67.62032985526758\n",
      "Val Set Accuracy:\t 66.26262626262627\n",
      "Test Set Accuracy:\t 67.56393001345896\n"
     ]
    }
   ],
   "source": [
    "print_accuracy(model, y_train, y_val, y_test)"
   ]
  },
  {
   "cell_type": "markdown",
   "id": "380eb026",
   "metadata": {},
   "source": [
    "#### Model 2"
   ]
  },
  {
   "cell_type": "code",
   "execution_count": 81,
   "id": "ff4d3504",
   "metadata": {
    "scrolled": true
   },
   "outputs": [],
   "source": [
    "%%capture\n",
    "model = Sequential()\n",
    "\n",
    "# Creating the input layer and first hidden layer\n",
    "model.add(Dense(16, input_dim=45, activation='sigmoid'))\n",
    "\n",
    "#Adding second hidden layer\n",
    "model.add(Dense(12, activation='sigmoid'))\n",
    "\n",
    "#Adding the output layer\n",
    "model.add(Dense(3, activation='softmax'))\n",
    "\n",
    "#Compiling the ANN\n",
    "model.compile(optimizer='adam', loss='categorical_crossentropy', metrics=['accuracy'])\n",
    "\n",
    "#Fitting the classifier to the training set\n",
    "history = model.fit(X_train, y_train, validation_data = (X_val, y_val), batch_size=128, epochs=100)"
   ]
  },
  {
   "cell_type": "code",
   "execution_count": 82,
   "id": "southeast-papua",
   "metadata": {},
   "outputs": [
    {
     "data": {
      "image/png": "[encoded data removed]",
      "text/plain": [
       "<Figure size 432x288 with 1 Axes>"
      ]
     },
     "metadata": {
      "needs_background": "light"
     },
     "output_type": "display_data"
    },
    {
     "data": {
      "image/png": "[encoded data removed]",
      "text/plain": [
       "<Figure size 432x288 with 1 Axes>"
      ]
     },
     "metadata": {
      "needs_background": "light"
     },
     "output_type": "display_data"
    }
   ],
   "source": [
    "accuracy_loss_plot(history)"
   ]
  },
  {
   "cell_type": "code",
   "execution_count": 83,
   "id": "c449aa56",
   "metadata": {},
   "outputs": [
    {
     "name": "stdout",
     "output_type": "stream",
     "text": [
      "Train Set Accuracy:\t 67.15752271962302\n",
      "Val Set Accuracy:\t 66.12794612794613\n",
      "Test Set Accuracy:\t 68.10228802153432\n"
     ]
    }
   ],
   "source": [
    "print_accuracy(model, y_train, y_val, y_test)"
   ]
  },
  {
   "cell_type": "markdown",
   "id": "0a3021ed",
   "metadata": {},
   "source": [
    "#### Model 3"
   ]
  },
  {
   "cell_type": "code",
   "execution_count": 109,
   "id": "incident-moisture",
   "metadata": {
    "scrolled": true
   },
   "outputs": [
    {
     "ename": "ValueError",
     "evalue": "in user code:\n\n    C:\\Users\\jubil\\Anaconda3\\lib\\site-packages\\tensorflow\\python\\keras\\engine\\training.py:806 train_function  *\n        return step_function(self, iterator)\n    C:\\Users\\jubil\\Anaconda3\\lib\\site-packages\\tensorflow\\python\\keras\\engine\\training.py:796 step_function  **\n        outputs = model.distribute_strategy.run(run_step, args=(data,))\n    C:\\Users\\jubil\\Anaconda3\\lib\\site-packages\\tensorflow\\python\\distribute\\distribute_lib.py:1211 run\n        return self._extended.call_for_each_replica(fn, args=args, kwargs=kwargs)\n    C:\\Users\\jubil\\Anaconda3\\lib\\site-packages\\tensorflow\\python\\distribute\\distribute_lib.py:2585 call_for_each_replica\n        return self._call_for_each_replica(fn, args, kwargs)\n    C:\\Users\\jubil\\Anaconda3\\lib\\site-packages\\tensorflow\\python\\distribute\\distribute_lib.py:2945 _call_for_each_replica\n        return fn(*args, **kwargs)\n    C:\\Users\\jubil\\Anaconda3\\lib\\site-packages\\tensorflow\\python\\keras\\engine\\training.py:789 run_step  **\n        outputs = model.train_step(data)\n    C:\\Users\\jubil\\Anaconda3\\lib\\site-packages\\tensorflow\\python\\keras\\engine\\training.py:747 train_step\n        y_pred = self(x, training=True)\n    C:\\Users\\jubil\\Anaconda3\\lib\\site-packages\\tensorflow\\python\\keras\\engine\\base_layer.py:976 __call__\n        self.name)\n    C:\\Users\\jubil\\Anaconda3\\lib\\site-packages\\tensorflow\\python\\keras\\engine\\input_spec.py:180 assert_input_compatibility\n        str(x.shape.as_list()))\n\n    ValueError: Input 0 of layer sequential_40 is incompatible with the layer: expected ndim=3, found ndim=2. Full shape received: [None, 45]\n",
     "output_type": "error",
     "traceback": [
      "\u001b[1;31m---------------------------------------------------------------------------\u001b[0m",
      "\u001b[1;31mValueError\u001b[0m                                Traceback (most recent call last)",
      "\u001b[1;32m<ipython-input-109-0c98e4e9f54f>\u001b[0m in \u001b[0;36m<module>\u001b[1;34m\u001b[0m\n\u001b[0;32m     15\u001b[0m \u001b[0mmodel\u001b[0m\u001b[1;33m.\u001b[0m\u001b[0mcompile\u001b[0m\u001b[1;33m(\u001b[0m\u001b[0moptimizer\u001b[0m\u001b[1;33m=\u001b[0m\u001b[1;34m'adam'\u001b[0m\u001b[1;33m,\u001b[0m \u001b[0mloss\u001b[0m\u001b[1;33m=\u001b[0m\u001b[1;34m'categorical_crossentropy'\u001b[0m\u001b[1;33m,\u001b[0m \u001b[0mmetrics\u001b[0m\u001b[1;33m=\u001b[0m\u001b[1;33m[\u001b[0m\u001b[1;34m'accuracy'\u001b[0m\u001b[1;33m]\u001b[0m\u001b[1;33m)\u001b[0m\u001b[1;33m\u001b[0m\u001b[1;33m\u001b[0m\u001b[0m\n\u001b[0;32m     16\u001b[0m \u001b[1;33m\u001b[0m\u001b[0m\n\u001b[1;32m---> 17\u001b[1;33m \u001b[0mmodel\u001b[0m\u001b[1;33m.\u001b[0m\u001b[0mfit\u001b[0m\u001b[1;33m(\u001b[0m\u001b[0mX_train\u001b[0m\u001b[1;33m,\u001b[0m \u001b[0my_train\u001b[0m\u001b[1;33m,\u001b[0m \u001b[0mvalidation_data\u001b[0m \u001b[1;33m=\u001b[0m \u001b[1;33m(\u001b[0m\u001b[0mX_val\u001b[0m\u001b[1;33m,\u001b[0m \u001b[0my_val\u001b[0m\u001b[1;33m)\u001b[0m\u001b[1;33m,\u001b[0m \u001b[0mbatch_size\u001b[0m\u001b[1;33m=\u001b[0m\u001b[1;36m1188\u001b[0m\u001b[1;33m,\u001b[0m \u001b[0mepochs\u001b[0m\u001b[1;33m=\u001b[0m\u001b[1;36m100\u001b[0m\u001b[1;33m)\u001b[0m\u001b[1;33m\u001b[0m\u001b[1;33m\u001b[0m\u001b[0m\n\u001b[0m\u001b[0;32m     18\u001b[0m \"\"\"\n\u001b[0;32m     19\u001b[0m \u001b[1;31m#Compiling the ANN\u001b[0m\u001b[1;33m\u001b[0m\u001b[1;33m\u001b[0m\u001b[1;33m\u001b[0m\u001b[0m\n",
      "\u001b[1;32m~\\Anaconda3\\lib\\site-packages\\tensorflow\\python\\keras\\engine\\training.py\u001b[0m in \u001b[0;36m_method_wrapper\u001b[1;34m(self, *args, **kwargs)\u001b[0m\n\u001b[0;32m    106\u001b[0m   \u001b[1;32mdef\u001b[0m \u001b[0m_method_wrapper\u001b[0m\u001b[1;33m(\u001b[0m\u001b[0mself\u001b[0m\u001b[1;33m,\u001b[0m \u001b[1;33m*\u001b[0m\u001b[0margs\u001b[0m\u001b[1;33m,\u001b[0m \u001b[1;33m**\u001b[0m\u001b[0mkwargs\u001b[0m\u001b[1;33m)\u001b[0m\u001b[1;33m:\u001b[0m\u001b[1;33m\u001b[0m\u001b[1;33m\u001b[0m\u001b[0m\n\u001b[0;32m    107\u001b[0m     \u001b[1;32mif\u001b[0m \u001b[1;32mnot\u001b[0m \u001b[0mself\u001b[0m\u001b[1;33m.\u001b[0m\u001b[0m_in_multi_worker_mode\u001b[0m\u001b[1;33m(\u001b[0m\u001b[1;33m)\u001b[0m\u001b[1;33m:\u001b[0m  \u001b[1;31m# pylint: disable=protected-access\u001b[0m\u001b[1;33m\u001b[0m\u001b[1;33m\u001b[0m\u001b[0m\n\u001b[1;32m--> 108\u001b[1;33m       \u001b[1;32mreturn\u001b[0m \u001b[0mmethod\u001b[0m\u001b[1;33m(\u001b[0m\u001b[0mself\u001b[0m\u001b[1;33m,\u001b[0m \u001b[1;33m*\u001b[0m\u001b[0margs\u001b[0m\u001b[1;33m,\u001b[0m \u001b[1;33m**\u001b[0m\u001b[0mkwargs\u001b[0m\u001b[1;33m)\u001b[0m\u001b[1;33m\u001b[0m\u001b[1;33m\u001b[0m\u001b[0m\n\u001b[0m\u001b[0;32m    109\u001b[0m \u001b[1;33m\u001b[0m\u001b[0m\n\u001b[0;32m    110\u001b[0m     \u001b[1;31m# Running inside `run_distribute_coordinator` already.\u001b[0m\u001b[1;33m\u001b[0m\u001b[1;33m\u001b[0m\u001b[1;33m\u001b[0m\u001b[0m\n",
      "\u001b[1;32m~\\Anaconda3\\lib\\site-packages\\tensorflow\\python\\keras\\engine\\training.py\u001b[0m in \u001b[0;36mfit\u001b[1;34m(self, x, y, batch_size, epochs, verbose, callbacks, validation_split, validation_data, shuffle, class_weight, sample_weight, initial_epoch, steps_per_epoch, validation_steps, validation_batch_size, validation_freq, max_queue_size, workers, use_multiprocessing)\u001b[0m\n\u001b[0;32m   1096\u001b[0m                 batch_size=batch_size):\n\u001b[0;32m   1097\u001b[0m               \u001b[0mcallbacks\u001b[0m\u001b[1;33m.\u001b[0m\u001b[0mon_train_batch_begin\u001b[0m\u001b[1;33m(\u001b[0m\u001b[0mstep\u001b[0m\u001b[1;33m)\u001b[0m\u001b[1;33m\u001b[0m\u001b[1;33m\u001b[0m\u001b[0m\n\u001b[1;32m-> 1098\u001b[1;33m               \u001b[0mtmp_logs\u001b[0m \u001b[1;33m=\u001b[0m \u001b[0mtrain_function\u001b[0m\u001b[1;33m(\u001b[0m\u001b[0miterator\u001b[0m\u001b[1;33m)\u001b[0m\u001b[1;33m\u001b[0m\u001b[1;33m\u001b[0m\u001b[0m\n\u001b[0m\u001b[0;32m   1099\u001b[0m               \u001b[1;32mif\u001b[0m \u001b[0mdata_handler\u001b[0m\u001b[1;33m.\u001b[0m\u001b[0mshould_sync\u001b[0m\u001b[1;33m:\u001b[0m\u001b[1;33m\u001b[0m\u001b[1;33m\u001b[0m\u001b[0m\n\u001b[0;32m   1100\u001b[0m                 \u001b[0mcontext\u001b[0m\u001b[1;33m.\u001b[0m\u001b[0masync_wait\u001b[0m\u001b[1;33m(\u001b[0m\u001b[1;33m)\u001b[0m\u001b[1;33m\u001b[0m\u001b[1;33m\u001b[0m\u001b[0m\n",
      "\u001b[1;32m~\\Anaconda3\\lib\\site-packages\\tensorflow\\python\\eager\\def_function.py\u001b[0m in \u001b[0;36m__call__\u001b[1;34m(self, *args, **kwds)\u001b[0m\n\u001b[0;32m    778\u001b[0m       \u001b[1;32melse\u001b[0m\u001b[1;33m:\u001b[0m\u001b[1;33m\u001b[0m\u001b[1;33m\u001b[0m\u001b[0m\n\u001b[0;32m    779\u001b[0m         \u001b[0mcompiler\u001b[0m \u001b[1;33m=\u001b[0m \u001b[1;34m\"nonXla\"\u001b[0m\u001b[1;33m\u001b[0m\u001b[1;33m\u001b[0m\u001b[0m\n\u001b[1;32m--> 780\u001b[1;33m         \u001b[0mresult\u001b[0m \u001b[1;33m=\u001b[0m \u001b[0mself\u001b[0m\u001b[1;33m.\u001b[0m\u001b[0m_call\u001b[0m\u001b[1;33m(\u001b[0m\u001b[1;33m*\u001b[0m\u001b[0margs\u001b[0m\u001b[1;33m,\u001b[0m \u001b[1;33m**\u001b[0m\u001b[0mkwds\u001b[0m\u001b[1;33m)\u001b[0m\u001b[1;33m\u001b[0m\u001b[1;33m\u001b[0m\u001b[0m\n\u001b[0m\u001b[0;32m    781\u001b[0m \u001b[1;33m\u001b[0m\u001b[0m\n\u001b[0;32m    782\u001b[0m       \u001b[0mnew_tracing_count\u001b[0m \u001b[1;33m=\u001b[0m \u001b[0mself\u001b[0m\u001b[1;33m.\u001b[0m\u001b[0m_get_tracing_count\u001b[0m\u001b[1;33m(\u001b[0m\u001b[1;33m)\u001b[0m\u001b[1;33m\u001b[0m\u001b[1;33m\u001b[0m\u001b[0m\n",
      "\u001b[1;32m~\\Anaconda3\\lib\\site-packages\\tensorflow\\python\\eager\\def_function.py\u001b[0m in \u001b[0;36m_call\u001b[1;34m(self, *args, **kwds)\u001b[0m\n\u001b[0;32m    821\u001b[0m       \u001b[1;31m# This is the first call of __call__, so we have to initialize.\u001b[0m\u001b[1;33m\u001b[0m\u001b[1;33m\u001b[0m\u001b[1;33m\u001b[0m\u001b[0m\n\u001b[0;32m    822\u001b[0m       \u001b[0minitializers\u001b[0m \u001b[1;33m=\u001b[0m \u001b[1;33m[\u001b[0m\u001b[1;33m]\u001b[0m\u001b[1;33m\u001b[0m\u001b[1;33m\u001b[0m\u001b[0m\n\u001b[1;32m--> 823\u001b[1;33m       \u001b[0mself\u001b[0m\u001b[1;33m.\u001b[0m\u001b[0m_initialize\u001b[0m\u001b[1;33m(\u001b[0m\u001b[0margs\u001b[0m\u001b[1;33m,\u001b[0m \u001b[0mkwds\u001b[0m\u001b[1;33m,\u001b[0m \u001b[0madd_initializers_to\u001b[0m\u001b[1;33m=\u001b[0m\u001b[0minitializers\u001b[0m\u001b[1;33m)\u001b[0m\u001b[1;33m\u001b[0m\u001b[1;33m\u001b[0m\u001b[0m\n\u001b[0m\u001b[0;32m    824\u001b[0m     \u001b[1;32mfinally\u001b[0m\u001b[1;33m:\u001b[0m\u001b[1;33m\u001b[0m\u001b[1;33m\u001b[0m\u001b[0m\n\u001b[0;32m    825\u001b[0m       \u001b[1;31m# At this point we know that the initialization is complete (or less\u001b[0m\u001b[1;33m\u001b[0m\u001b[1;33m\u001b[0m\u001b[1;33m\u001b[0m\u001b[0m\n",
      "\u001b[1;32m~\\Anaconda3\\lib\\site-packages\\tensorflow\\python\\eager\\def_function.py\u001b[0m in \u001b[0;36m_initialize\u001b[1;34m(self, args, kwds, add_initializers_to)\u001b[0m\n\u001b[0;32m    695\u001b[0m     self._concrete_stateful_fn = (\n\u001b[0;32m    696\u001b[0m         self._stateful_fn._get_concrete_function_internal_garbage_collected(  # pylint: disable=protected-access\n\u001b[1;32m--> 697\u001b[1;33m             *args, **kwds))\n\u001b[0m\u001b[0;32m    698\u001b[0m \u001b[1;33m\u001b[0m\u001b[0m\n\u001b[0;32m    699\u001b[0m     \u001b[1;32mdef\u001b[0m \u001b[0minvalid_creator_scope\u001b[0m\u001b[1;33m(\u001b[0m\u001b[1;33m*\u001b[0m\u001b[0munused_args\u001b[0m\u001b[1;33m,\u001b[0m \u001b[1;33m**\u001b[0m\u001b[0munused_kwds\u001b[0m\u001b[1;33m)\u001b[0m\u001b[1;33m:\u001b[0m\u001b[1;33m\u001b[0m\u001b[1;33m\u001b[0m\u001b[0m\n",
      "\u001b[1;32m~\\Anaconda3\\lib\\site-packages\\tensorflow\\python\\eager\\function.py\u001b[0m in \u001b[0;36m_get_concrete_function_internal_garbage_collected\u001b[1;34m(self, *args, **kwargs)\u001b[0m\n\u001b[0;32m   2853\u001b[0m       \u001b[0margs\u001b[0m\u001b[1;33m,\u001b[0m \u001b[0mkwargs\u001b[0m \u001b[1;33m=\u001b[0m \u001b[1;32mNone\u001b[0m\u001b[1;33m,\u001b[0m \u001b[1;32mNone\u001b[0m\u001b[1;33m\u001b[0m\u001b[1;33m\u001b[0m\u001b[0m\n\u001b[0;32m   2854\u001b[0m     \u001b[1;32mwith\u001b[0m \u001b[0mself\u001b[0m\u001b[1;33m.\u001b[0m\u001b[0m_lock\u001b[0m\u001b[1;33m:\u001b[0m\u001b[1;33m\u001b[0m\u001b[1;33m\u001b[0m\u001b[0m\n\u001b[1;32m-> 2855\u001b[1;33m       \u001b[0mgraph_function\u001b[0m\u001b[1;33m,\u001b[0m \u001b[0m_\u001b[0m\u001b[1;33m,\u001b[0m \u001b[0m_\u001b[0m \u001b[1;33m=\u001b[0m \u001b[0mself\u001b[0m\u001b[1;33m.\u001b[0m\u001b[0m_maybe_define_function\u001b[0m\u001b[1;33m(\u001b[0m\u001b[0margs\u001b[0m\u001b[1;33m,\u001b[0m \u001b[0mkwargs\u001b[0m\u001b[1;33m)\u001b[0m\u001b[1;33m\u001b[0m\u001b[1;33m\u001b[0m\u001b[0m\n\u001b[0m\u001b[0;32m   2856\u001b[0m     \u001b[1;32mreturn\u001b[0m \u001b[0mgraph_function\u001b[0m\u001b[1;33m\u001b[0m\u001b[1;33m\u001b[0m\u001b[0m\n\u001b[0;32m   2857\u001b[0m \u001b[1;33m\u001b[0m\u001b[0m\n",
      "\u001b[1;32m~\\Anaconda3\\lib\\site-packages\\tensorflow\\python\\eager\\function.py\u001b[0m in \u001b[0;36m_maybe_define_function\u001b[1;34m(self, args, kwargs)\u001b[0m\n\u001b[0;32m   3211\u001b[0m \u001b[1;33m\u001b[0m\u001b[0m\n\u001b[0;32m   3212\u001b[0m       \u001b[0mself\u001b[0m\u001b[1;33m.\u001b[0m\u001b[0m_function_cache\u001b[0m\u001b[1;33m.\u001b[0m\u001b[0mmissed\u001b[0m\u001b[1;33m.\u001b[0m\u001b[0madd\u001b[0m\u001b[1;33m(\u001b[0m\u001b[0mcall_context_key\u001b[0m\u001b[1;33m)\u001b[0m\u001b[1;33m\u001b[0m\u001b[1;33m\u001b[0m\u001b[0m\n\u001b[1;32m-> 3213\u001b[1;33m       \u001b[0mgraph_function\u001b[0m \u001b[1;33m=\u001b[0m \u001b[0mself\u001b[0m\u001b[1;33m.\u001b[0m\u001b[0m_create_graph_function\u001b[0m\u001b[1;33m(\u001b[0m\u001b[0margs\u001b[0m\u001b[1;33m,\u001b[0m \u001b[0mkwargs\u001b[0m\u001b[1;33m)\u001b[0m\u001b[1;33m\u001b[0m\u001b[1;33m\u001b[0m\u001b[0m\n\u001b[0m\u001b[0;32m   3214\u001b[0m       \u001b[0mself\u001b[0m\u001b[1;33m.\u001b[0m\u001b[0m_function_cache\u001b[0m\u001b[1;33m.\u001b[0m\u001b[0mprimary\u001b[0m\u001b[1;33m[\u001b[0m\u001b[0mcache_key\u001b[0m\u001b[1;33m]\u001b[0m \u001b[1;33m=\u001b[0m \u001b[0mgraph_function\u001b[0m\u001b[1;33m\u001b[0m\u001b[1;33m\u001b[0m\u001b[0m\n\u001b[0;32m   3215\u001b[0m       \u001b[1;32mreturn\u001b[0m \u001b[0mgraph_function\u001b[0m\u001b[1;33m,\u001b[0m \u001b[0margs\u001b[0m\u001b[1;33m,\u001b[0m \u001b[0mkwargs\u001b[0m\u001b[1;33m\u001b[0m\u001b[1;33m\u001b[0m\u001b[0m\n",
      "\u001b[1;32m~\\Anaconda3\\lib\\site-packages\\tensorflow\\python\\eager\\function.py\u001b[0m in \u001b[0;36m_create_graph_function\u001b[1;34m(self, args, kwargs, override_flat_arg_shapes)\u001b[0m\n\u001b[0;32m   3073\u001b[0m             \u001b[0marg_names\u001b[0m\u001b[1;33m=\u001b[0m\u001b[0marg_names\u001b[0m\u001b[1;33m,\u001b[0m\u001b[1;33m\u001b[0m\u001b[1;33m\u001b[0m\u001b[0m\n\u001b[0;32m   3074\u001b[0m             \u001b[0moverride_flat_arg_shapes\u001b[0m\u001b[1;33m=\u001b[0m\u001b[0moverride_flat_arg_shapes\u001b[0m\u001b[1;33m,\u001b[0m\u001b[1;33m\u001b[0m\u001b[1;33m\u001b[0m\u001b[0m\n\u001b[1;32m-> 3075\u001b[1;33m             capture_by_value=self._capture_by_value),\n\u001b[0m\u001b[0;32m   3076\u001b[0m         \u001b[0mself\u001b[0m\u001b[1;33m.\u001b[0m\u001b[0m_function_attributes\u001b[0m\u001b[1;33m,\u001b[0m\u001b[1;33m\u001b[0m\u001b[1;33m\u001b[0m\u001b[0m\n\u001b[0;32m   3077\u001b[0m         \u001b[0mfunction_spec\u001b[0m\u001b[1;33m=\u001b[0m\u001b[0mself\u001b[0m\u001b[1;33m.\u001b[0m\u001b[0mfunction_spec\u001b[0m\u001b[1;33m,\u001b[0m\u001b[1;33m\u001b[0m\u001b[1;33m\u001b[0m\u001b[0m\n",
      "\u001b[1;32m~\\Anaconda3\\lib\\site-packages\\tensorflow\\python\\framework\\func_graph.py\u001b[0m in \u001b[0;36mfunc_graph_from_py_func\u001b[1;34m(name, python_func, args, kwargs, signature, func_graph, autograph, autograph_options, add_control_dependencies, arg_names, op_return_value, collections, capture_by_value, override_flat_arg_shapes)\u001b[0m\n\u001b[0;32m    984\u001b[0m         \u001b[0m_\u001b[0m\u001b[1;33m,\u001b[0m \u001b[0moriginal_func\u001b[0m \u001b[1;33m=\u001b[0m \u001b[0mtf_decorator\u001b[0m\u001b[1;33m.\u001b[0m\u001b[0munwrap\u001b[0m\u001b[1;33m(\u001b[0m\u001b[0mpython_func\u001b[0m\u001b[1;33m)\u001b[0m\u001b[1;33m\u001b[0m\u001b[1;33m\u001b[0m\u001b[0m\n\u001b[0;32m    985\u001b[0m \u001b[1;33m\u001b[0m\u001b[0m\n\u001b[1;32m--> 986\u001b[1;33m       \u001b[0mfunc_outputs\u001b[0m \u001b[1;33m=\u001b[0m \u001b[0mpython_func\u001b[0m\u001b[1;33m(\u001b[0m\u001b[1;33m*\u001b[0m\u001b[0mfunc_args\u001b[0m\u001b[1;33m,\u001b[0m \u001b[1;33m**\u001b[0m\u001b[0mfunc_kwargs\u001b[0m\u001b[1;33m)\u001b[0m\u001b[1;33m\u001b[0m\u001b[1;33m\u001b[0m\u001b[0m\n\u001b[0m\u001b[0;32m    987\u001b[0m \u001b[1;33m\u001b[0m\u001b[0m\n\u001b[0;32m    988\u001b[0m       \u001b[1;31m# invariant: `func_outputs` contains only Tensors, CompositeTensors,\u001b[0m\u001b[1;33m\u001b[0m\u001b[1;33m\u001b[0m\u001b[1;33m\u001b[0m\u001b[0m\n",
      "\u001b[1;32m~\\Anaconda3\\lib\\site-packages\\tensorflow\\python\\eager\\def_function.py\u001b[0m in \u001b[0;36mwrapped_fn\u001b[1;34m(*args, **kwds)\u001b[0m\n\u001b[0;32m    598\u001b[0m         \u001b[1;31m# __wrapped__ allows AutoGraph to swap in a converted function. We give\u001b[0m\u001b[1;33m\u001b[0m\u001b[1;33m\u001b[0m\u001b[1;33m\u001b[0m\u001b[0m\n\u001b[0;32m    599\u001b[0m         \u001b[1;31m# the function a weak reference to itself to avoid a reference cycle.\u001b[0m\u001b[1;33m\u001b[0m\u001b[1;33m\u001b[0m\u001b[1;33m\u001b[0m\u001b[0m\n\u001b[1;32m--> 600\u001b[1;33m         \u001b[1;32mreturn\u001b[0m \u001b[0mweak_wrapped_fn\u001b[0m\u001b[1;33m(\u001b[0m\u001b[1;33m)\u001b[0m\u001b[1;33m.\u001b[0m\u001b[0m__wrapped__\u001b[0m\u001b[1;33m(\u001b[0m\u001b[1;33m*\u001b[0m\u001b[0margs\u001b[0m\u001b[1;33m,\u001b[0m \u001b[1;33m**\u001b[0m\u001b[0mkwds\u001b[0m\u001b[1;33m)\u001b[0m\u001b[1;33m\u001b[0m\u001b[1;33m\u001b[0m\u001b[0m\n\u001b[0m\u001b[0;32m    601\u001b[0m     \u001b[0mweak_wrapped_fn\u001b[0m \u001b[1;33m=\u001b[0m \u001b[0mweakref\u001b[0m\u001b[1;33m.\u001b[0m\u001b[0mref\u001b[0m\u001b[1;33m(\u001b[0m\u001b[0mwrapped_fn\u001b[0m\u001b[1;33m)\u001b[0m\u001b[1;33m\u001b[0m\u001b[1;33m\u001b[0m\u001b[0m\n\u001b[0;32m    602\u001b[0m \u001b[1;33m\u001b[0m\u001b[0m\n",
      "\u001b[1;32m~\\Anaconda3\\lib\\site-packages\\tensorflow\\python\\framework\\func_graph.py\u001b[0m in \u001b[0;36mwrapper\u001b[1;34m(*args, **kwargs)\u001b[0m\n\u001b[0;32m    971\u001b[0m           \u001b[1;32mexcept\u001b[0m \u001b[0mException\u001b[0m \u001b[1;32mas\u001b[0m \u001b[0me\u001b[0m\u001b[1;33m:\u001b[0m  \u001b[1;31m# pylint:disable=broad-except\u001b[0m\u001b[1;33m\u001b[0m\u001b[1;33m\u001b[0m\u001b[0m\n\u001b[0;32m    972\u001b[0m             \u001b[1;32mif\u001b[0m \u001b[0mhasattr\u001b[0m\u001b[1;33m(\u001b[0m\u001b[0me\u001b[0m\u001b[1;33m,\u001b[0m \u001b[1;34m\"ag_error_metadata\"\u001b[0m\u001b[1;33m)\u001b[0m\u001b[1;33m:\u001b[0m\u001b[1;33m\u001b[0m\u001b[1;33m\u001b[0m\u001b[0m\n\u001b[1;32m--> 973\u001b[1;33m               \u001b[1;32mraise\u001b[0m \u001b[0me\u001b[0m\u001b[1;33m.\u001b[0m\u001b[0mag_error_metadata\u001b[0m\u001b[1;33m.\u001b[0m\u001b[0mto_exception\u001b[0m\u001b[1;33m(\u001b[0m\u001b[0me\u001b[0m\u001b[1;33m)\u001b[0m\u001b[1;33m\u001b[0m\u001b[1;33m\u001b[0m\u001b[0m\n\u001b[0m\u001b[0;32m    974\u001b[0m             \u001b[1;32melse\u001b[0m\u001b[1;33m:\u001b[0m\u001b[1;33m\u001b[0m\u001b[1;33m\u001b[0m\u001b[0m\n\u001b[0;32m    975\u001b[0m               \u001b[1;32mraise\u001b[0m\u001b[1;33m\u001b[0m\u001b[1;33m\u001b[0m\u001b[0m\n",
      "\u001b[1;31mValueError\u001b[0m: in user code:\n\n    C:\\Users\\jubil\\Anaconda3\\lib\\site-packages\\tensorflow\\python\\keras\\engine\\training.py:806 train_function  *\n        return step_function(self, iterator)\n    C:\\Users\\jubil\\Anaconda3\\lib\\site-packages\\tensorflow\\python\\keras\\engine\\training.py:796 step_function  **\n        outputs = model.distribute_strategy.run(run_step, args=(data,))\n    C:\\Users\\jubil\\Anaconda3\\lib\\site-packages\\tensorflow\\python\\distribute\\distribute_lib.py:1211 run\n        return self._extended.call_for_each_replica(fn, args=args, kwargs=kwargs)\n    C:\\Users\\jubil\\Anaconda3\\lib\\site-packages\\tensorflow\\python\\distribute\\distribute_lib.py:2585 call_for_each_replica\n        return self._call_for_each_replica(fn, args, kwargs)\n    C:\\Users\\jubil\\Anaconda3\\lib\\site-packages\\tensorflow\\python\\distribute\\distribute_lib.py:2945 _call_for_each_replica\n        return fn(*args, **kwargs)\n    C:\\Users\\jubil\\Anaconda3\\lib\\site-packages\\tensorflow\\python\\keras\\engine\\training.py:789 run_step  **\n        outputs = model.train_step(data)\n    C:\\Users\\jubil\\Anaconda3\\lib\\site-packages\\tensorflow\\python\\keras\\engine\\training.py:747 train_step\n        y_pred = self(x, training=True)\n    C:\\Users\\jubil\\Anaconda3\\lib\\site-packages\\tensorflow\\python\\keras\\engine\\base_layer.py:976 __call__\n        self.name)\n    C:\\Users\\jubil\\Anaconda3\\lib\\site-packages\\tensorflow\\python\\keras\\engine\\input_spec.py:180 assert_input_compatibility\n        str(x.shape.as_list()))\n\n    ValueError: Input 0 of layer sequential_40 is incompatible with the layer: expected ndim=3, found ndim=2. Full shape received: [None, 45]\n"
     ]
    }
   ],
   "source": [
    "%%capture\n",
    "from keras.layers import SimpleRNN, LSTM\n",
    "model = Sequential()\n",
    "\n",
    "# Creating the input layer and first hidden layer\n",
    "model.add(LSTM(128, input_shape=(1188,45)))\n",
    "\n",
    "#Adding second hidden layer\n",
    "model.add(Dense(12, activation='sigmoid'))\n",
    "\n",
    "#Adding the output layer\n",
    "model.add(Dense(3, activation='softmax'))\n",
    "\n",
    "model.build()\n",
    "\n",
    "model.compile(optimizer='adam', loss='categorical_crossentropy', metrics=['accuracy'])\n",
    "\n",
    "model.fit(X_train, y_train, validation_data = (X_val, y_val), batch_size=1188, epochs=100)\n",
    "\"\"\"\n",
    "#Compiling the ANN\n",
    "model.compile(optimizer='adam', loss='categorical_crossentropy', metrics=['accuracy'])\n",
    "\n",
    "#Fitting the classifier to the training set\n",
    "history = model.fit(X_train, y_train, validation_data = (X_val, y_val), batch_size=128, epochs=100)\"\"\""
   ]
  },
  {
   "cell_type": "code",
   "execution_count": 107,
   "id": "a7af22ff",
   "metadata": {},
   "outputs": [
    {
     "data": {
      "text/plain": [
       "(1485, 3)"
      ]
     },
     "execution_count": 107,
     "metadata": {},
     "output_type": "execute_result"
    }
   ],
   "source": [
    "y_val.shape"
   ]
  },
  {
   "cell_type": "code",
   "execution_count": 61,
   "id": "southeast-papua",
   "metadata": {},
   "outputs": [
    {
     "data": {
      "image/png": "[encoded data removed]",
      "text/plain": [
       "<Figure size 432x288 with 1 Axes>"
      ]
     },
     "metadata": {
      "needs_background": "light"
     },
     "output_type": "display_data"
    },
    {
     "data": {
      "image/png": "[encoded data removed]",
      "text/plain": [
       "<Figure size 432x288 with 1 Axes>"
      ]
     },
     "metadata": {
      "needs_background": "light"
     },
     "output_type": "display_data"
    }
   ],
   "source": [
    "accuracy_loss_plot(history)"
   ]
  },
  {
   "cell_type": "code",
   "execution_count": 62,
   "id": "f315349c",
   "metadata": {},
   "outputs": [
    {
     "name": "stdout",
     "output_type": "stream",
     "text": [
      "Train Set Accuracy:\t 67.27532817233255\n",
      "Val Set Accuracy:\t 66.32996632996633\n",
      "Test Set Accuracy:\t 67.29475100942126\n"
     ]
    }
   ],
   "source": [
    "print_accuracy(model, y_train, y_val, y_test)"
   ]
  },
  {
   "cell_type": "code",
   "execution_count": null,
   "id": "d7326cb8",
   "metadata": {},
   "outputs": [],
   "source": []
  }
 ],
 "metadata": {
  "kernelspec": {
   "display_name": "Python 3",
   "language": "python",
   "name": "python3"
  },
  "language_info": {
   "codemirror_mode": {
    "name": "ipython",
    "version": 3
   },
   "file_extension": ".py",
   "mimetype": "text/x-python",
   "name": "python",
   "nbconvert_exporter": "python",
   "pygments_lexer": "ipython3",
   "version": "3.7.10"
  }
 },
 "nbformat": 4,
 "nbformat_minor": 5
}
