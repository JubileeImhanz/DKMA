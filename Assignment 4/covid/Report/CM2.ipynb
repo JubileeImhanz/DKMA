{
 "cells": [
  {
   "cell_type": "markdown",
   "id": "c12cd3b4",
   "metadata": {},
   "source": [
    "# CM2\n",
    "**Note: Important section have** <span style=\"color:blue\">**blue**</span> **heading**"
   ]
  },
  {
   "cell_type": "markdown",
   "id": "dd2092a5",
   "metadata": {},
   "source": [
    "## <span style=\"color:blue\">Critical Code blocks to implement models</span>"
   ]
  },
  {
   "cell_type": "markdown",
   "id": "3b5b70f2",
   "metadata": {},
   "source": [
    "### Model 1: 1 input layer, 2 hidden layers with relu activation and 1 output layer"
   ]
  },
  {
   "cell_type": "markdown",
   "id": "426a1114",
   "metadata": {},
   "source": [
    "#### Building the model"
   ]
  },
  {
   "cell_type": "code",
   "execution_count": 38,
   "id": "a5a63e75",
   "metadata": {},
   "outputs": [],
   "source": [
    "model_1 = Sequential()\n",
    "\n",
    "# Creating the input layer and first hidden layer\n",
    "model_1.add(Dense(24, input_dim=X_train.shape[1], activation='relu'))\n",
    "\n",
    "#Adding second hidden layer\n",
    "model_1.add(Dense(24, activation='relu'))\n",
    "\n",
    "#Adding the output layer\n",
    "model_1.add(Dense(3, activation='softmax'))\n",
    "\n",
    "#Compiling the ANN\n",
    "model_1.compile(optimizer='adam', \n",
    "                loss='SparseCategoricalCrossentropy', \n",
    "                metrics=['accuracy'])"
   ]
  },
  {
   "cell_type": "markdown",
   "id": "9d411ce1",
   "metadata": {},
   "source": [
    "#### Training the model"
   ]
  },
  {
   "cell_type": "code",
   "execution_count": null,
   "id": "e0847d28",
   "metadata": {},
   "outputs": [],
   "source": [
    "%%time\n",
    "#Fitting the classifier to the training set\n",
    "history = model_1.fit(X_train, y_train, \n",
    "                      validation_data = (X_val, y_val), \n",
    "                      batch_size=64, \n",
    "                      epochs=100)"
   ]
  },
  {
   "cell_type": "markdown",
   "id": "380eb026",
   "metadata": {},
   "source": [
    "### Model 2: 1 input layer, 2 hidden layers with sigmoid activation and 1 output layer"
   ]
  },
  {
   "cell_type": "markdown",
   "id": "728f0e9f",
   "metadata": {},
   "source": [
    "#### Building the model"
   ]
  },
  {
   "cell_type": "code",
   "execution_count": 46,
   "id": "3b8505a7",
   "metadata": {},
   "outputs": [],
   "source": [
    "model_2 = Sequential()\n",
    "\n",
    "# Creating the input layer and first hidden layer\n",
    "model_2.add(Dense(24, input_dim=X_train.shape[1], activation='sigmoid'))\n",
    "\n",
    "#Adding second hidden layer\n",
    "model_2.add(Dense(24, activation='sigmoid'))\n",
    "\n",
    "#Adding the output layer\n",
    "model_2.add(Dense(3, activation='softmax'))\n",
    "\n",
    "#Compiling the ANN\n",
    "model_2.compile(optimizer='adam', \n",
    "                loss='SparseCategoricalCrossentropy', \n",
    "                metrics=['accuracy'])"
   ]
  },
  {
   "cell_type": "markdown",
   "id": "5e7e627b",
   "metadata": {},
   "source": [
    "#### Training the model"
   ]
  },
  {
   "cell_type": "code",
   "execution_count": null,
   "id": "67c10eb6",
   "metadata": {},
   "outputs": [],
   "source": [
    "\n",
    "%%time\n",
    "#Fitting the classifier to the training set\n",
    "history = model_2.fit(X_train, y_train, \n",
    "                      validation_data = (X_val, y_val), \n",
    "                      batch_size=64, \n",
    "                      epochs=100)"
   ]
  },
  {
   "cell_type": "markdown",
   "id": "973c6818",
   "metadata": {},
   "source": [
    "### Model 3: Making the network deeper - 1 input layer, 4 hidden layers with relu activation and 1 output layer"
   ]
  },
  {
   "cell_type": "markdown",
   "id": "510f4f6b",
   "metadata": {},
   "source": [
    "#### Building the model"
   ]
  },
  {
   "cell_type": "code",
   "execution_count": 54,
   "id": "dc7b366b",
   "metadata": {},
   "outputs": [],
   "source": [
    "\n",
    "model_3 = Sequential()\n",
    "\n",
    "# Creating the input layer and first hidden layer\n",
    "model_3.add(Dense(24, input_dim=X_train.shape[1], activation='relu'))\n",
    "\n",
    "#Adding second hidden layer\n",
    "model_3.add(Dense(24, activation='relu'))\n",
    "\n",
    "#Adding third hidden layer\n",
    "model_3.add(Dense(24, activation='relu'))\n",
    "\n",
    "#Adding fourth hidden layer\n",
    "model_3.add(Dense(24, activation='relu'))\n",
    "\n",
    "#Adding the output layer\n",
    "model_3.add(Dense(3, activation='softmax'))\n",
    "\n",
    "#Compiling the ANN\n",
    "model_3.compile(optimizer='adam', \n",
    "                loss='SparseCategoricalCrossentropy', \n",
    "                metrics=['accuracy'])"
   ]
  },
  {
   "cell_type": "markdown",
   "id": "95e17135",
   "metadata": {},
   "source": [
    "#### Training the model"
   ]
  },
  {
   "cell_type": "code",
   "execution_count": null,
   "id": "7999651e",
   "metadata": {},
   "outputs": [],
   "source": [
    "\n",
    "%%time\n",
    "#Fitting the classifier to the training set\n",
    "history = model_3.fit(X_train, y_train, \n",
    "                      validation_data = (X_val, y_val), \n",
    "                      batch_size=64, \n",
    "                      epochs=100)"
   ]
  },
  {
   "cell_type": "markdown",
   "id": "ebdcedbe",
   "metadata": {},
   "source": [
    "### Model 4: Making the network deeper - 1 input layer, 4 hidden layers with relu activation and 1 output layer with dropout"
   ]
  },
  {
   "cell_type": "markdown",
   "id": "4599b601",
   "metadata": {},
   "source": [
    "#### Building the model"
   ]
  },
  {
   "cell_type": "code",
   "execution_count": 62,
   "id": "2975800e",
   "metadata": {},
   "outputs": [],
   "source": [
    "model_4 = Sequential()\n",
    "\n",
    "# Creating the input layer and first hidden layer\n",
    "model_4.add(Dense(24, input_dim=X_train.shape[1], activation='relu'))\n",
    "\n",
    "#Adding second hidden layer\n",
    "model_4.add(Dense(24, activation='relu'))\n",
    "\n",
    "model_4.add(Dropout(0.3))\n",
    "\n",
    "#Adding third hidden layer\n",
    "model_4.add(Dense(24, activation='relu'))\n",
    "\n",
    "model_4.add(Dropout(0.3))\n",
    "\n",
    "#Adding fourth hidden layer\n",
    "model_4.add(Dense(24, activation='relu'))\n",
    "\n",
    "#Adding the output layer\n",
    "model_4.add(Dense(3, activation='softmax'))\n",
    "\n",
    "#Compiling the ANN\n",
    "model_4.compile(optimizer='adam', \n",
    "                loss='SparseCategoricalCrossentropy', \n",
    "                metrics=['accuracy'])"
   ]
  },
  {
   "cell_type": "markdown",
   "id": "3dbe561e",
   "metadata": {},
   "source": [
    "#### Training the model"
   ]
  },
  {
   "cell_type": "code",
   "execution_count": null,
   "id": "c35df923",
   "metadata": {},
   "outputs": [],
   "source": [
    "%%time\n",
    "#Fitting the classifier to the training set\n",
    "history = model_4.fit(X_train, y_train, \n",
    "                      validation_data = (X_val, y_val), \n",
    "                      batch_size=64, \n",
    "                      epochs=100)"
   ]
  },
  {
   "cell_type": "markdown",
   "id": "6e1dc87a",
   "metadata": {},
   "source": [
    "### Model 5: 1 input layer, 1 RNN layer, 2 hidden layers and 1 output layer"
   ]
  },
  {
   "cell_type": "markdown",
   "id": "5cc6f167",
   "metadata": {},
   "source": [
    "#### Building the model"
   ]
  },
  {
   "cell_type": "code",
   "execution_count": 71,
   "id": "d0571f9a",
   "metadata": {},
   "outputs": [],
   "source": [
    "model_5 = Sequential()\n",
    "\n",
    "# Creating the input layer and RNN layer\n",
    "model_5.add(SimpleRNN(64, input_shape=(X_train.shape[1], 1)))\n",
    "\n",
    "#Adding first hidden layer\n",
    "model_5.add(Dense(32, activation='relu'))\n",
    "\n",
    "#Adding second hidden layer\n",
    "model_5.add(Dense(32, activation='relu'))\n",
    "\n",
    "#Adding the output layer\n",
    "model_5.add(Dense(3, activation='softmax'))\n",
    "\n",
    "model_5.compile(optimizer='adam', \n",
    "                loss='SparseCategoricalCrossentropy', \n",
    "                metrics=['accuracy'])"
   ]
  },
  {
   "cell_type": "markdown",
   "id": "9b805133",
   "metadata": {},
   "source": [
    "#### Training the model"
   ]
  },
  {
   "cell_type": "code",
   "execution_count": null,
   "id": "a2e1abf7",
   "metadata": {},
   "outputs": [],
   "source": [
    "%%time\n",
    "#Fitting the classifier to the training set\n",
    "history = model_5.fit(rnn_train, y_train, \n",
    "                      validation_data = (rnn_val, y_val), \n",
    "                      batch_size=64, \n",
    "                      epochs=100)"
   ]
  },
  {
   "cell_type": "markdown",
   "id": "3649af04",
   "metadata": {},
   "source": [
    "### Model 6: 1 input layer, 1 LSTM layer, 2 hidden layers and 1 output layer"
   ]
  },
  {
   "cell_type": "markdown",
   "id": "ef61424e",
   "metadata": {},
   "source": [
    "#### Building the model"
   ]
  },
  {
   "cell_type": "code",
   "execution_count": 79,
   "id": "db68925d",
   "metadata": {},
   "outputs": [],
   "source": [
    "model_6 = Sequential()\n",
    "\n",
    "# Creating the input layer and LSTM layer\n",
    "model_6.add(LSTM(64, input_shape=(X_train.shape[1], 1)))\n",
    "\n",
    "#Adding first hidden layer\n",
    "model_6.add(Dense(32, activation='relu'))\n",
    "\n",
    "#Adding second hidden layer\n",
    "model_6.add(Dense(32, activation='relu'))\n",
    "\n",
    "#Adding the output layer\n",
    "model_6.add(Dense(3, activation='softmax'))\n",
    "\n",
    "model_6.compile(optimizer='adam', \n",
    "                loss='SparseCategoricalCrossentropy', \n",
    "                metrics=['accuracy'])"
   ]
  },
  {
   "cell_type": "markdown",
   "id": "cfb8ad65",
   "metadata": {},
   "source": [
    "#### Training the model"
   ]
  },
  {
   "cell_type": "code",
   "execution_count": null,
   "id": "85343ef1",
   "metadata": {},
   "outputs": [],
   "source": [
    "%%time\n",
    "#Fitting the classifier to the training set\n",
    "history = model_6.fit(rnn_train, y_train, \n",
    "                      validation_data = (rnn_val, y_val), \n",
    "                      batch_size=64, \n",
    "                      epochs=100)"
   ]
  }
 ],
 "metadata": {
  "kernelspec": {
   "display_name": "Python 3",
   "language": "python",
   "name": "python3"
  },
  "language_info": {
   "codemirror_mode": {
    "name": "ipython",
    "version": 3
   },
   "file_extension": ".py",
   "mimetype": "text/x-python",
   "name": "python",
   "nbconvert_exporter": "python",
   "pygments_lexer": "ipython3",
   "version": "3.7.10"
  }
 },
 "nbformat": 4,
 "nbformat_minor": 5
}
