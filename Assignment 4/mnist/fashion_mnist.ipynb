{
 "cells": [
  {
   "cell_type": "code",
   "execution_count": 1,
   "metadata": {},
   "outputs": [],
   "source": [
    "#use the cifar architecture sample from udacity\n",
    "#try resnet & compare performance measures\n",
    "#research the best architecture & compare performance measures\n",
    "#implement the architecture"
   ]
  },
  {
   "cell_type": "code",
   "execution_count": 13,
   "metadata": {},
   "outputs": [],
   "source": [
    "import tensorflow as tf\n",
    "import numpy as np\n",
    "import matplotlib.pyplot as plt\n",
    "import pandas as pd"
   ]
  },
  {
   "cell_type": "code",
   "execution_count": 14,
   "metadata": {},
   "outputs": [],
   "source": [
    "data = np.load('fashion_mnist_dataset_train.npy', allow_pickle=True).item()"
   ]
  },
  {
   "cell_type": "code",
   "execution_count": 15,
   "metadata": {},
   "outputs": [
    {
     "data": {
      "text/plain": [
       "{'features': array([[[0., 0., 0., ..., 0., 0., 0.],\n",
       "         [0., 0., 0., ..., 0., 0., 0.],\n",
       "         [0., 0., 0., ..., 0., 0., 0.],\n",
       "         ...,\n",
       "         [0., 0., 0., ..., 0., 0., 0.],\n",
       "         [0., 0., 0., ..., 0., 0., 0.],\n",
       "         [0., 0., 0., ..., 0., 0., 0.]],\n",
       " \n",
       "        [[0., 0., 0., ..., 0., 0., 0.],\n",
       "         [0., 0., 0., ..., 0., 0., 0.],\n",
       "         [0., 0., 0., ..., 0., 0., 0.],\n",
       "         ...,\n",
       "         [0., 0., 0., ..., 0., 0., 0.],\n",
       "         [0., 0., 0., ..., 0., 0., 0.],\n",
       "         [0., 0., 0., ..., 0., 0., 0.]],\n",
       " \n",
       "        [[0., 0., 0., ..., 0., 0., 0.],\n",
       "         [0., 0., 0., ..., 0., 0., 0.],\n",
       "         [0., 0., 0., ..., 0., 0., 0.],\n",
       "         ...,\n",
       "         [0., 0., 0., ..., 0., 0., 0.],\n",
       "         [0., 0., 0., ..., 0., 0., 0.],\n",
       "         [0., 0., 0., ..., 0., 0., 0.]],\n",
       " \n",
       "        ...,\n",
       " \n",
       "        [[0., 0., 0., ..., 0., 0., 0.],\n",
       "         [0., 0., 0., ..., 0., 0., 0.],\n",
       "         [0., 0., 0., ..., 0., 0., 0.],\n",
       "         ...,\n",
       "         [0., 0., 0., ..., 0., 0., 0.],\n",
       "         [0., 0., 0., ..., 0., 0., 0.],\n",
       "         [0., 0., 0., ..., 0., 0., 0.]],\n",
       " \n",
       "        [[0., 0., 0., ..., 0., 0., 0.],\n",
       "         [0., 0., 0., ..., 0., 0., 0.],\n",
       "         [0., 0., 0., ..., 0., 0., 0.],\n",
       "         ...,\n",
       "         [0., 0., 0., ..., 0., 0., 0.],\n",
       "         [0., 0., 0., ..., 0., 0., 0.],\n",
       "         [0., 0., 0., ..., 0., 0., 0.]],\n",
       " \n",
       "        [[0., 0., 0., ..., 0., 0., 0.],\n",
       "         [0., 0., 0., ..., 0., 0., 0.],\n",
       "         [0., 0., 0., ..., 0., 0., 0.],\n",
       "         ...,\n",
       "         [0., 0., 0., ..., 0., 0., 0.],\n",
       "         [0., 0., 0., ..., 0., 0., 0.],\n",
       "         [0., 0., 0., ..., 0., 0., 0.]]]),\n",
       " 'target': array([5., 2., 1., ..., 3., 1., 4.])}"
      ]
     },
     "execution_count": 15,
     "metadata": {},
     "output_type": "execute_result"
    }
   ],
   "source": [
    "data"
   ]
  },
  {
   "cell_type": "code",
   "execution_count": 16,
   "metadata": {},
   "outputs": [
    {
     "data": {
      "text/plain": [
       "array([0.        , 0.        , 0.        , 0.        , 0.        ,\n",
       "       0.        , 0.        , 0.        , 0.        , 0.        ,\n",
       "       0.        , 0.        , 0.        , 0.        , 0.60784314,\n",
       "       0.9254902 , 0.81176471, 0.69803922, 0.41960784, 0.61176471,\n",
       "       0.63137255, 0.42745098, 0.25098039, 0.09019608, 0.30196078,\n",
       "       0.50980392, 0.28235294, 0.05882353])"
      ]
     },
     "execution_count": 16,
     "metadata": {},
     "output_type": "execute_result"
    }
   ],
   "source": [
    "data['features'][0][6]"
   ]
  },
  {
   "cell_type": "code",
   "execution_count": 17,
   "metadata": {},
   "outputs": [
    {
     "data": {
      "text/plain": [
       "(60000, 28, 28)"
      ]
     },
     "execution_count": 17,
     "metadata": {},
     "output_type": "execute_result"
    }
   ],
   "source": [
    "data['features'].shape"
   ]
  },
  {
   "cell_type": "code",
   "execution_count": 18,
   "metadata": {},
   "outputs": [
    {
     "data": {
      "text/plain": [
       "(28,)"
      ]
     },
     "execution_count": 18,
     "metadata": {},
     "output_type": "execute_result"
    }
   ],
   "source": [
    "data['features'][0][6].shape"
   ]
  },
  {
   "cell_type": "code",
   "execution_count": 19,
   "metadata": {},
   "outputs": [
    {
     "data": {
      "text/plain": [
       "array([5., 2., 1., ..., 3., 1., 4.])"
      ]
     },
     "execution_count": 19,
     "metadata": {},
     "output_type": "execute_result"
    }
   ],
   "source": [
    "data['target']"
   ]
  },
  {
   "cell_type": "code",
   "execution_count": 20,
   "metadata": {},
   "outputs": [
    {
     "data": {
      "text/plain": [
       "(60000,)"
      ]
     },
     "execution_count": 20,
     "metadata": {},
     "output_type": "execute_result"
    }
   ],
   "source": [
    "data['target'].shape"
   ]
  },
  {
   "cell_type": "code",
   "execution_count": 21,
   "metadata": {},
   "outputs": [
    {
     "data": {
      "text/plain": [
       "array([4., 1., 0., ..., 2., 0., 3.])"
      ]
     },
     "execution_count": 21,
     "metadata": {},
     "output_type": "execute_result"
    }
   ],
   "source": [
    "s = pd.Series(data['target'])\n",
    "target = s.replace([1, 2, 3, 4, 5], [0, 1, 2, 3, 4])\n",
    "target = target.to_numpy()\n",
    "target"
   ]
  },
  {
   "cell_type": "code",
   "execution_count": 22,
   "metadata": {},
   "outputs": [
    {
     "data": {
      "text/plain": [
       "(60000,)"
      ]
     },
     "execution_count": 22,
     "metadata": {},
     "output_type": "execute_result"
    }
   ],
   "source": [
    "target.shape"
   ]
  },
  {
   "cell_type": "code",
   "execution_count": 23,
   "metadata": {},
   "outputs": [],
   "source": [
    "from sklearn.model_selection import train_test_split\n",
    "# Splitting the data into train, test, and validation sets\n",
    "X_train, X_test, y_train, y_test = train_test_split(data['features'], target, test_size=0.2, random_state=275)\n",
    "X_val, X_test, y_val, y_test = train_test_split(X_test, y_test, test_size=0.5, random_state=275)"
   ]
  },
  {
   "cell_type": "code",
   "execution_count": 24,
   "metadata": {},
   "outputs": [
    {
     "data": {
      "text/plain": [
       "(48000, 28, 28)"
      ]
     },
     "execution_count": 24,
     "metadata": {},
     "output_type": "execute_result"
    }
   ],
   "source": [
    "X_train.shape"
   ]
  },
  {
   "cell_type": "code",
   "execution_count": 25,
   "metadata": {},
   "outputs": [
    {
     "data": {
      "text/plain": [
       "(6000, 28, 28)"
      ]
     },
     "execution_count": 25,
     "metadata": {},
     "output_type": "execute_result"
    }
   ],
   "source": [
    "X_val.shape"
   ]
  },
  {
   "cell_type": "code",
   "execution_count": 26,
   "metadata": {},
   "outputs": [
    {
     "data": {
      "image/png": "[encoded data removed]",
      "text/plain": [
       "<Figure size 720x720 with 25 Axes>"
      ]
     },
     "metadata": {},
     "output_type": "display_data"
    }
   ],
   "source": [
    "plt.figure(figsize=(10,10))\n",
    "for i in range(25):\n",
    "    plt.subplot(5,5,i+1)\n",
    "    plt.xticks([])\n",
    "    plt.yticks([])\n",
    "    plt.grid(False)\n",
    "    plt.imshow(X_train[i], cmap=plt.cm.binary)\n",
    "    plt.xlabel(y_train[i])\n",
    "plt.show()"
   ]
  },
  {
   "cell_type": "code",
   "execution_count": 27,
   "metadata": {},
   "outputs": [],
   "source": [
    "#plot the label distribution\n",
    "import pandas as pd\n",
    "df_label = pd.DataFrame(data['target'])"
   ]
  },
  {
   "cell_type": "code",
   "execution_count": 28,
   "metadata": {},
   "outputs": [
    {
     "data": {
      "text/html": [
       "<div>\n",
       "<style scoped>\n",
       "    .dataframe tbody tr th:only-of-type {\n",
       "        vertical-align: middle;\n",
       "    }\n",
       "\n",
       "    .dataframe tbody tr th {\n",
       "        vertical-align: top;\n",
       "    }\n",
       "\n",
       "    .dataframe thead th {\n",
       "        text-align: right;\n",
       "    }\n",
       "</style>\n",
       "<table border=\"1\" class=\"dataframe\">\n",
       "  <thead>\n",
       "    <tr style=\"text-align: right;\">\n",
       "      <th></th>\n",
       "      <th>0</th>\n",
       "    </tr>\n",
       "  </thead>\n",
       "  <tbody>\n",
       "    <tr>\n",
       "      <th>0</th>\n",
       "      <td>5.0</td>\n",
       "    </tr>\n",
       "    <tr>\n",
       "      <th>1</th>\n",
       "      <td>2.0</td>\n",
       "    </tr>\n",
       "    <tr>\n",
       "      <th>2</th>\n",
       "      <td>1.0</td>\n",
       "    </tr>\n",
       "    <tr>\n",
       "      <th>3</th>\n",
       "      <td>2.0</td>\n",
       "    </tr>\n",
       "    <tr>\n",
       "      <th>4</th>\n",
       "      <td>1.0</td>\n",
       "    </tr>\n",
       "    <tr>\n",
       "      <th>...</th>\n",
       "      <td>...</td>\n",
       "    </tr>\n",
       "    <tr>\n",
       "      <th>59995</th>\n",
       "      <td>4.0</td>\n",
       "    </tr>\n",
       "    <tr>\n",
       "      <th>59996</th>\n",
       "      <td>2.0</td>\n",
       "    </tr>\n",
       "    <tr>\n",
       "      <th>59997</th>\n",
       "      <td>3.0</td>\n",
       "    </tr>\n",
       "    <tr>\n",
       "      <th>59998</th>\n",
       "      <td>1.0</td>\n",
       "    </tr>\n",
       "    <tr>\n",
       "      <th>59999</th>\n",
       "      <td>4.0</td>\n",
       "    </tr>\n",
       "  </tbody>\n",
       "</table>\n",
       "<p>60000 rows × 1 columns</p>\n",
       "</div>"
      ],
      "text/plain": [
       "         0\n",
       "0      5.0\n",
       "1      2.0\n",
       "2      1.0\n",
       "3      2.0\n",
       "4      1.0\n",
       "...    ...\n",
       "59995  4.0\n",
       "59996  2.0\n",
       "59997  3.0\n",
       "59998  1.0\n",
       "59999  4.0\n",
       "\n",
       "[60000 rows x 1 columns]"
      ]
     },
     "execution_count": 28,
     "metadata": {},
     "output_type": "execute_result"
    }
   ],
   "source": [
    "df_label"
   ]
  },
  {
   "cell_type": "code",
   "execution_count": 29,
   "metadata": {},
   "outputs": [
    {
     "data": {
      "text/plain": [
       "2.0    12019\n",
       "3.0    12011\n",
       "4.0    11992\n",
       "1.0    11989\n",
       "5.0    11989\n",
       "dtype: int64"
      ]
     },
     "execution_count": 29,
     "metadata": {},
     "output_type": "execute_result"
    }
   ],
   "source": [
    "df_label.value_counts()"
   ]
  },
  {
   "cell_type": "markdown",
   "metadata": {},
   "source": [
    "Data is almost evenly distributed among the labels"
   ]
  },
  {
   "cell_type": "code",
   "execution_count": 37,
   "metadata": {},
   "outputs": [],
   "source": [
    "# Deep Learning Libraries\n",
    "from tensorflow.keras import datasets, layers, models\n",
    "from keras.callbacks import ReduceLROnPlateau, LearningRateScheduler\n",
    "from keras.preprocessing.image import ImageDataGenerator\n",
    "\n"
   ]
  },
  {
   "cell_type": "code",
   "execution_count": 31,
   "metadata": {},
   "outputs": [],
   "source": [
    "#output softmax layer should have 5 outputs\n",
    "# Building a ConvNet\n",
    "model = models.Sequential()\n",
    "model.add(layers.Conv2D(32, (3, 3), activation='relu', input_shape=(28, 28, 1)))\n",
    "model.add(layers.MaxPooling2D((2, 2)))\n",
    "model.add(layers.BatchNormalization())\n",
    "model.add(layers.Conv2D(64, (3, 3), activation='relu'))\n",
    "model.add(layers.Dropout(0.25))\n",
    "model.add(layers.MaxPooling2D((2, 2)))\n",
    "model.add(layers.Conv2D(64, (3, 3), activation='relu'))\n",
    "model.add(layers.BatchNormalization())\n",
    "model.add(layers.Dropout(0.25))\n",
    "model.add(layers.Flatten())\n",
    "model.add(layers.Dense(64, activation='relu'))\n",
    "model.add(layers.Dense(5, activation='softmax'))"
   ]
  },
  {
   "cell_type": "code",
   "execution_count": 32,
   "metadata": {},
   "outputs": [
    {
     "name": "stdout",
     "output_type": "stream",
     "text": [
      "Model: \"sequential\"\n",
      "_________________________________________________________________\n",
      "Layer (type)                 Output Shape              Param #   \n",
      "=================================================================\n",
      "conv2d (Conv2D)              (None, 26, 26, 32)        320       \n",
      "_________________________________________________________________\n",
      "max_pooling2d (MaxPooling2D) (None, 13, 13, 32)        0         \n",
      "_________________________________________________________________\n",
      "batch_normalization (BatchNo (None, 13, 13, 32)        128       \n",
      "_________________________________________________________________\n",
      "conv2d_1 (Conv2D)            (None, 11, 11, 64)        18496     \n",
      "_________________________________________________________________\n",
      "dropout (Dropout)            (None, 11, 11, 64)        0         \n",
      "_________________________________________________________________\n",
      "max_pooling2d_1 (MaxPooling2 (None, 5, 5, 64)          0         \n",
      "_________________________________________________________________\n",
      "conv2d_2 (Conv2D)            (None, 3, 3, 64)          36928     \n",
      "_________________________________________________________________\n",
      "batch_normalization_1 (Batch (None, 3, 3, 64)          256       \n",
      "_________________________________________________________________\n",
      "dropout_1 (Dropout)          (None, 3, 3, 64)          0         \n",
      "_________________________________________________________________\n",
      "flatten (Flatten)            (None, 576)               0         \n",
      "_________________________________________________________________\n",
      "dense (Dense)                (None, 64)                36928     \n",
      "_________________________________________________________________\n",
      "dense_1 (Dense)              (None, 5)                 325       \n",
      "=================================================================\n",
      "Total params: 93,381\n",
      "Trainable params: 93,189\n",
      "Non-trainable params: 192\n",
      "_________________________________________________________________\n"
     ]
    }
   ],
   "source": [
    "model.summary()"
   ]
  },
  {
   "cell_type": "code",
   "execution_count": 33,
   "metadata": {},
   "outputs": [],
   "source": [
    "X_train = X_train.reshape((-1, 28, 28, 1))\n",
    "X_val = X_val.reshape((-1, 28, 28, 1))\n",
    "X_test = X_test.reshape((-1, 28, 28, 1))"
   ]
  },
  {
   "cell_type": "code",
   "execution_count": 34,
   "metadata": {
    "scrolled": false
   },
   "outputs": [
    {
     "name": "stdout",
     "output_type": "stream",
     "text": [
      "Train on 48000 samples, validate on 6000 samples\n",
      "Epoch 1/10\n",
      "48000/48000 [==============================] - 151s 3ms/sample - loss: 1.1592 - accuracy: 0.7435 - val_loss: 1.1860 - val_accuracy: 0.7152\n",
      "Epoch 2/10\n",
      "48000/48000 [==============================] - 370s 8ms/sample - loss: 1.1094 - accuracy: 0.7933 - val_loss: 1.1108 - val_accuracy: 0.7905\n",
      "Epoch 3/10\n",
      "48000/48000 [==============================] - 633s 13ms/sample - loss: 1.0953 - accuracy: 0.8073 - val_loss: 1.1054 - val_accuracy: 0.7990\n",
      "Epoch 4/10\n",
      "48000/48000 [==============================] - 151s 3ms/sample - loss: 1.0853 - accuracy: 0.8173 - val_loss: 1.1770 - val_accuracy: 0.7240\n",
      "Epoch 5/10\n",
      "48000/48000 [==============================] - 146s 3ms/sample - loss: 1.0795 - accuracy: 0.8240 - val_loss: 1.1230 - val_accuracy: 0.7790\n",
      "Epoch 6/10\n",
      "48000/48000 [==============================] - 146s 3ms/sample - loss: 1.0736 - accuracy: 0.8299 - val_loss: 1.1791 - val_accuracy: 0.7208\n",
      "Epoch 7/10\n",
      "48000/48000 [==============================] - 144s 3ms/sample - loss: 1.0726 - accuracy: 0.8305 - val_loss: 1.0953 - val_accuracy: 0.8083\n",
      "Epoch 8/10\n",
      "48000/48000 [==============================] - 147s 3ms/sample - loss: 1.0665 - accuracy: 0.8369 - val_loss: 1.0865 - val_accuracy: 0.8163\n",
      "Epoch 9/10\n",
      "48000/48000 [==============================] - 148s 3ms/sample - loss: 1.0625 - accuracy: 0.8410 - val_loss: 1.1505 - val_accuracy: 0.7522\n",
      "Epoch 10/10\n",
      "48000/48000 [==============================] - 158s 3ms/sample - loss: 1.0613 - accuracy: 0.8419 - val_loss: 1.0589 - val_accuracy: 0.8448\n"
     ]
    }
   ],
   "source": [
    "model.compile(optimizer='adam',\n",
    "              loss=tf.keras.losses.SparseCategoricalCrossentropy(from_logits=True),\n",
    "              metrics=['accuracy'])\n",
    "\n",
    "history = model.fit(X_train, y_train, epochs=10, \n",
    "                    validation_data=(X_val, y_val))"
   ]
  },
  {
   "cell_type": "code",
   "execution_count": 35,
   "metadata": {},
   "outputs": [
    {
     "name": "stdout",
     "output_type": "stream",
     "text": [
      "6000/1 - 8s - loss: 1.0136 - accuracy: 0.8445\n",
      "0.8445\n"
     ]
    }
   ],
   "source": [
    "test_loss, test_acc = model.evaluate(X_test,  y_test, verbose=2)\n",
    "print(test_acc)"
   ]
  },
  {
   "cell_type": "code",
   "execution_count": 38,
   "metadata": {},
   "outputs": [],
   "source": [
    "datagen = ImageDataGenerator(\n",
    "        rotation_range = 8,  # randomly rotate images in the range (degrees, 0 to 180)\n",
    "        zoom_range = 0.1, # Randomly zoom image \n",
    "        shear_range = 0.3,# shear angle in counter-clockwise direction in degrees  \n",
    "        width_shift_range=0.08,  # randomly shift images horizontally (fraction of total width)\n",
    "        height_shift_range=0.08,  # randomly shift images vertically (fraction of total height)\n",
    "        vertical_flip=True)  # randomly flip images"
   ]
  },
  {
   "cell_type": "code",
   "execution_count": 39,
   "metadata": {},
   "outputs": [],
   "source": [
    "datagen.fit(X_train)"
   ]
  },
  {
   "cell_type": "markdown",
   "metadata": {},
   "source": [
    "### Data Augmentation\n",
    "\n",
    "Should we augment validation\n",
    "\n",
    "#### Types of Augmentation\n",
    "1. Rotation\n",
    "2. Zoom\n",
    "3. Shear\n",
    "4. Flip"
   ]
  },
  {
   "cell_type": "code",
   "execution_count": 40,
   "metadata": {},
   "outputs": [
    {
     "data": {
      "image/png": "[encoded data removed]",
      "text/plain": [
       "<Figure size 864x288 with 16 Axes>"
      ]
     },
     "metadata": {
      "needs_background": "light"
     },
     "output_type": "display_data"
    }
   ],
   "source": [
    "# define number of rows & columns\n",
    "num_row = 2\n",
    "num_col = 8\n",
    "num= num_row*num_col\n",
    "\n",
    "# plot after\n",
    "fig2, axes2 = plt.subplots(num_row, num_col, figsize=(1.5*num_col,2*num_row))\n",
    "for X, Y in datagen.flow(X_train,y_train,batch_size=num,shuffle=False):\n",
    "     for i in range(0, num):\n",
    "          ax = axes2[i//num_col, i%num_col]\n",
    "          ax.imshow(X[i].reshape(28,28), cmap='gray_r')\n",
    "          ax.set_title('Label: {}'.format(int(Y[i])))\n",
    "     break\n",
    "plt.tight_layout()\n",
    "plt.show()"
   ]
  },
  {
   "cell_type": "code",
   "execution_count": 41,
   "metadata": {},
   "outputs": [
    {
     "name": "stdout",
     "output_type": "stream",
     "text": [
      "Epoch 1/30\n",
      "375/375 - 174s - loss: 1.1798 - accuracy: 0.7215 - val_loss: 1.0935 - val_accuracy: 0.8103\n",
      "Epoch 2/30\n",
      "375/375 - 172s - loss: 1.1441 - accuracy: 0.7582 - val_loss: 1.0637 - val_accuracy: 0.8400\n",
      "Epoch 3/30\n",
      "375/375 - 172s - loss: 1.1297 - accuracy: 0.7730 - val_loss: 1.0665 - val_accuracy: 0.8353\n",
      "Epoch 4/30\n",
      "375/375 - 177s - loss: 1.1231 - accuracy: 0.7790 - val_loss: 1.0654 - val_accuracy: 0.8373\n",
      "Epoch 5/30\n",
      "375/375 - 173s - loss: 1.1178 - accuracy: 0.7846 - val_loss: 1.0654 - val_accuracy: 0.8360\n",
      "Epoch 6/30\n",
      "375/375 - 172s - loss: 1.1168 - accuracy: 0.7859 - val_loss: 1.0521 - val_accuracy: 0.8513\n",
      "Epoch 7/30\n",
      "375/375 - 173s - loss: 1.1122 - accuracy: 0.7900 - val_loss: 1.0573 - val_accuracy: 0.8475\n",
      "Epoch 8/30\n",
      "375/375 - 175s - loss: 1.1099 - accuracy: 0.7929 - val_loss: 1.0794 - val_accuracy: 0.8223\n",
      "Epoch 9/30\n",
      "375/375 - 176s - loss: 1.1067 - accuracy: 0.7961 - val_loss: 1.0743 - val_accuracy: 0.8277\n",
      "Epoch 10/30\n",
      "375/375 - 176s - loss: 1.1029 - accuracy: 0.8003 - val_loss: 1.0713 - val_accuracy: 0.8312\n",
      "Epoch 11/30\n",
      "375/375 - 178s - loss: 1.1014 - accuracy: 0.8017 - val_loss: 1.0736 - val_accuracy: 0.8288\n",
      "Epoch 12/30\n",
      "375/375 - 178s - loss: 1.0985 - accuracy: 0.8038 - val_loss: 1.0582 - val_accuracy: 0.8455\n",
      "Epoch 13/30\n",
      "375/375 - 180s - loss: 1.0997 - accuracy: 0.8025 - val_loss: 1.0698 - val_accuracy: 0.8332\n",
      "Epoch 14/30\n",
      "375/375 - 178s - loss: 1.0989 - accuracy: 0.8040 - val_loss: 1.0600 - val_accuracy: 0.8430\n",
      "Epoch 15/30\n",
      "375/375 - 171s - loss: 1.0974 - accuracy: 0.8047 - val_loss: 1.0595 - val_accuracy: 0.8422\n",
      "Epoch 16/30\n",
      "375/375 - 169s - loss: 1.0973 - accuracy: 0.8046 - val_loss: 1.0581 - val_accuracy: 0.8452\n",
      "Epoch 17/30\n",
      "375/375 - 168s - loss: 1.0941 - accuracy: 0.8083 - val_loss: 1.0648 - val_accuracy: 0.8375\n",
      "Epoch 18/30\n",
      "375/375 - 169s - loss: 1.0937 - accuracy: 0.8085 - val_loss: 1.0686 - val_accuracy: 0.8343\n",
      "Epoch 19/30\n",
      "375/375 - 170s - loss: 1.0912 - accuracy: 0.8113 - val_loss: 1.0580 - val_accuracy: 0.8458\n",
      "Epoch 20/30\n",
      "375/375 - 169s - loss: 1.0904 - accuracy: 0.8127 - val_loss: 1.0673 - val_accuracy: 0.8355\n",
      "Epoch 21/30\n",
      "375/375 - 177s - loss: 1.0912 - accuracy: 0.8117 - val_loss: 1.0745 - val_accuracy: 0.8293\n",
      "Epoch 22/30\n",
      "375/375 - 173s - loss: 1.0924 - accuracy: 0.8106 - val_loss: 1.0789 - val_accuracy: 0.8245\n",
      "Epoch 23/30\n",
      "375/375 - 175s - loss: 1.0919 - accuracy: 0.8103 - val_loss: 1.0726 - val_accuracy: 0.8322\n",
      "Epoch 24/30\n",
      "375/375 - 175s - loss: 1.0924 - accuracy: 0.8099 - val_loss: 1.0644 - val_accuracy: 0.8387\n",
      "Epoch 25/30\n",
      "375/375 - 172s - loss: 1.0910 - accuracy: 0.8120 - val_loss: 1.0693 - val_accuracy: 0.8343\n",
      "Epoch 26/30\n",
      "375/375 - 169s - loss: 1.0918 - accuracy: 0.8107 - val_loss: 1.0654 - val_accuracy: 0.8383\n",
      "Epoch 27/30\n",
      "375/375 - 164s - loss: 1.0895 - accuracy: 0.8132 - val_loss: 1.0663 - val_accuracy: 0.8375\n",
      "Epoch 28/30\n",
      "375/375 - 112s - loss: 1.0873 - accuracy: 0.8160 - val_loss: 1.0654 - val_accuracy: 0.8390\n",
      "Epoch 29/30\n",
      "375/375 - 113s - loss: 1.0884 - accuracy: 0.8144 - val_loss: 1.0609 - val_accuracy: 0.8437\n",
      "Epoch 30/30\n",
      "375/375 - 112s - loss: 1.0895 - accuracy: 0.8135 - val_loss: 1.0635 - val_accuracy: 0.8402\n"
     ]
    }
   ],
   "source": [
    "batch_size = 128\n",
    "epochs = 30\n",
    "reduce_lr = LearningRateScheduler(lambda x: 1e-3 * 0.9 ** x)\n",
    "\n",
    "\n",
    "# Fit the Model\n",
    "history = model.fit_generator(datagen.flow(X_train, y_train, batch_size = batch_size), epochs = epochs, \n",
    "                              validation_data = (X_val, y_val), verbose=2, \n",
    "                              steps_per_epoch=X_train.shape[0] // batch_size,\n",
    "                              callbacks = [reduce_lr])"
   ]
  },
  {
   "cell_type": "code",
   "execution_count": 42,
   "metadata": {},
   "outputs": [
    {
     "name": "stdout",
     "output_type": "stream",
     "text": [
      "6000/1 - 6s - loss: 1.0457 - accuracy: 0.8433\n",
      "0.8433333\n"
     ]
    }
   ],
   "source": [
    "test_loss, test_acc = model.evaluate(X_test,  y_test, verbose=2)\n",
    "print(test_acc)"
   ]
  },
  {
   "cell_type": "code",
   "execution_count": null,
   "metadata": {},
   "outputs": [],
   "source": [
    "#plot all architectures and write references\n",
    "#compare accuracies\n",
    "#write about choice of all hyperparameters - no of epochs etc"
   ]
  }
 ],
 "metadata": {
  "kernelspec": {
   "display_name": "Python 3",
   "language": "python",
   "name": "python3"
  }
 },
 "nbformat": 4,
 "nbformat_minor": 4
}
