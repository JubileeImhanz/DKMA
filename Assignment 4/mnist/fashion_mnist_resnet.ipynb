{
 "cells": [
  {
   "cell_type": "code",
   "execution_count": null,
   "id": "192d86ae",
   "metadata": {},
   "outputs": [],
   "source": [
    "import tensorflow as tf\n",
    "import numpy as np\n",
    "import matplotlib.pyplot as plt\n",
    "import pandas as pd\n",
    "# Deep Learning Libraries\n",
    "from tensorflow.keras import datasets, layers, models, losses, Model\n",
    "from keras.callbacks import ReduceLROnPlateau, LearningRateScheduler\n",
    "from keras.preprocessing.image import ImageDataGenerator\n",
    "from keras.utils import plot_model"
   ]
  },
  {
   "cell_type": "code",
   "execution_count": null,
   "id": "676644b0",
   "metadata": {},
   "outputs": [],
   "source": [
    "def accuracy_loss_plot(history):\n",
    "    plt.Figure()\n",
    "    plt.plot(history.history['accuracy'])\n",
    "    plt.plot(history.history['val_accuracy'])\n",
    "    plt.title('Model accuracy')\n",
    "    plt.ylabel('Accuracy')\n",
    "    plt.xlabel('Epoch')\n",
    "    plt.legend(['Train', 'Val'], loc='lower right')\n",
    "    plt.show()\n",
    "    plt.Figure()\n",
    "    plt.plot(history.history['loss'])\n",
    "    plt.plot(history.history['val_loss'])\n",
    "    plt.title('Model loss')\n",
    "    plt.ylabel('loss')\n",
    "    plt.xlabel('Epoch')\n",
    "    plt.legend(['Train', 'Val'], loc='lower right')\n",
    "    plt.show()"
   ]
  },
  {
   "cell_type": "code",
   "execution_count": null,
   "id": "fb13c323",
   "metadata": {},
   "outputs": [],
   "source": [
    "data = np.load('fashion_mnist_dataset_train.npy', allow_pickle=True).item()"
   ]
  },
  {
   "cell_type": "code",
   "execution_count": null,
   "id": "130ed21d",
   "metadata": {},
   "outputs": [],
   "source": [
    "s = pd.Series(data['target'])\n",
    "target = s.replace([1, 2, 3, 4, 5], [0, 1, 2, 3, 4])\n",
    "target = target.to_numpy()\n",
    "target"
   ]
  },
  {
   "cell_type": "code",
   "execution_count": null,
   "id": "c8443fef",
   "metadata": {},
   "outputs": [],
   "source": [
    "from sklearn.model_selection import train_test_split\n",
    "# Splitting the data into train, test, and validation sets\n",
    "X_train, X_test, y_train, y_test = train_test_split(data['features'], target, test_size=0.2, random_state=275)\n",
    "X_val, X_test, y_val, y_test = train_test_split(X_test, y_test, test_size=0.5, random_state=275)"
   ]
  },
  {
   "cell_type": "code",
   "execution_count": null,
   "id": "d071bea1",
   "metadata": {},
   "outputs": [],
   "source": [
    "#pad the images to achieve 32 x 32\n",
    "X_train = tf.pad(X_train, [[0, 0], [2,2], [2,2]])\n",
    "X_val = tf.pad(X_val, [[0, 0], [2,2], [2,2]])\n",
    "X_test = tf.pad(X_test, [[0, 0], [2,2], [2,2]])\n",
    "#expand and repeat to create 3 channels\n",
    "X_train = tf.expand_dims(X_train, axis=3, name=None)\n",
    "X_val = tf.expand_dims(X_val, axis=3, name=None)\n",
    "X_test = tf.expand_dims(X_test, axis=3, name=None)\n"
   ]
  },
  {
   "cell_type": "code",
   "execution_count": null,
   "id": "0d773442",
   "metadata": {},
   "outputs": [],
   "source": [
    "print(X_train.shape, '\\n')\n",
    "print(X_val.shape, '\\n')\n",
    "print(X_test.shape, '\\n')"
   ]
  },
  {
   "cell_type": "code",
   "execution_count": null,
   "id": "05823567",
   "metadata": {},
   "outputs": [],
   "source": [
    "print(tf.__version__)"
   ]
  },
  {
   "cell_type": "code",
   "execution_count": null,
   "id": "34dd7f98",
   "metadata": {},
   "outputs": [],
   "source": [
    "X_train = tf.repeat(X_train, 3, axis=3)\n",
    "X_val = tf.repeat(X_train, 3, axis=3)\n",
    "X_test = tf.repeat(X_test, 3, axis=3)"
   ]
  },
  {
   "cell_type": "code",
   "execution_count": null,
   "id": "4656d8fe",
   "metadata": {},
   "outputs": [],
   "source": [
    "base_model = tf.keras.applications.ResNet152(weights = 'imagenet', include_top = False, input_shape = (32,32,3))\n",
    "for layer in base_model.layers:\n",
    "    layer.trainable = False"
   ]
  },
  {
   "cell_type": "code",
   "execution_count": null,
   "id": "3f8e5a5a",
   "metadata": {},
   "outputs": [],
   "source": [
    "x = layers.Flatten()(base_model.output)\n",
    "x = layers.Dense(1000, activation='relu')(x)\n",
    "predictions = layers.Dense(5, activation = 'softmax')(x)"
   ]
  },
  {
   "cell_type": "code",
   "execution_count": null,
   "id": "7d280c6f",
   "metadata": {},
   "outputs": [],
   "source": [
    "head_model = Model(inputs = base_model.input, outputs = predictions)\n",
    "head_model.compile(optimizer='adam', loss=losses.sparse_categorical_crossentropy, metrics=['accuracy'])"
   ]
  },
  {
   "cell_type": "code",
   "execution_count": null,
   "id": "84aee3b5",
   "metadata": {},
   "outputs": [],
   "source": [
    "history = head_model.fit(X_train, y_train, batch_size=64, epochs=40, validation_data=(X_val, y_val))"
   ]
  },
  {
   "cell_type": "code",
   "execution_count": null,
   "id": "d3171728",
   "metadata": {},
   "outputs": [],
   "source": []
  }
 ],
 "metadata": {
  "kernelspec": {
   "display_name": "Python 3",
   "language": "python",
   "name": "python3"
  },
  "language_info": {
   "codemirror_mode": {
    "name": "ipython",
    "version": 3
   },
   "file_extension": ".py",
   "mimetype": "text/x-python",
   "name": "python",
   "nbconvert_exporter": "python",
   "pygments_lexer": "ipython3",
   "version": "3.7.10"
  }
 },
 "nbformat": 4,
 "nbformat_minor": 5
}
