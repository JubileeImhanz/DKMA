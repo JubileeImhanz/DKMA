{
 "cells": [
  {
   "cell_type": "markdown",
   "metadata": {
    "id": "w4VG3Ets7xAl"
   },
   "source": [
    "### Brief Model Definition"
   ]
  },
  {
   "cell_type": "code",
   "execution_count": null,
   "metadata": {
    "id": "2CPtk-xU70M-"
   },
   "outputs": [],
   "source": [
    "model_brief=models.Sequential()\n",
    "model_brief.add(layers.Conv2D(32, (3,3) , padding='same',activation='relu', input_shape=(28,28,1)))\n",
    "model_brief.add(layers.BatchNormalization())\n",
    "model_brief.add(layers.MaxPooling2D(pool_size=(2,2)))\n",
    "\n",
    "model_brief.add(layers.Flatten())\n",
    "model_brief.add(layers.Dense(128, activation='relu'))\n",
    "model_brief.add(layers.Dense(5, activation='softmax'))"
   ]
  },
  {
   "cell_type": "markdown",
   "metadata": {
    "id": "z5kXzKbX71Na"
   },
   "source": [
    "### Training the Brief Model"
   ]
  },
  {
   "cell_type": "code",
   "execution_count": null,
   "metadata": {
    "id": "S_dVaLAQ73m5"
   },
   "outputs": [],
   "source": [
    "model_brief.compile(optimizer='adam',\n",
    "              loss=tf.keras.losses.SparseCategoricalCrossentropy(from_logits=True),\n",
    "              metrics=['accuracy'])"
   ]
  },
  {
   "cell_type": "code",
   "execution_count": null,
   "metadata": {
    "id": "PBr0iroj77V1"
   },
   "outputs": [],
   "source": [
    "%%time\n",
    "with tf.device('/device:GPU:0'):\n",
    "  history = model_brief.fit(X_train, y_train, epochs=100, \n",
    "                    validation_data=(X_val, y_val), batch_size=128)"
   ]
  },
  {
   "cell_type": "markdown",
   "metadata": {
    "id": "jzkzSjIF8EmO"
   },
   "source": [
    "## Deeper Model Definition"
   ]
  },
  {
   "cell_type": "code",
   "execution_count": null,
   "metadata": {
    "id": "lN19xnWH8Gcl"
   },
   "outputs": [],
   "source": [
    "#output softmax layer should have 5 outputs\n",
    "# Building a ConvNet\n",
    "model = models.Sequential()\n",
    "model.add(layers.Conv2D(32, (3, 3), activation='relu', padding='same', input_shape=(28, 28, 1)))\n",
    "model.add(layers.MaxPooling2D((2, 2)))\n",
    "model.add(layers.BatchNormalization())\n",
    "model.add(layers.Conv2D(64, (3, 3), activation='relu', padding='same'))\n",
    "model.add(layers.Dropout(0.25))\n",
    "model.add(layers.MaxPooling2D((2, 2)))\n",
    "model.add(layers.Conv2D(64, (3, 3), activation='relu', padding='same'))\n",
    "model.add(layers.BatchNormalization())\n",
    "model.add(layers.Dropout(0.25))\n",
    "model.add(layers.Flatten())\n",
    "model.add(layers.Dense(64, activation='relu'))\n",
    "model.add(layers.Dense(5, activation='softmax'))"
   ]
  },
  {
   "cell_type": "markdown",
   "metadata": {
    "id": "L1VRkyQ98Hgm"
   },
   "source": [
    "### Training the Deeper Model "
   ]
  },
  {
   "cell_type": "code",
   "execution_count": null,
   "metadata": {
    "id": "64Ikp2ZM8JIU"
   },
   "outputs": [],
   "source": [
    "%%time\n",
    "with tf.device('/device:GPU:0'):\n",
    "  model.compile(optimizer='adam',\n",
    "              loss=tf.keras.losses.SparseCategoricalCrossentropy(from_logits=True),\n",
    "              metrics=['accuracy'])\n",
    "  history_deeper = model.fit(X_train, y_train, epochs=80, \n",
    "                    validation_data=(X_val, y_val), batch_size=128)"
   ]
  },
  {
   "cell_type": "markdown",
   "metadata": {
    "id": "g_yuqqUs8OYZ"
   },
   "source": [
    "### Loading ResNet"
   ]
  },
  {
   "cell_type": "code",
   "execution_count": null,
   "metadata": {
    "id": "K118roNV8gza"
   },
   "outputs": [],
   "source": [
    "#Resnet\n",
    "base_model = tf.keras.applications.ResNet152(weights = 'imagenet', include_top = False, input_shape = (32,32,3))\n",
    "for layer in base_model.layers:\n",
    "    layer.trainable = False"
   ]
  },
  {
   "cell_type": "markdown",
   "metadata": {
    "id": "jlYVPk3t8oIu"
   },
   "source": [
    "### Define Output Layer"
   ]
  },
  {
   "cell_type": "code",
   "execution_count": null,
   "metadata": {
    "id": "QFWiO35N8jlS"
   },
   "outputs": [],
   "source": [
    "x = layers.Flatten()(base_model.output)\n",
    "x = layers.Dense(1000, activation='relu')(x)\n",
    "predictions = layers.Dense(5, activation = 'softmax')(x)"
   ]
  },
  {
   "cell_type": "markdown",
   "metadata": {
    "id": "EveXV9kC87ap"
   },
   "source": [
    "### Training the Model"
   ]
  },
  {
   "cell_type": "code",
   "execution_count": null,
   "metadata": {
    "id": "0sw0Brim88rf"
   },
   "outputs": [],
   "source": [
    "resnet_model = Model(inputs = base_model.input, outputs = predictions)\n",
    "resnet_model.compile(optimizer='adam', loss=losses.sparse_categorical_crossentropy, metrics=['accuracy'])"
   ]
  },
  {
   "cell_type": "code",
   "execution_count": null,
   "metadata": {
    "id": "xn5fn5iV9Aka"
   },
   "outputs": [],
   "source": [
    "%%time\n",
    "with tf.device('/device:GPU:0'):\n",
    "  history_resnet = resnet_model.fit(X_train_tl, y_train, batch_size=128, epochs=100, validation_data=(X_val_tl, y_val))"
   ]
  },
  {
   "cell_type": "markdown",
   "metadata": {
    "id": "TkjcUORj9IGu"
   },
   "source": [
    "### Loading VGGNet"
   ]
  },
  {
   "cell_type": "code",
   "execution_count": null,
   "metadata": {
    "id": "_pcMDyYx9G9W"
   },
   "outputs": [],
   "source": [
    "base_model = tf.keras.applications.VGG16(weights = 'imagenet', include_top = False, input_shape = (32,32,3))\n",
    "for layer in base_model.layers:\n",
    "  layer.trainable = False\n",
    "base_model.summary()\n"
   ]
  },
  {
   "cell_type": "markdown",
   "metadata": {
    "id": "eAHec9ic9MtK"
   },
   "source": [
    "### Define Output Layer"
   ]
  },
  {
   "cell_type": "code",
   "execution_count": null,
   "metadata": {
    "id": "aT3cPPcq9Pt1"
   },
   "outputs": [],
   "source": [
    "x = layers.Flatten()(base_model.output)\n",
    "x = layers.Dense(4096, activation='relu')(x)\n",
    "x = layers.Dropout(0.5)(x)\n",
    "x = layers.Dense(4096, activation='relu')(x)\n",
    "x = layers.Dropout(0.5)(x)\n",
    "predictions = layers.Dense(5, activation = 'softmax')(x)\n",
    "head_model = Model(inputs = base_model.input, outputs = predictions)\n",
    "head_model.compile(optimizer='adam', loss=losses.sparse_categorical_crossentropy, metrics=['accuracy'])"
   ]
  },
  {
   "cell_type": "markdown",
   "metadata": {
    "id": "D43b5uZh9kWz"
   },
   "source": [
    "### Training the Model"
   ]
  },
  {
   "cell_type": "code",
   "execution_count": null,
   "metadata": {
    "id": "wJT6CPNi9mNt"
   },
   "outputs": [],
   "source": [
    "%%time\n",
    "with tf.device('/device:GPU:0'):\n",
    "  history = head_model.fit(X_train_tl, y_train, batch_size=128, epochs=100, validation_data=(X_val_tl, y_val))"
   ]
  }
 ],
 "metadata": {
  "colab": {
   "name": "CM5.ipynb",
   "provenance": []
  },
  "kernelspec": {
   "display_name": "Python 3",
   "language": "python",
   "name": "python3"
  },
  "language_info": {
   "codemirror_mode": {
    "name": "ipython",
    "version": 3
   },
   "file_extension": ".py",
   "mimetype": "text/x-python",
   "name": "python",
   "nbconvert_exporter": "python",
   "pygments_lexer": "ipython3",
   "version": "3.8.6"
  }
 },
 "nbformat": 4,
 "nbformat_minor": 1
}
