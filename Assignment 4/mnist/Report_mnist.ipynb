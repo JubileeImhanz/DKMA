{
 "cells": [
  {
   "cell_type": "code",
   "execution_count": 4,
   "metadata": {},
   "outputs": [
    {
     "name": "stdout",
     "output_type": "stream",
     "text": [
      "Collecting package metadata (current_repodata.json): done\n",
      "Solving environment: done\n",
      "\n",
      "\n",
      "==> WARNING: A newer version of conda exists. <==\n",
      "  current version: 4.10.0\n",
      "  latest version: 4.10.1\n",
      "\n",
      "Please update conda by running\n",
      "\n",
      "    $ conda update -n base conda\n",
      "\n",
      "\n",
      "\n",
      "# All requested packages already installed.\n",
      "\n"
     ]
    }
   ],
   "source": [
    "!conda install -y scikit-learn"
   ]
  },
  {
   "cell_type": "code",
   "execution_count": 1,
   "metadata": {
    "id": "GB3PKXA4insG"
   },
   "outputs": [],
   "source": [
    "import tensorflow as tf\n",
    "import numpy as np\n",
    "import matplotlib.pyplot as plt\n",
    "import pandas as pd\n",
    "# Deep Learning Libraries\n",
    "from tensorflow.keras import datasets, layers, models\n",
    "from keras.callbacks import ReduceLROnPlateau, LearningRateScheduler\n",
    "from keras import optimizers\n",
    "from keras.preprocessing.image import ImageDataGenerator\n",
    "from keras.utils import plot_model\n",
    "#from sklearn.model_selection import train_test_split\n",
    "from scipy.ndimage.filters import gaussian_filter\n",
    "from scipy.ndimage.interpolation import map_coordinates\n",
    "from keras import backend as K\n",
    "from keras import optimizers"
   ]
  },
  {
   "cell_type": "code",
   "execution_count": 2,
   "metadata": {
    "colab": {
     "base_uri": "https://localhost:8080/",
     "height": 249
    },
    "executionInfo": {
     "elapsed": 680,
     "status": "error",
     "timestamp": 1619112561530,
     "user": {
      "displayName": "Reme Ajayi",
      "photoUrl": "https://lh3.googleusercontent.com/a-/AOh14GhN8zQmlaw0qqSrV6gaUudsq1_q7H5feHV1CmYuoQ=s64",
      "userId": "03469130805703249554"
     },
     "user_tz": 240
    },
    "id": "xTW-thRykReN",
    "outputId": "90a60ef3-0204-4c5a-fb51-a90a6e864a9d"
   },
   "outputs": [
    {
     "data": {
      "text/plain": [
       "\"%tensorflow_version 2.x\\nimport tensorflow as tf\\ndevice_name = tf.test.gpu_device_name()\\nif device_name != '/device:GPU:0':\\n  raise SystemError('GPU device not found')\\nprint('Found GPU at: {}'.format(device_name))\\n\""
      ]
     },
     "execution_count": 2,
     "metadata": {},
     "output_type": "execute_result"
    }
   ],
   "source": [
    "#For colab GPU only\n",
    "\"\"\"%tensorflow_version 2.x\n",
    "import tensorflow as tf\n",
    "device_name = tf.test.gpu_device_name()\n",
    "if device_name != '/device:GPU:0':\n",
    "  raise SystemError('GPU device not found')\n",
    "print('Found GPU at: {}'.format(device_name))\n",
    "\"\"\""
   ]
  },
  {
   "cell_type": "code",
   "execution_count": 3,
   "metadata": {
    "colab": {
     "base_uri": "https://localhost:8080/"
    },
    "executionInfo": {
     "elapsed": 23200,
     "status": "ok",
     "timestamp": 1619111675739,
     "user": {
      "displayName": "Reme Ajayi",
      "photoUrl": "https://lh3.googleusercontent.com/a-/AOh14GhN8zQmlaw0qqSrV6gaUudsq1_q7H5feHV1CmYuoQ=s64",
      "userId": "03469130805703249554"
     },
     "user_tz": 240
    },
    "id": "agjC9Y2-kX2H",
    "outputId": "0b82d4db-d5de-4bfc-e040-887d39f88baa"
   },
   "outputs": [
    {
     "data": {
      "text/plain": [
       "\"\\nfrom google.colab import drive\\ndrive.mount('/content/drive')\\n\""
      ]
     },
     "execution_count": 3,
     "metadata": {},
     "output_type": "execute_result"
    }
   ],
   "source": [
    "\"\"\"\n",
    "from google.colab import drive\n",
    "drive.mount('/content/drive')\n",
    "\"\"\""
   ]
  },
  {
   "cell_type": "code",
   "execution_count": 4,
   "metadata": {
    "id": "4IN6z55QkbGy"
   },
   "outputs": [],
   "source": [
    "def accuracy_loss_plot(history):\n",
    "    plt.Figure()\n",
    "    plt.plot(history.history['accuracy'])\n",
    "    plt.plot(history.history['val_accuracy'])\n",
    "    plt.title('Model accuracy')\n",
    "    plt.ylabel('Accuracy')\n",
    "    plt.xlabel('Epoch')\n",
    "    plt.legend(['Train', 'Val'], loc='lower right')\n",
    "    plt.show()\n",
    "    plt.Figure()\n",
    "    plt.plot(history.history['loss'])\n",
    "    plt.plot(history.history['val_loss'])\n",
    "    plt.title('Model loss')\n",
    "    plt.ylabel('loss')\n",
    "    plt.xlabel('Epoch')\n",
    "    plt.legend(['Train', 'Val'], loc='lower right')\n",
    "    plt.show()"
   ]
  },
  {
   "cell_type": "code",
   "execution_count": 5,
   "metadata": {
    "id": "QmYfDzhwkedB"
   },
   "outputs": [],
   "source": [
    "#data = np.load('/content/drive/MyDrive/mnist/fashion_mnist_dataset_train.npy', allow_pickle=True).item()\n",
    "data = np.load('fashion_mnist_dataset_train.npy', allow_pickle=True).item()\n"
   ]
  },
  {
   "cell_type": "code",
   "execution_count": 6,
   "metadata": {
    "colab": {
     "base_uri": "https://localhost:8080/"
    },
    "executionInfo": {
     "elapsed": 371,
     "status": "ok",
     "timestamp": 1619111689818,
     "user": {
      "displayName": "Reme Ajayi",
      "photoUrl": "https://lh3.googleusercontent.com/a-/AOh14GhN8zQmlaw0qqSrV6gaUudsq1_q7H5feHV1CmYuoQ=s64",
      "userId": "03469130805703249554"
     },
     "user_tz": 240
    },
    "id": "cCdd261Dkhd4",
    "outputId": "a2959043-2c46-499e-ccf4-98bc19478a1d"
   },
   "outputs": [
    {
     "data": {
      "text/plain": [
       "{'features': array([[[0., 0., 0., ..., 0., 0., 0.],\n",
       "         [0., 0., 0., ..., 0., 0., 0.],\n",
       "         [0., 0., 0., ..., 0., 0., 0.],\n",
       "         ...,\n",
       "         [0., 0., 0., ..., 0., 0., 0.],\n",
       "         [0., 0., 0., ..., 0., 0., 0.],\n",
       "         [0., 0., 0., ..., 0., 0., 0.]],\n",
       " \n",
       "        [[0., 0., 0., ..., 0., 0., 0.],\n",
       "         [0., 0., 0., ..., 0., 0., 0.],\n",
       "         [0., 0., 0., ..., 0., 0., 0.],\n",
       "         ...,\n",
       "         [0., 0., 0., ..., 0., 0., 0.],\n",
       "         [0., 0., 0., ..., 0., 0., 0.],\n",
       "         [0., 0., 0., ..., 0., 0., 0.]],\n",
       " \n",
       "        [[0., 0., 0., ..., 0., 0., 0.],\n",
       "         [0., 0., 0., ..., 0., 0., 0.],\n",
       "         [0., 0., 0., ..., 0., 0., 0.],\n",
       "         ...,\n",
       "         [0., 0., 0., ..., 0., 0., 0.],\n",
       "         [0., 0., 0., ..., 0., 0., 0.],\n",
       "         [0., 0., 0., ..., 0., 0., 0.]],\n",
       " \n",
       "        ...,\n",
       " \n",
       "        [[0., 0., 0., ..., 0., 0., 0.],\n",
       "         [0., 0., 0., ..., 0., 0., 0.],\n",
       "         [0., 0., 0., ..., 0., 0., 0.],\n",
       "         ...,\n",
       "         [0., 0., 0., ..., 0., 0., 0.],\n",
       "         [0., 0., 0., ..., 0., 0., 0.],\n",
       "         [0., 0., 0., ..., 0., 0., 0.]],\n",
       " \n",
       "        [[0., 0., 0., ..., 0., 0., 0.],\n",
       "         [0., 0., 0., ..., 0., 0., 0.],\n",
       "         [0., 0., 0., ..., 0., 0., 0.],\n",
       "         ...,\n",
       "         [0., 0., 0., ..., 0., 0., 0.],\n",
       "         [0., 0., 0., ..., 0., 0., 0.],\n",
       "         [0., 0., 0., ..., 0., 0., 0.]],\n",
       " \n",
       "        [[0., 0., 0., ..., 0., 0., 0.],\n",
       "         [0., 0., 0., ..., 0., 0., 0.],\n",
       "         [0., 0., 0., ..., 0., 0., 0.],\n",
       "         ...,\n",
       "         [0., 0., 0., ..., 0., 0., 0.],\n",
       "         [0., 0., 0., ..., 0., 0., 0.],\n",
       "         [0., 0., 0., ..., 0., 0., 0.]]]),\n",
       " 'target': array([5., 2., 1., ..., 3., 1., 4.])}"
      ]
     },
     "execution_count": 6,
     "metadata": {},
     "output_type": "execute_result"
    }
   ],
   "source": [
    "data\n"
   ]
  },
  {
   "cell_type": "code",
   "execution_count": 7,
   "metadata": {
    "colab": {
     "base_uri": "https://localhost:8080/"
    },
    "executionInfo": {
     "elapsed": 216,
     "status": "ok",
     "timestamp": 1619111695839,
     "user": {
      "displayName": "Reme Ajayi",
      "photoUrl": "https://lh3.googleusercontent.com/a-/AOh14GhN8zQmlaw0qqSrV6gaUudsq1_q7H5feHV1CmYuoQ=s64",
      "userId": "03469130805703249554"
     },
     "user_tz": 240
    },
    "id": "7MEU1dSpklPC",
    "outputId": "a22c2dc8-9061-47e0-a29f-64609c543ed8"
   },
   "outputs": [
    {
     "data": {
      "text/plain": [
       "(60000,)"
      ]
     },
     "execution_count": 7,
     "metadata": {},
     "output_type": "execute_result"
    }
   ],
   "source": [
    "data['target'].shape"
   ]
  },
  {
   "cell_type": "code",
   "execution_count": 8,
   "metadata": {
    "colab": {
     "base_uri": "https://localhost:8080/"
    },
    "executionInfo": {
     "elapsed": 210,
     "status": "ok",
     "timestamp": 1619111697746,
     "user": {
      "displayName": "Reme Ajayi",
      "photoUrl": "https://lh3.googleusercontent.com/a-/AOh14GhN8zQmlaw0qqSrV6gaUudsq1_q7H5feHV1CmYuoQ=s64",
      "userId": "03469130805703249554"
     },
     "user_tz": 240
    },
    "id": "exan8JIIknup",
    "outputId": "9b7899d7-7922-46c6-e073-49f8e476d615"
   },
   "outputs": [
    {
     "data": {
      "text/plain": [
       "array([4., 1., 0., ..., 2., 0., 3.])"
      ]
     },
     "execution_count": 8,
     "metadata": {},
     "output_type": "execute_result"
    }
   ],
   "source": [
    "s = pd.Series(data['target'])\n",
    "target = s.replace([1, 2, 3, 4, 5], [0, 1, 2, 3, 4])\n",
    "target = target.to_numpy()\n",
    "target"
   ]
  },
  {
   "cell_type": "code",
   "execution_count": 9,
   "metadata": {
    "colab": {
     "base_uri": "https://localhost:8080/"
    },
    "executionInfo": {
     "elapsed": 208,
     "status": "ok",
     "timestamp": 1619111699760,
     "user": {
      "displayName": "Reme Ajayi",
      "photoUrl": "https://lh3.googleusercontent.com/a-/AOh14GhN8zQmlaw0qqSrV6gaUudsq1_q7H5feHV1CmYuoQ=s64",
      "userId": "03469130805703249554"
     },
     "user_tz": 240
    },
    "id": "Hwc_2OkZkqtf",
    "outputId": "cc0d461c-6bd9-4bf7-ef06-b0d6a3160a89"
   },
   "outputs": [
    {
     "data": {
      "text/plain": [
       "(60000,)"
      ]
     },
     "execution_count": 9,
     "metadata": {},
     "output_type": "execute_result"
    }
   ],
   "source": [
    "target.shape"
   ]
  },
  {
   "cell_type": "code",
   "execution_count": 10,
   "metadata": {},
   "outputs": [
    {
     "data": {
      "text/plain": [
       "'1.20.2'"
      ]
     },
     "execution_count": 10,
     "metadata": {},
     "output_type": "execute_result"
    }
   ],
   "source": [
    "np.version.version"
   ]
  },
  {
   "cell_type": "code",
   "execution_count": 11,
   "metadata": {},
   "outputs": [
    {
     "name": "stdout",
     "output_type": "stream",
     "text": [
      "48000 6000 6000\n",
      "48000 6000 6000\n"
     ]
    }
   ],
   "source": [
    "#sklearn alternative for Apple Silicon\n",
    "def split_train_valid_test(data,valid_ratio,test_ratio):\n",
    "    shuffled_indcies=np.random.permutation(len(data))\n",
    "    valid_set_size= int(len(data)*valid_ratio)\n",
    "    valid_indcies=shuffled_indcies[:valid_set_size]\n",
    "    test_set_size= int(len(data)*test_ratio)\n",
    "    test_indcies=shuffled_indcies[valid_set_size:test_set_size+valid_set_size]\n",
    "    train_indices=shuffled_indcies[test_set_size+valid_set_size:]\n",
    "    return data[train_indices],data[valid_indcies],data[test_indcies]\n",
    "\n",
    "X_train,X_val,X_test=split_train_valid_test(data['features'],valid_ratio=0.1,test_ratio=0.1)\n",
    "y_train,y_val,y_test=split_train_valid_test(data['target'],valid_ratio=0.1,test_ratio=0.1)\n",
    "print(len(X_train),len(X_val),len(X_test))\n",
    "print(len(y_train),len(y_val),len(y_test))"
   ]
  },
  {
   "cell_type": "code",
   "execution_count": 12,
   "metadata": {
    "id": "E6a_b73JktDX"
   },
   "outputs": [
    {
     "data": {
      "text/plain": [
       "\"\\nX_train, X_test, y_train, y_test = train_test_split(data['features'], target, test_size=0.2, random_state=275)\\nX_val, X_test, y_val, y_test = train_test_split(X_test, y_test, test_size=0.5, random_state=275)\\n\""
      ]
     },
     "execution_count": 12,
     "metadata": {},
     "output_type": "execute_result"
    }
   ],
   "source": [
    "# Splitting the data into train, test, and validation sets\n",
    "\"\"\"\n",
    "X_train, X_test, y_train, y_test = train_test_split(data['features'], target, test_size=0.2, random_state=275)\n",
    "X_val, X_test, y_val, y_test = train_test_split(X_test, y_test, test_size=0.5, random_state=275)\n",
    "\"\"\""
   ]
  },
  {
   "cell_type": "code",
   "execution_count": 13,
   "metadata": {
    "colab": {
     "base_uri": "https://localhost:8080/"
    },
    "executionInfo": {
     "elapsed": 223,
     "status": "ok",
     "timestamp": 1619111724989,
     "user": {
      "displayName": "Reme Ajayi",
      "photoUrl": "https://lh3.googleusercontent.com/a-/AOh14GhN8zQmlaw0qqSrV6gaUudsq1_q7H5feHV1CmYuoQ=s64",
      "userId": "03469130805703249554"
     },
     "user_tz": 240
    },
    "id": "qpPEnvI1k_6g",
    "outputId": "7a18354f-4687-4fde-d048-0112685d7725"
   },
   "outputs": [
    {
     "data": {
      "text/plain": [
       "(48000, 28, 28)"
      ]
     },
     "execution_count": 13,
     "metadata": {},
     "output_type": "execute_result"
    }
   ],
   "source": [
    "X_train.shape"
   ]
  },
  {
   "cell_type": "code",
   "execution_count": 14,
   "metadata": {
    "colab": {
     "base_uri": "https://localhost:8080/"
    },
    "executionInfo": {
     "elapsed": 217,
     "status": "ok",
     "timestamp": 1619111740000,
     "user": {
      "displayName": "Reme Ajayi",
      "photoUrl": "https://lh3.googleusercontent.com/a-/AOh14GhN8zQmlaw0qqSrV6gaUudsq1_q7H5feHV1CmYuoQ=s64",
      "userId": "03469130805703249554"
     },
     "user_tz": 240
    },
    "id": "euQaOen8lExf",
    "outputId": "d471868f-7813-440b-acf8-a25ae628ae30"
   },
   "outputs": [
    {
     "data": {
      "text/plain": [
       "(6000, 28, 28)"
      ]
     },
     "execution_count": 14,
     "metadata": {},
     "output_type": "execute_result"
    }
   ],
   "source": [
    "X_val.shape"
   ]
  },
  {
   "cell_type": "code",
   "execution_count": 15,
   "metadata": {
    "colab": {
     "base_uri": "https://localhost:8080/",
     "height": 589
    },
    "executionInfo": {
     "elapsed": 1273,
     "status": "ok",
     "timestamp": 1619111757639,
     "user": {
      "displayName": "Reme Ajayi",
      "photoUrl": "https://lh3.googleusercontent.com/a-/AOh14GhN8zQmlaw0qqSrV6gaUudsq1_q7H5feHV1CmYuoQ=s64",
      "userId": "03469130805703249554"
     },
     "user_tz": 240
    },
    "id": "CMZbFloilIqS",
    "outputId": "1e339044-c760-4a18-db76-fff6228f2b1c"
   },
   "outputs": [
    {
     "data": {
      "image/png": "[encoded data removed]",
      "text/plain": [
       "<Figure size 720x720 with 25 Axes>"
      ]
     },
     "metadata": {},
     "output_type": "display_data"
    }
   ],
   "source": [
    "plt.figure(figsize=(10,10))\n",
    "for i in range(25):\n",
    "    plt.subplot(5,5,i+1)\n",
    "    plt.xticks([])\n",
    "    plt.yticks([])\n",
    "    plt.grid(False)\n",
    "    plt.imshow(X_train[i], cmap=plt.cm.binary)\n",
    "    plt.xlabel(y_train[i])\n",
    "plt.show()"
   ]
  },
  {
   "cell_type": "code",
   "execution_count": 16,
   "metadata": {
    "id": "RTe61keRlNXW"
   },
   "outputs": [],
   "source": [
    "#plot the label distribution\n",
    "df_label = pd.DataFrame(data['target'])"
   ]
  },
  {
   "cell_type": "code",
   "execution_count": 17,
   "metadata": {
    "colab": {
     "base_uri": "https://localhost:8080/",
     "height": 204
    },
    "executionInfo": {
     "elapsed": 220,
     "status": "ok",
     "timestamp": 1619111788293,
     "user": {
      "displayName": "Reme Ajayi",
      "photoUrl": "https://lh3.googleusercontent.com/a-/AOh14GhN8zQmlaw0qqSrV6gaUudsq1_q7H5feHV1CmYuoQ=s64",
      "userId": "03469130805703249554"
     },
     "user_tz": 240
    },
    "id": "djy5_pM5lRk0",
    "outputId": "bde4a9fc-c691-4deb-9625-04e4e68e59d7"
   },
   "outputs": [
    {
     "data": {
      "text/html": [
       "<div>\n",
       "<style scoped>\n",
       "    .dataframe tbody tr th:only-of-type {\n",
       "        vertical-align: middle;\n",
       "    }\n",
       "\n",
       "    .dataframe tbody tr th {\n",
       "        vertical-align: top;\n",
       "    }\n",
       "\n",
       "    .dataframe thead th {\n",
       "        text-align: right;\n",
       "    }\n",
       "</style>\n",
       "<table border=\"1\" class=\"dataframe\">\n",
       "  <thead>\n",
       "    <tr style=\"text-align: right;\">\n",
       "      <th></th>\n",
       "      <th>0</th>\n",
       "    </tr>\n",
       "  </thead>\n",
       "  <tbody>\n",
       "    <tr>\n",
       "      <th>0</th>\n",
       "      <td>5.0</td>\n",
       "    </tr>\n",
       "    <tr>\n",
       "      <th>1</th>\n",
       "      <td>2.0</td>\n",
       "    </tr>\n",
       "    <tr>\n",
       "      <th>2</th>\n",
       "      <td>1.0</td>\n",
       "    </tr>\n",
       "    <tr>\n",
       "      <th>3</th>\n",
       "      <td>2.0</td>\n",
       "    </tr>\n",
       "    <tr>\n",
       "      <th>4</th>\n",
       "      <td>1.0</td>\n",
       "    </tr>\n",
       "  </tbody>\n",
       "</table>\n",
       "</div>"
      ],
      "text/plain": [
       "     0\n",
       "0  5.0\n",
       "1  2.0\n",
       "2  1.0\n",
       "3  2.0\n",
       "4  1.0"
      ]
     },
     "execution_count": 17,
     "metadata": {},
     "output_type": "execute_result"
    }
   ],
   "source": [
    "df_label.head()"
   ]
  },
  {
   "cell_type": "code",
   "execution_count": 18,
   "metadata": {
    "colab": {
     "base_uri": "https://localhost:8080/"
    },
    "executionInfo": {
     "elapsed": 217,
     "status": "ok",
     "timestamp": 1619111803699,
     "user": {
      "displayName": "Reme Ajayi",
      "photoUrl": "https://lh3.googleusercontent.com/a-/AOh14GhN8zQmlaw0qqSrV6gaUudsq1_q7H5feHV1CmYuoQ=s64",
      "userId": "03469130805703249554"
     },
     "user_tz": 240
    },
    "id": "9Jq4OYjXlU2C",
    "outputId": "6917729d-4336-48fa-f4c2-49383e6ebeee"
   },
   "outputs": [
    {
     "data": {
      "text/plain": [
       "2.0    12019\n",
       "3.0    12011\n",
       "4.0    11992\n",
       "1.0    11989\n",
       "5.0    11989\n",
       "dtype: int64"
      ]
     },
     "execution_count": 18,
     "metadata": {},
     "output_type": "execute_result"
    }
   ],
   "source": [
    "df_label.value_counts()"
   ]
  },
  {
   "cell_type": "code",
   "execution_count": 19,
   "metadata": {
    "id": "8tlcDBd_l7g-"
   },
   "outputs": [],
   "source": [
    "X_train = X_train.reshape((-1, 28, 28, 1))\n",
    "X_val = X_val.reshape((-1, 28, 28, 1))\n",
    "X_test = X_test.reshape((-1, 28, 28, 1))"
   ]
  },
  {
   "cell_type": "markdown",
   "metadata": {
    "id": "j-ZmCu9RmB0S"
   },
   "source": [
    "## Brief Model"
   ]
  },
  {
   "cell_type": "code",
   "execution_count": 20,
   "metadata": {
    "id": "H4io43vRmSij"
   },
   "outputs": [],
   "source": [
    "model_brief=models.Sequential()\n",
    "model_brief.add(layers.Conv2D(32, (3,3) , padding='same',activation='relu', input_shape=(28,28,1)))\n",
    "model_brief.add(layers.BatchNormalization())\n",
    "model_brief.add(layers.MaxPooling2D(pool_size=(2,2)))\n",
    "\n",
    "model_brief.add(layers.Flatten())\n",
    "model_brief.add(layers.Dense(128, activation='relu'))\n",
    "model_brief.add(layers.Dense(5, activation='softmax'))"
   ]
  },
  {
   "cell_type": "code",
   "execution_count": 21,
   "metadata": {
    "colab": {
     "base_uri": "https://localhost:8080/"
    },
    "executionInfo": {
     "elapsed": 236,
     "status": "ok",
     "timestamp": 1619112067193,
     "user": {
      "displayName": "Reme Ajayi",
      "photoUrl": "https://lh3.googleusercontent.com/a-/AOh14GhN8zQmlaw0qqSrV6gaUudsq1_q7H5feHV1CmYuoQ=s64",
      "userId": "03469130805703249554"
     },
     "user_tz": 240
    },
    "id": "Y3AdOOHhmVBe",
    "outputId": "dd6549f1-ebf1-4d45-9bbc-914e16101331"
   },
   "outputs": [
    {
     "name": "stdout",
     "output_type": "stream",
     "text": [
      "Model: \"sequential\"\n",
      "_________________________________________________________________\n",
      "Layer (type)                 Output Shape              Param #   \n",
      "=================================================================\n",
      "conv2d (Conv2D)              (None, 28, 28, 32)        320       \n",
      "_________________________________________________________________\n",
      "batch_normalization (BatchNo (None, 28, 28, 32)        128       \n",
      "_________________________________________________________________\n",
      "max_pooling2d (MaxPooling2D) (None, 14, 14, 32)        0         \n",
      "_________________________________________________________________\n",
      "flatten (Flatten)            (None, 6272)              0         \n",
      "_________________________________________________________________\n",
      "dense (Dense)                (None, 128)               802944    \n",
      "_________________________________________________________________\n",
      "dense_1 (Dense)              (None, 5)                 645       \n",
      "=================================================================\n",
      "Total params: 804,037\n",
      "Trainable params: 803,973\n",
      "Non-trainable params: 64\n",
      "_________________________________________________________________\n"
     ]
    }
   ],
   "source": [
    "model_brief.summary()"
   ]
  },
  {
   "cell_type": "code",
   "execution_count": 22,
   "metadata": {
    "colab": {
     "base_uri": "https://localhost:8080/",
     "height": 754
    },
    "executionInfo": {
     "elapsed": 876,
     "status": "ok",
     "timestamp": 1619112243740,
     "user": {
      "displayName": "Reme Ajayi",
      "photoUrl": "https://lh3.googleusercontent.com/a-/AOh14GhN8zQmlaw0qqSrV6gaUudsq1_q7H5feHV1CmYuoQ=s64",
      "userId": "03469130805703249554"
     },
     "user_tz": 240
    },
    "id": "c7ayUfo3mYsn",
    "outputId": "d815fd23-be82-41f3-a3f5-a9a83b3a1ee8"
   },
   "outputs": [
    {
     "data": {
      "image/png": "[encoded data removed]",
      "text/plain": [
       "<IPython.core.display.Image object>"
      ]
     },
     "execution_count": 22,
     "metadata": {},
     "output_type": "execute_result"
    }
   ],
   "source": [
    "plot_model(model_brief, show_shapes=True, rankdir=\"TD\")"
   ]
  },
  {
   "cell_type": "markdown",
   "metadata": {
    "id": "urmTbIFzp8sk"
   },
   "source": [
    "### Description of brief Model\n",
    "\n",
    "Lorem ipsum dolor sit amet, consectetur adipiscing elit. Curabitur eget viverra lectus. Ut consequat, magna id finibus condimentum, justo nibh porttitor nisl, in pulvinar est ante eu augue. Cras vitae mi eget nibh tincidunt sagittis vitae at turpis. Cras nec dolor ut est iaculis molestie. Pellentesque risus dui, venenatis vitae dui quis, posuere ornare purus. Sed metus felis, pharetra sed augue id, malesuada dictum nisi. Proin ullamcorper a nulla ut mattis. Fusce efficitur tortor mi, nec ornare nisl iaculis sed. Ut nunc nisl, dignissim id neque sed, maximus fermentum mauris."
   ]
  },
  {
   "cell_type": "code",
   "execution_count": 23,
   "metadata": {
    "id": "PDlATmsSnGLY"
   },
   "outputs": [],
   "source": [
    "model_brief.compile(optimizer='adam',\n",
    "              loss=tf.keras.losses.SparseCategoricalCrossentropy(from_logits=True),\n",
    "              metrics=['accuracy'])"
   ]
  },
  {
   "cell_type": "code",
   "execution_count": null,
   "metadata": {
    "colab": {
     "base_uri": "https://localhost:8080/"
    },
    "id": "R4gwz_p-n0UF",
    "outputId": "8844c966-e097-4bbe-cf09-9e2a80654166"
   },
   "outputs": [],
   "source": [
    "%%time\n",
    "#with tf.device('/device:GPU:0'):\n",
    "history = model_brief.fit(X_train, y_train, epochs=100, \n",
    "                    validation_data=(X_val, y_val), batch_size=128)"
   ]
  },
  {
   "cell_type": "code",
   "execution_count": null,
   "metadata": {
    "id": "8K-QsAZ1rJtX"
   },
   "outputs": [],
   "source": [
    "%%time\n",
    "#with tf.device('/device:GPU:0'):\n",
    "test_loss, test_acc = model_brief.evaluate(X_test,  y_test, verbose=2)\n",
    "print(\"Test of accuracy of brief model\", test_acc)"
   ]
  },
  {
   "cell_type": "code",
   "execution_count": null,
   "metadata": {
    "id": "6PWRWgUpuSM3"
   },
   "outputs": [],
   "source": [
    "accuracy_loss_plot(history)"
   ]
  },
  {
   "cell_type": "markdown",
   "metadata": {
    "id": "gom_RJWRudhL"
   },
   "source": [
    "### Explanation of Brief Model Plots\n",
    "\n",
    "- Accuracy plots\n",
    "- Training and Validation plots\n",
    "- loss plots"
   ]
  },
  {
   "cell_type": "markdown",
   "metadata": {
    "id": "zOmpZ39hr_xn"
   },
   "source": [
    "## Deeper Model"
   ]
  },
  {
   "cell_type": "code",
   "execution_count": null,
   "metadata": {
    "id": "FAZCn5HAsEVC"
   },
   "outputs": [],
   "source": [
    "#output softmax layer should have 5 outputs\n",
    "# Building a ConvNet\n",
    "model = models.Sequential()\n",
    "model.add(layers.Conv2D(32, (3, 3), activation='relu', padding='same', input_shape=(28, 28, 1)))\n",
    "model.add(layers.MaxPooling2D((2, 2)))\n",
    "model.add(layers.BatchNormalization())\n",
    "model.add(layers.Conv2D(64, (3, 3), activation='relu', padding='same'))\n",
    "model.add(layers.Dropout(0.25))\n",
    "model.add(layers.MaxPooling2D((2, 2)))\n",
    "model.add(layers.Conv2D(64, (3, 3), activation='relu', padding='same'))\n",
    "model.add(layers.BatchNormalization())\n",
    "model.add(layers.Dropout(0.25))\n",
    "model.add(layers.Flatten())\n",
    "model.add(layers.Dense(64, activation='relu'))\n",
    "model.add(layers.Dense(5, activation='softmax'))"
   ]
  },
  {
   "cell_type": "code",
   "execution_count": null,
   "metadata": {
    "id": "7cAoiWTetXkc"
   },
   "outputs": [],
   "source": [
    "model.summary()"
   ]
  },
  {
   "cell_type": "code",
   "execution_count": null,
   "metadata": {
    "id": "aOeqP0iit6s8"
   },
   "outputs": [],
   "source": [
    "plot_model(model, show_shapes=True, rankdir=\"TD\")"
   ]
  },
  {
   "cell_type": "markdown",
   "metadata": {
    "id": "o_c42p5VuECi"
   },
   "source": [
    "### Description of Deeper Model\n",
    "\n",
    "Lorem ipsum dolor sit amet, consectetur adipiscing elit. Curabitur eget viverra lectus. Ut consequat, magna id finibus condimentum, justo nibh porttitor nisl, in pulvinar est ante eu augue. Cras vitae mi eget nibh tincidunt sagittis vitae at turpis. Cras nec dolor ut est iaculis molestie. Pellentesque risus dui, venenatis vitae dui quis, posuere ornare purus. Sed metus felis, pharetra sed augue id, malesuada dictum nisi. Proin ullamcorper a nulla ut mattis. Fusce efficitur tortor mi, nec ornare nisl iaculis sed. Ut nunc nisl, dignissim id neque sed, maximus fermentum mauris."
   ]
  },
  {
   "cell_type": "code",
   "execution_count": null,
   "metadata": {
    "id": "Cyov9epytbQZ"
   },
   "outputs": [],
   "source": [
    "#with tf.device('/device:GPU:0'):\n",
    "model.compile(optimizer='adam',\n",
    "              loss=tf.keras.losses.SparseCategoricalCrossentropy(from_logits=True),\n",
    "              metrics=['accuracy'])\n",
    "  history_deeper = model.fit(X_train, y_train, epochs=80, \n",
    "                    validation_data=(X_val, y_val), batch_size=128)"
   ]
  },
  {
   "cell_type": "code",
   "execution_count": null,
   "metadata": {
    "id": "Tbt-tYR-vbG2"
   },
   "outputs": [],
   "source": [
    "accuracy_loss_plot(history_deeper)"
   ]
  },
  {
   "cell_type": "markdown",
   "metadata": {
    "id": "Rs7jNUpsvdra"
   },
   "source": [
    "### Explanation of deeper Model plots\n",
    "\n",
    "- Accuracy \n",
    "- train \n",
    "- validation \n",
    "- losses \n",
    "- other plots"
   ]
  },
  {
   "cell_type": "markdown",
   "metadata": {
    "id": "XNrvDO68xqwd"
   },
   "source": [
    "### Data Augmentation\n",
    "\n",
    "Should we augment validation\n",
    "\n",
    "#### Types of Augmentation\n",
    "1. Rotation\n",
    "2. Zoom\n",
    "3. Shear\n",
    "4. Flip"
   ]
  },
  {
   "cell_type": "code",
   "execution_count": null,
   "metadata": {
    "id": "g-X95klExsMP"
   },
   "outputs": [],
   "source": [
    "datagen = ImageDataGenerator(\n",
    "        rotation_range = 8,  # randomly rotate images in the range (degrees, 0 to 180)\n",
    "        zoom_range = 0.1, # Randomly zoom image \n",
    "        shear_range = 0.3,# shear angle in counter-clockwise direction in degrees  \n",
    "        width_shift_range=0.08,  # randomly shift images horizontally (fraction of total width)\n",
    "        height_shift_range=0.08,  # randomly shift images vertically (fraction of total height)\n",
    "        vertical_flip=True)  # randomly flip images"
   ]
  },
  {
   "cell_type": "code",
   "execution_count": null,
   "metadata": {
    "id": "zRbHEumDx5pP"
   },
   "outputs": [],
   "source": [
    "datagen.fit(X_train)"
   ]
  },
  {
   "cell_type": "code",
   "execution_count": null,
   "metadata": {
    "id": "JqPcdP_QyASD"
   },
   "outputs": [],
   "source": [
    "%%time\n",
    "# define number of rows & columns\n",
    "num_row = 2\n",
    "num_col = 8\n",
    "num= num_row*num_col\n",
    "\n",
    "# plot after\n",
    "fig2, axes2 = plt.subplots(num_row, num_col, figsize=(1.5*num_col,2*num_row))\n",
    "for X, Y in datagen.flow(X_train,y_train,batch_size=num,shuffle=False):\n",
    "     for i in range(0, num):\n",
    "          ax = axes2[i//num_col, i%num_col]\n",
    "          ax.imshow(X[i].reshape(28,28), cmap='gray_r')\n",
    "          ax.set_title('Label: {}'.format(int(Y[i])))\n",
    "     break\n",
    "plt.tight_layout()\n",
    "plt.show()"
   ]
  },
  {
   "cell_type": "code",
   "execution_count": null,
   "metadata": {
    "id": "3W5GCRPjyBWE"
   },
   "outputs": [],
   "source": [
    "%%time\n",
    "batch_size = 128\n",
    "epochs = 200\n",
    "reduce_lr = LearningRateScheduler(lambda x: 1e-3 * 0.9 ** x)\n",
    "with tf.device('/device:GPU:0'):\n",
    "  # Fit the Model\n",
    "  history = model.fit(datagen.flow(X_train, y_train, batch_size = batch_size), epochs = epochs, \n",
    "                              validation_data = (X_val, y_val), verbose=2, \n",
    "                              steps_per_epoch=X_train.shape[0] // batch_size,\n",
    "                              callbacks = [reduce_lr])"
   ]
  },
  {
   "cell_type": "code",
   "execution_count": null,
   "metadata": {
    "id": "F9pmyQ-vyL0O"
   },
   "outputs": [],
   "source": [
    "%%time\n",
    "#with tf.device('/device:GPU:0'):\n",
    "test_loss, test_acc = model.evaluate(X_test,  y_test, verbose=2)\n",
    "print(test_acc)"
   ]
  },
  {
   "cell_type": "code",
   "execution_count": null,
   "metadata": {
    "id": "rU15ppOZyMus"
   },
   "outputs": [],
   "source": [
    "accuracy_loss_plot(history)"
   ]
  },
  {
   "cell_type": "markdown",
   "metadata": {
    "id": "7bb2sLpSyRP7"
   },
   "source": [
    "Discussion on Data Augmentation Perfomance\n",
    "\n",
    "Why is not working?"
   ]
  },
  {
   "cell_type": "markdown",
   "metadata": {
    "id": "btZyd-Ls0A5U"
   },
   "source": [
    "### Improving Accuracy of Deeper Model\n",
    "#### Elastic distortion\n",
    "\n",
    "#### Cosine Annealing\n",
    "\n",
    "#### Adamax \n",
    "\n",
    "https://www.kaggle.com/babbler/inception-model-for-fashion-mnist\n",
    "\n",
    "https://www.kaggle.com/babbler/mnist-data-augmentation-with-elastic-distortion\n",
    "\n",
    "https://www.kaggle.com/residentmario/keras-optimizers"
   ]
  },
  {
   "cell_type": "code",
   "execution_count": null,
   "metadata": {
    "id": "M-HKVj6s0OFS"
   },
   "outputs": [],
   "source": [
    "\n",
    "def elastic_transform(image, alpha_range, sigma, random_state=None):\n",
    "    \"\"\"Elastic deformation of images as described in [Simard2003]_.\n",
    "    .. [Simard2003] Simard, Steinkraus and Platt, \"Best Practices for\n",
    "       Convolutional Neural Networks applied to Visual Document Analysis\", in\n",
    "       Proc. of the International Conference on Document Analysis and\n",
    "       Recognition, 2003.\n",
    "       \n",
    "   # Arguments\n",
    "       image: Numpy array with shape (height, width, channels). \n",
    "       alpha_range: Float for fixed value or [lower, upper] for random value from uniform distribution.\n",
    "           Controls intensity of deformation.\n",
    "       sigma: Float, sigma of gaussian filter that smooths the displacement fields.\n",
    "       random_state: `numpy.random.RandomState` object for generating displacement fields.\n",
    "    \"\"\"\n",
    "    \n",
    "    if random_state is None:\n",
    "        random_state = np.random.RandomState(None)\n",
    "        \n",
    "    if np.isscalar(alpha_range):\n",
    "        alpha = alpha_range\n",
    "    else:\n",
    "        alpha = np.random.uniform(low=alpha_range[0], high=alpha_range[1])\n",
    "        shape = image.shape\n",
    "    dx = gaussian_filter((random_state.rand(*shape) * 2 - 1), sigma) * alpha\n",
    "    dy = gaussian_filter((random_state.rand(*shape) * 2 - 1), sigma) * alpha\n",
    "\n",
    "    x, y, z = np.meshgrid(np.arange(shape[0]), np.arange(shape[1]), np.arange(shape[2]), indexing='ij')\n",
    "    indices = np.reshape(x+dx, (-1, 1)), np.reshape(y+dy, (-1, 1)), np.reshape(z, (-1, 1))\n",
    "\n",
    "    return map_coordinates(image, indices, order=1, mode='reflect').reshape(shape)"
   ]
  },
  {
   "cell_type": "code",
   "execution_count": null,
   "metadata": {
    "id": "ukIMqgPM0wJh"
   },
   "outputs": [],
   "source": [
    "class CosineAnneal(tf.keras.callbacks.Callback):\n",
    "    \"\"\"\"Cosine annealing with warm restarts.\n",
    "    \n",
    "    As described in section 3 of \"SGDR: Stochastic Gradient Descent with Warm Restarts\" (Loshchilov & Hutter 2017).\n",
    "    \n",
    "    # Arguments\n",
    "        max_lr: Maximum value of learning rate range.\n",
    "        min_lr: Minimum value of learning rate range.\n",
    "        T: Number of epochs between warm restarts.\n",
    "        T_mul: At warm restarts, multiply `T` by this amount.\n",
    "    \"\"\"\n",
    "    def __init__(self, max_lr, min_lr, T, T_mul=1):\n",
    "        self.max_lr = max_lr\n",
    "        self.min_lr = min_lr\n",
    "        self.T = T\n",
    "        self.T_cur = 0\n",
    "        self.T_mul = T_mul\n",
    "        self.step = 0\n",
    "        \n",
    "    def on_batch_begin(self, batch, logs=None):\n",
    "        if self.T <= self.T_cur:\n",
    "            self.T *= self.T_mul\n",
    "            self.T_cur = 0\n",
    "            self.step = 0\n",
    "        lr = self.min_lr + 0.5 * (self.max_lr - self.min_lr) * (1 + np.cos(self.T_cur * np.pi / self.T))        \n",
    "        K.set_value(self.model.optimizer.lr, lr)\n",
    "        # use self.step to avoid floating point arithmetic errors at warm restarts\n",
    "        self.step += 1\n",
    "        self.T_cur = self.step / self.params['steps']\n",
    "\n",
    "    def on_epoch_end(self, epoch, logs=None):\n",
    "        logs = logs or {}\n",
    "        logs['lr'] = K.get_value(self.model.optimizer.lr)"
   ]
  },
  {
   "cell_type": "code",
   "execution_count": null,
   "metadata": {
    "id": "52CssCMc0039"
   },
   "outputs": [],
   "source": [
    "#using Adamax optimizer\n",
    "\n",
    "model.compile(loss=tf.keras.losses.SparseCategoricalCrossentropy(from_logits=True),\n",
    "              optimizer=optimizers.Adamax(lr=0.006, beta_1=0.49, beta_2=0.999),\n",
    "              metrics=['accuracy'])"
   ]
  },
  {
   "cell_type": "code",
   "execution_count": null,
   "metadata": {
    "id": "ziIYN0Tr0330"
   },
   "outputs": [],
   "source": [
    "batch_size = 64\n",
    "epochs = 100\n",
    "\n",
    "# setup callbacks\n",
    "annealer = CosineAnneal(max_lr=0.006, min_lr=0.001, T=10, T_mul=1)\n",
    "\n",
    "\n",
    "# define data augmentations\n",
    "datagen = ImageDataGenerator(\n",
    "    height_shift_range=2,\n",
    "    horizontal_flip=True,\n",
    "    preprocessing_function=lambda x: elastic_transform(x, alpha_range=[10, 12], sigma=4)\n",
    ")\n",
    "\n"
   ]
  },
  {
   "cell_type": "code",
   "execution_count": null,
   "metadata": {},
   "outputs": [],
   "source": [
    "%%time\n",
    "# train model\n",
    "#with tf.device('/device:GPU:0'):\n",
    "history = model.fit_generator(\n",
    "    datagen.flow(X_train, y_train, batch_size=batch_size, shuffle=True),\n",
    "    epochs=epochs,\n",
    "    steps_per_epoch=(len(y_train) - 1) // batch_size + 1,\n",
    "    validation_data=(X_val, y_val),\n",
    "    callbacks=[annealer])\n"
   ]
  },
  {
   "cell_type": "code",
   "execution_count": null,
   "metadata": {
    "id": "Z8nvTPsl08Im"
   },
   "outputs": [],
   "source": [
    "#test accuracy of model brief with augmented data\n",
    "#with tf.device('/device:GPU:0'):\n",
    "test_loss, test_acc = model.evaluate(X_test,  y_test, verbose=2)\n",
    "print(\"Test Accuracy of Brief Model with Augmented Data\", test_acc)"
   ]
  },
  {
   "cell_type": "code",
   "execution_count": null,
   "metadata": {
    "id": "PMdc9s_21Bv0"
   },
   "outputs": [],
   "source": [
    "accuracy_loss_plot(history)"
   ]
  },
  {
   "cell_type": "markdown",
   "metadata": {
    "id": "-NgzSpIR1KF9"
   },
   "source": [
    "### Discussion of Accuracy Improvement techniques\n",
    "\n",
    "How the techniques prevented overfitting.\n",
    "\n",
    "- Train and test plots\n",
    "- Loss plots\n",
    "- Accuracy plots\n",
    "- Actual vs Predicted Class Plots\n",
    "- Confusion Matrix"
   ]
  },
  {
   "cell_type": "markdown",
   "metadata": {
    "id": "T9AOC05g1uQL"
   },
   "source": [
    "### Hyperparameter Choices\n",
    "\n",
    "- Number of Epochs\n",
    "- Optimizers\n",
    "- Batch size\n",
    "- Learning Rate, talk about the scheduler\n"
   ]
  },
  {
   "cell_type": "markdown",
   "metadata": {
    "id": "U0KhMVPR2bpy"
   },
   "source": [
    "## Transfer Learning\n",
    "\n",
    "Discussion and Definition\n",
    "\n",
    "- Resnet Definition\n",
    "- VGGNet Definition"
   ]
  },
  {
   "cell_type": "code",
   "execution_count": null,
   "metadata": {
    "id": "_U_aAwdL2rZ6"
   },
   "outputs": [],
   "source": []
  }
 ],
 "metadata": {
  "accelerator": "GPU",
  "colab": {
   "authorship_tag": "ABX9TyMy4zCbZiLhJqZ2XJ8oHyUT",
   "collapsed_sections": [],
   "name": "Report_mnist.ipynb",
   "provenance": []
  },
  "kernelspec": {
   "display_name": "Python 3",
   "language": "python",
   "name": "python3"
  },
  "language_info": {
   "codemirror_mode": {
    "name": "ipython",
    "version": 3
   },
   "file_extension": ".py",
   "mimetype": "text/x-python",
   "name": "python",
   "nbconvert_exporter": "python",
   "pygments_lexer": "ipython3",
   "version": "3.8.6"
  }
 },
 "nbformat": 4,
 "nbformat_minor": 1
}
